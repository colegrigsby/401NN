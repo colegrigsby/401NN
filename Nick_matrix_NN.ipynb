{
 "cells": [
  {
   "cell_type": "code",
   "execution_count": 114,
   "metadata": {
    "collapsed": true
   },
   "outputs": [],
   "source": [
    "import pandas as pd\n",
    "import numpy as np \n",
    "from util import get_split_cols, get_split_frame\n",
    "from sklearn.preprocessing import StandardScaler"
   ]
  },
  {
   "cell_type": "code",
   "execution_count": 462,
   "metadata": {
    "collapsed": true
   },
   "outputs": [],
   "source": [
    "train = pd.read_csv(\"/data/project2/train.csv\")\n",
    "\n",
    "test = pd.read_csv(\"/data/project2/test.csv\")"
   ]
  },
  {
   "cell_type": "code",
   "execution_count": 463,
   "metadata": {
    "collapsed": true
   },
   "outputs": [],
   "source": [
    "num_train_cols, cat_train_cols = get_split_cols(train)\n",
    "num_test_cols, cat_test_cols = get_split_cols(test)"
   ]
  },
  {
   "cell_type": "code",
   "execution_count": 464,
   "metadata": {
    "collapsed": true
   },
   "outputs": [],
   "source": [
    "assert(len(num_train_cols)==len(num_test_cols))\n",
    "assert(len(cat_train_cols)==len(cat_test_cols))\n"
   ]
  },
  {
   "cell_type": "code",
   "execution_count": 465,
   "metadata": {
    "collapsed": true
   },
   "outputs": [],
   "source": [
    "num_train_df, cat_train_df = get_split_frame(train)\n",
    "num_test_df, cat_test_df = get_split_frame(test)"
   ]
  },
  {
   "cell_type": "code",
   "execution_count": 573,
   "metadata": {
    "collapsed": false
   },
   "outputs": [
    {
     "data": {
      "text/plain": [
       "33235"
      ]
     },
     "execution_count": 573,
     "metadata": {},
     "output_type": "execute_result"
    }
   ],
   "source": [
    "y = num_train_df['Total Household Income']\n",
    "num_train_df = num_train_df.drop([\"Total Household Income\"], axis=1)\n",
    "len(num_train_df)"
   ]
  },
  {
   "cell_type": "code",
   "execution_count": 544,
   "metadata": {
    "collapsed": false
   },
   "outputs": [],
   "source": [
    "class Layer(object):\n",
    "    def __init__(self, num_nodes, num_node_in_prev_layer, eta, activation='relu'):\n",
    "        self.output = np.ones(num_nodes)\n",
    "        self.weights = np.random.randn(num_nodes, num_node_in_prev_layer)\n",
    "#         print(self.weights)\n",
    "#         print(\"dim\", self.weights.shape)\n",
    "        self.deltas = np.ones(num_nodes)\n",
    "        self.activation_type = activation\n",
    "        self.eta = eta\n",
    "        \n",
    "    def forward(self, inputs, no_act=False):\n",
    "#         print(\"inputs\", inputs)\n",
    "#         print(\"weights\", self.weights)\n",
    "        self.inputs = inputs\n",
    "        self.sum_w_h = np.dot(self.weights, self.inputs)\n",
    "#         print(\"sum: \", self.sum_w_h)\n",
    "        self.output = self.activation(self.sum_w_h)\n",
    "        #print(\"out: \", self.output)\n",
    "        \n",
    "    def activation(self, sum_w_h):\n",
    "        if self.activation_type == \"sigmoid\":\n",
    "            return 1 / (1 + np.exp(-sum_w_h))\n",
    "        if self.activation_type == \"relu\":\n",
    "            return np.maximum(sum_w_h, 0)\n",
    "        return sum_w_h\n",
    "    \n",
    "    def activation_prime(self, fx):\n",
    "        if self.activation_type == \"sigmoid\": \n",
    "            return fx*(1 - fx)\n",
    "        if self.activation_type == \"relu\":\n",
    "            return np.sign(fx)\n",
    "        return -100\n",
    "        \n",
    "    def backward(self, prev_deltas):\n",
    "#         print(\"prev: \", prev_deltas)\n",
    "#         print(\"weights: \", self.weights.T)\n",
    "#         print(\"inputs T: \", self.inputs.T)\n",
    "#         print(\"output: \", self.output)\n",
    "#         print(\"sum: \", self.sum_w_h)\n",
    "        if self.activation_type != None:\n",
    "            a_prime = self.activation_prime(self.output)\n",
    "#             print(\"a prime: \",  a_prime)\n",
    "            self.delta = np.dot(prev_deltas * a_prime, self.inputs.T)\n",
    "            \n",
    "#             print(\"delta: \", self.delta)\n",
    "            self.next_delta = np.dot(self.weights.T, prev_deltas * a_prime)\n",
    "#             print(\"next: \", self.next_delta)\n",
    "        else:\n",
    "            \n",
    "            #print(\"inputs: \", self.inputs)\n",
    "            #print(type(self.inputs))\n",
    "\n",
    "            self.delta = np.dot(prev_deltas, self.inputs.T)\n",
    "            self.next_delta = np.dot(self.weights.T, prev_deltas)\n",
    "            \n",
    "#         print(\"delta: \", self.next_delta)\n",
    "#         print(\"next: \", self.next_delta)\n",
    "        self.update()\n",
    "\n",
    "\n",
    "            \n",
    "    def update(self):\n",
    "        #print(\"deltas\", self.delta)\n",
    "        #print(\"change:\", self.weights - self.eta*self.delta)\n",
    "        self.weights = self.weights - self.eta*self.delta\n",
    "        #print(self.weights)\n",
    "#             self.deltas = \n",
    "#             self.deltas = self.weights * next_deltas\n",
    "#             self.weights -= self.eta * self.inputs.T * next_deltas \n",
    "#         else:\n",
    "#             self.deltas = self.weights * next_deltas\n",
    "#             self.deltas = self.deltas * self.d_activation(self.i_w)\n",
    "#             self.weights -= self.eta * np.matrix(self.inputs).T * self.d_activation(self.i_w) * next_deltas\n",
    "\n",
    "class NeuralNetwork(object):\n",
    "    \n",
    "    def __init__(self, num_hidden_layers, num_nodes_per_layer, num_inputs, num_outputs, eta=0.00001, act='relu'):\n",
    "        #assert(num_layers == len(num_nodes_per_layer))\n",
    "        #num_nodes_per_layer = [num_inputs] + num_nodes_per_layer + [num_outputs]\n",
    "        #print(num_nodes_per_layer)\n",
    "        #self.layers = [Layer(num_nodes_per_layer[i], num_nodes_per_layer[i-1], eta, act) for i in range(1, num_layers+2)]\n",
    "        self.network = [Layer(num_nodes=num_nodes_per_layer, num_node_in_prev_layer=num_inputs, eta=eta, activation=act)]\n",
    "        self.network += [Layer(num_nodes=num_nodes_per_layer, num_node_in_prev_layer=num_nodes_per_layer, eta=eta, activation=act) for _ in range(num_hidden_layers - 1)]\n",
    "        self.network += [Layer(num_nodes=num_outputs, num_node_in_prev_layer=num_nodes_per_layer,eta=eta, activation=None)]\n",
    "        #print(len(self.network))\n",
    "        self.eta = eta \n",
    "        \n",
    "    def forward(self, x):\n",
    "        for layer in self.network:\n",
    "            layer.forward(x)\n",
    "            x = layer.output\n",
    "            #print(\"x\", x)\n",
    "        #print(\"outputsss: \", self.network[1].output)\n",
    "            #print(self.network[1].output.shape)\n",
    "        #self.layers[-1].forward(x, True)\n",
    "            \n",
    "    def backward(self, expected):\n",
    "        #print(self.network[-1].output)\n",
    "        deltas = self.network[-1].output - expected\n",
    "#         self.layers[-1].backward(deltas, True)\n",
    "#         deltas = self.layers[-1].deltas\n",
    "        for layer in reversed(self.network):\n",
    "            layer.backward(deltas)\n",
    "            #layer.update()\n",
    "            deltas = layer.next_delta\n",
    "            \n",
    "            \n",
    "    def train(self, x, y, epoch):\n",
    "        prev_err = 0 \n",
    "        for i in range(epoch):\n",
    "            self.sum_error = 0 \n",
    "            count = 0\n",
    "            for xi, yi in zip(x,y):\n",
    "                #print(np.array([xi]).T)\n",
    "                #return\n",
    "                self.forward(np.array([xi]).T)\n",
    "                self.backward(np.array([yi]))\n",
    "                #self.update()\n",
    "                #print(self.network[-1].output, yi)\n",
    "                self.sum_error += (self.network[-1].output - yi)**2\n",
    "                #print(i)\n",
    "                #if count%10000 == 0:\n",
    "                #    print(\"Sum Error: \", self.sum_error)    \n",
    "                count += 1\n",
    "            print(\"Sum Error: \", self.sum_error)    \n",
    "\n",
    "\n",
    "            \n",
    "            \n",
    "    def predict(self, x):\n",
    "        self.forward(x)\n",
    "        return self.network[-1].output"
   ]
  },
  {
   "cell_type": "code",
   "execution_count": 547,
   "metadata": {
    "collapsed": false
   },
   "outputs": [
    {
     "name": "stdout",
     "output_type": "stream",
     "text": [
      "Sum Error:  [[ 48434.64205698]]\n",
      "Sum Error:  [[  1.91511762e-26]]\n",
      "Sum Error:  [[  1.91511762e-26]]\n",
      "Sum Error:  [[  1.91511762e-26]]\n"
     ]
    },
    {
     "data": {
      "text/plain": [
       "array([[ 3.19064118]])"
      ]
     },
     "execution_count": 547,
     "metadata": {},
     "output_type": "execute_result"
    }
   ],
   "source": [
    "# l = Layer(1,3, 0.005, None)\n",
    "# l.forward(np.array([2,2,2]))\n",
    "# l.backward(np.array([1,1,1]), [6])\n",
    "# l.update()\n",
    "data = np.array([[1, 1],[2, 2],[3, 3],[4, 4],[5, 5],[6, 6],[7, 7],[8, 8],[9, 9],[10, 10],[11, 11],[12, 12],[13, 13],[14, 14],[15, 15],[16, 16],[17, 17],[18, 18],[19, 19],[20, 20],[21, 21],[22, 22],[23, 23],[24, 24],[25, 25],[26, 26],[27, 27],[28, 28],[29, 29],[30, 30],[31, 31],[32, 32],[33, 33],[34, 34],[35, 35],[36, 36],[37, 37],[38, 38],[39, 39],[40, 40],[41, 41],[42, 42],[43, 43],[44, 44],[45, 45],[46, 46],[47, 47],[48, 48],[49, 49],[50, 50],[51, 51],[52, 52],[53, 53],[54, 54],[55, 55],[56, 56],[57, 57],[58, 58],[59, 59],[60, 60],[61, 61],[62, 62],[63, 63],[64, 64],[65, 65],[66, 66],[67, 67],[68, 68],[69, 69],[70, 70],[71, 71],[72, 72],[73, 73],[74, 74],[75, 75],[76, 76],[77, 77],[78, 78],[79, 79],[80, 80],[81, 81],[82, 82],[83, 83],[84, 84],[85, 85],[86, 86],[87, 87],[88, 88],[89, 89],[90, 90],[91, 91],[92, 92],[93, 93],[94, 94],[95, 95],[96, 96],[97, 97],[98, 98],[99, 99],[100, 100]])\n",
    "expected = np.array([2,4,6,8,10,12,14,16,18,20,22,24,26,28,30,32,34,36,38,40,42,44,46,48,50,52,54,56,58,60,62,64,66,68,70,72,74,76,78,80,82,84,86,88,90,92,94,96,98,100,102,104,106,108,110,112,114,116,118,120,122,124,126,128,130,132,134,136,138,140,142,144,146,148,150,152,154,156,158,160,162,164,166,168,170,172,174,176,178,180,182,184,186,188,190,192,194,196,198,200])\n",
    "nn = NeuralNetwork(1, 3, 2, 1)\n",
    "data.T\n",
    "#nn.forward(data.T)\n",
    "#nn.backward(expected)\n",
    "nn.train(data, expected, 4)\n",
    "nn.predict(np.array([[3,2]]).T)"
   ]
  },
  {
   "cell_type": "code",
   "execution_count": 548,
   "metadata": {
    "collapsed": false
   },
   "outputs": [
    {
     "data": {
      "text/plain": [
       "array([[ 15.25828758]])"
      ]
     },
     "execution_count": 548,
     "metadata": {},
     "output_type": "execute_result"
    }
   ],
   "source": [
    "nn.predict(np.array([[3,6]]).T)"
   ]
  },
  {
   "cell_type": "code",
   "execution_count": 549,
   "metadata": {
    "collapsed": true
   },
   "outputs": [],
   "source": [
    "data = np.array([[1, 1]])#,[2, 2],[3, 3],[4, 4],[5, 5],[6, 6],[7, 7],[8, 8],[9, 9],[10, 10],[11, 11],[12, 12],[13, 13],[14, 14],[15, 15],[16, 16],[17, 17],[18, 18],[19, 19],[20, 20],[21, 21],[22, 22],[23, 23],[24, 24],[25, 25],[26, 26],[27, 27],[28, 28],[29, 29],[30, 30],[31, 31],[32, 32],[33, 33],[34, 34],[35, 35],[36, 36],[37, 37],[38, 38],[39, 39],[40, 40],[41, 41],[42, 42],[43, 43],[44, 44],[45, 45],[46, 46],[47, 47],[48, 48],[49, 49],[50, 50],[51, 51],[52, 52],[53, 53],[54, 54],[55, 55],[56, 56],[57, 57],[58, 58],[59, 59],[60, 60],[61, 61],[62, 62],[63, 63],[64, 64],[65, 65],[66, 66],[67, 67],[68, 68],[69, 69],[70, 70],[71, 71],[72, 72],[73, 73],[74, 74],[75, 75],[76, 76],[77, 77],[78, 78],[79, 79],[80, 80],[81, 81],[82, 82],[83, 83],[84, 84],[85, 85],[86, 86],[87, 87],[88, 88],[89, 89],[90, 90],[91, 91],[92, 92],[93, 93],[94, 94],[95, 95],[96, 96],[97, 97],[98, 98],[99, 99],[100, 100]])\n",
    "expected = np.array([[2]])#,4,6,8,10,12,14,16,18,20,22,24,26,28,30,32,34,36,38,40,42,44,46,48,50,52,54,56,58,60,62,64,66,68,70,72,74,76,78,80,82,84,86,88,90,92,94,96,98,100,102,104,106,108,110,112,114,116,118,120,122,124,126,128,130,132,134,136,138,140,142,144,146,148,150,152,154,156,158,160,162,164,166,168,170,172,174,176,178,180,182,184,186,188,190,192,194,196,198,200])"
   ]
  },
  {
   "cell_type": "code",
   "execution_count": 593,
   "metadata": {
    "collapsed": false
   },
   "outputs": [
    {
     "name": "stderr",
     "output_type": "stream",
     "text": [
      "/opt/conda/lib/python3.5/site-packages/sklearn/utils/validation.py:429: DataConversionWarning: Data with input dtype int64 was converted to float64 by StandardScaler.\n",
      "  warnings.warn(msg, _DataConversionWarning)\n"
     ]
    },
    {
     "name": "stdout",
     "output_type": "stream",
     "text": [
      "Sum Error:  [[ 1359070.94910271]]\n",
      "Sum Error:  [[ 20241.90607037]]\n",
      "Sum Error:  [[ 15975.25070595]]\n",
      "Sum Error:  [[ 14793.62425144]]\n",
      "Sum Error:  [[ 14203.67313629]]\n",
      "Sum Error:  [[ 13824.53932989]]\n",
      "Sum Error:  [[ 13540.48178955]]\n",
      "Sum Error:  [[ 13306.85818335]]\n",
      "Sum Error:  [[ 13103.19580359]]\n",
      "Sum Error:  [[ 12921.29494061]]\n",
      "Sum Error:  [[ 12755.85591777]]\n",
      "Sum Error:  [[ 12602.52085026]]\n",
      "Sum Error:  [[ 12459.60697202]]\n",
      "Sum Error:  [[ 12325.89716661]]\n",
      "Sum Error:  [[ 12199.8541182]]\n",
      "Sum Error:  [[ 12082.20262054]]\n",
      "Sum Error:  [[ 11965.30860911]]\n",
      "Sum Error:  [[ 11854.74793299]]\n",
      "Sum Error:  [[ 11754.43701322]]\n",
      "Sum Error:  [[ 11667.1423213]]\n"
     ]
    },
    {
     "data": {
      "text/plain": [
       "array([[-0.14554512]])"
      ]
     },
     "execution_count": 593,
     "metadata": {},
     "output_type": "execute_result"
    }
   ],
   "source": [
    "scalar_x = StandardScaler()\n",
    "scalar_y = StandardScaler()\n",
    "\n",
    "x = scalar_x.fit_transform(num_train_df.values)\n",
    "yy = scalar_y.fit_transform(y.values.reshape(-1,1))\n",
    "#yy =  y/1000000.0\n",
    "#inputs = len(num_train_df.columns)\n",
    "\n",
    "#num_nodes = [inputs] * 1 \n",
    "\n",
    "#n = NeuralNetwork(num_layers = 1, num_nodes_per_layer= num_nodes, num_inputs=inputs,\n",
    "#                  num_outputs=1, eta=.00005, act='relu')\n",
    "#n.train(x, yy, 100)\n",
    "nn = NeuralNetwork(1, 46, 45, 1, .0001, \"relu\")\n",
    "data.T\n",
    "#nn.forward(data.T)\n",
    "#nn.backward(expected)\n",
    "nn.train(x, yy, 20)\n",
    "nn.predict(np.array([x[0]]).T)"
   ]
  },
  {
   "cell_type": "code",
   "execution_count": 1075,
   "metadata": {
    "collapsed": false
   },
   "outputs": [
    {
     "name": "stdout",
     "output_type": "stream",
     "text": [
      "[ 6664725.57242802]\n",
      "[[ 204057.56275632]]\n",
      "115835\n"
     ]
    }
   ],
   "source": [
    "print(scalar_y.inverse_transform([(500.31)**.5]))\n",
    "print(scalar_y.inverse_transform(n.predict(x[0])))\n",
    "#print(n.predict(x[0]) * 1000000)\n",
    "print(y[0])\n"
   ]
  },
  {
   "cell_type": "code",
   "execution_count": 577,
   "metadata": {
    "collapsed": false
   },
   "outputs": [
    {
     "data": {
      "text/plain": [
       "(array([ 0.15690151, -0.06041136,  0.84197899,  1.40905177,  1.87447969,\n",
       "        -0.1435758 , -0.76934503,  0.88236583,  0.49253331, -0.55458203,\n",
       "        -0.43245302, -0.57065945, -0.41820001, -0.49833125, -0.44738637,\n",
       "        -0.24877036, -0.49785752, -0.47470829, -0.3570236 , -0.39739303,\n",
       "        -0.00952989,  0.19745053, -0.05610169,  0.82332918,  0.59968097,\n",
       "         2.28583399, -0.25800044,  0.6347589 ,  5.25789187,  0.69847598,\n",
       "         0.19338255,  0.34924226, -1.32532542, -0.77362673, -0.41673092,\n",
       "        -0.7357341 ,  1.41790101, -0.28881982, -0.23192331, -0.21710951,\n",
       "         0.05967282, -0.42682999, -0.38439565, -0.10374799, -0.52050519]),\n",
       " array([-0.45803026]))"
      ]
     },
     "execution_count": 577,
     "metadata": {},
     "output_type": "execute_result"
    }
   ],
   "source": [
    "x[0], yy[0]"
   ]
  },
  {
   "cell_type": "code",
   "execution_count": null,
   "metadata": {
    "collapsed": true
   },
   "outputs": [],
   "source": []
  }
 ],
 "metadata": {
  "kernelspec": {
   "display_name": "Python 3",
   "language": "python",
   "name": "python3"
  },
  "language_info": {
   "codemirror_mode": {
    "name": "ipython",
    "version": 3
   },
   "file_extension": ".py",
   "mimetype": "text/x-python",
   "name": "python",
   "nbconvert_exporter": "python",
   "pygments_lexer": "ipython3",
   "version": "3.5.2"
  }
 },
 "nbformat": 4,
 "nbformat_minor": 2
}
