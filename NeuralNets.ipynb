{
 "cells": [
  {
   "cell_type": "markdown",
   "metadata": {},
   "source": [
    "# Assignment 3 Neural Networks\n",
    "#### Nick Russo"
   ]
  },
  {
   "cell_type": "code",
   "execution_count": 11,
   "metadata": {
    "collapsed": true
   },
   "outputs": [],
   "source": [
    "import numpy as np\n",
    "import pandas as pd\n",
    "import matplotlib.pyplot as plt\n",
    "from sklearn import svm, datasets\n",
    "\n",
    "%matplotlib inline"
   ]
  },
  {
   "cell_type": "markdown",
   "metadata": {},
   "source": [
    "# Datasets\n",
    "* Breast Cancer\n",
    "* Blood Bank\n",
    "* Iris"
   ]
  },
  {
   "cell_type": "markdown",
   "metadata": {},
   "source": [
    "## Breast Cancer Data Parsing\n",
    "* Contains characteristics of patients and tumor information\n",
    "* Classification: Binary"
   ]
  },
  {
   "cell_type": "code",
   "execution_count": 12,
   "metadata": {
    "collapsed": false
   },
   "outputs": [],
   "source": [
    "def cancer_setup_data():\n",
    "    frame = pd.read_csv('breastCancer.csv')\n",
    "    cancer_concavity = ['concavity_mean', 'concave_points_mean', 'diagnosis']\n",
    "    frame = frame[cancer_concavity]\n",
    "    frame = frame.dropna()\n",
    "    diag = frame.diagnosis == \"M\"\n",
    "    frame.diagnosis = diag.apply(lambda res : 1 if res else 0)\n",
    "    return frame\n",
    "cancer_frame = cancer_setup_data()\n",
    "\n"
   ]
  },
  {
   "cell_type": "markdown",
   "metadata": {},
   "source": [
    "## Transfusion Blood Bank Data\n",
    "* Independent variables: information about prospective blood donors.\n",
    "* Dependent varaibles: Whether the person donated blood.\n",
    "* Classification: Binary"
   ]
  },
  {
   "cell_type": "code",
   "execution_count": 13,
   "metadata": {
    "collapsed": false
   },
   "outputs": [],
   "source": [
    "def blood_bank_setup_data():\n",
    "    frame = pd.read_csv('transfusion.csv')\n",
    "    frame = frame.dropna()\n",
    "    frame = frame[[\"Recency\",\"Frequency\", \"Result\"]]\n",
    "    frame.Result = frame.Result.apply(lambda val : 1 if val == 1 else 0)\n",
    "    return frame\n",
    "bb_frame = blood_bank_setup_data()"
   ]
  },
  {
   "cell_type": "markdown",
   "metadata": {},
   "source": [
    "## Iris\n",
    "* Independent variables: Sepal width, Sepal height\n",
    "* Dependent variables: species\n",
    "* Classification: binary, only using two species"
   ]
  },
  {
   "cell_type": "code",
   "execution_count": 14,
   "metadata": {
    "collapsed": false
   },
   "outputs": [],
   "source": [
    "iris = datasets.load_iris()\n",
    "iris_frame = pd.DataFrame(data= np.c_[iris.data[:, :2], iris['target']],\n",
    "                     columns= iris.feature_names[:2] + ['target'])\n",
    "iris_frame = iris_frame[iris_frame.target <= 1]\n",
    "iris_frame.target = iris_frame.target.apply(lambda val : 1 if val == 1 else 0)"
   ]
  },
  {
   "cell_type": "markdown",
   "metadata": {},
   "source": [
    "# Neural Network\n",
    "* Nueral Network and Neuron object to help keep state for."
   ]
  },
  {
   "cell_type": "code",
   "execution_count": 19,
   "metadata": {
    "collapsed": false
   },
   "outputs": [],
   "source": [
    "class Neuron(object):\n",
    "    def __init__(self, weights):\n",
    "        self.output = None\n",
    "        self.delta = None\n",
    "        self.weights = weights\n",
    "\n",
    "class NeuralNetwork(object):\n",
    "    def __init__(self, num_inputs, num_hidden, num_outputs):\n",
    "        self.outputs = None\n",
    "        self.hidden_index = 0\n",
    "        self.output_index = 1\n",
    "        self.sum_error = 0\n",
    "        self.num_hidden = num_hidden\n",
    "        self.num_outputs = num_outputs\n",
    "        self.hidden_layer_section = self.create_randomized_layer_section(num_inputs, num_hidden)\n",
    "        self.output_layer_section = self.create_randomized_layer_section(num_inputs, num_outputs)\n",
    "        self.network = [self.hidden_layer_section, self.output_layer_section]\n",
    "        \n",
    "    def create_randomized_layer_section(self, num_inputs, num_layers):\n",
    "        return [Neuron(np.random.rand(num_inputs+1)) for idx in range(num_layers)]\n",
    "            \n",
    "    def calc_a_j(self, neuron, x_i):\n",
    "        return sum(neuron.weights*x_i)\n",
    "    \n",
    "    def calc_z_j(self, a_j):\n",
    "        return 1.0 / (1.0 + np.exp(-a_j))\n",
    "    \n",
    "    def calc_y_k(self, s):\n",
    "        return a_k * (1.0 - a_k)\n",
    "    \n",
    "    def calc_output_layer_delta(self, expected, output):\n",
    "        return (expected - output) * self.calc_y_k(output)\n",
    "    \n",
    "    def calc_hidden_layer_delta(self, cur_neuron, cur_neuron_index, next_layer_neuron):\n",
    "        return (next_layer_neuron.weights[cur_neuron_index] * next_layer_neuron.delta) * self.calc_y_k(cur_neuron.output)\n",
    "    \n",
    "    def activate_and_transfer(self, neuron, x_i):\n",
    "        a_j = self.calc_a_j(neuron, x_i)\n",
    "        neuron.output = self.calc_z_j(a_j)\n",
    "        return neuron.output\n",
    "    \n",
    "    def forward(self, x_i, expected = None):\n",
    "        for layer in self.network:\n",
    "            outputs = [self.activate_and_transfer(neuron, x_i) for neuron in layer]\n",
    "        self.outputs = outputs\n",
    "        if expected is not None:\n",
    "            self.sum_error += sum((expected - outputs)**2)\n",
    "    \n",
    "    def backward(self, expected):\n",
    "        for layer_index, layer in reversed(list(enumerate(self.network))):\n",
    "            next_layer = layer_index + 1\n",
    "            if layer_index == self.output_index:\n",
    "                for neuron_index, neuron in enumerate(layer):\n",
    "                    neuron.delta = self.calc_output_layer_delta(expected[neuron_index], neuron.output)\n",
    "            else:\n",
    "                for cur_neuron_index, cur_neuron in enumerate(layer):\n",
    "                    for next_layer_neuron in self.network[next_layer]:\n",
    "                        cur_neuron.delta = self.calc_hidden_layer_delta(cur_neuron, cur_neuron_index, next_layer_neuron)\n",
    "        \n",
    "    def update(self, row, lr):\n",
    "        for layer_index, layer in enumerate(self.network):\n",
    "            prev_layer_index = layer_index - 1\n",
    "            if layer_index == self.hidden_index:\n",
    "                prev_layer = self.network[prev_layer_index]\n",
    "                vals = np.array([neuron.output for neuron in prev_layer])\n",
    "            else:\n",
    "                vals = np.array(row[:-1])\n",
    "            vals = np.append(vals, [1], axis = 0)\n",
    "            for neuron in layer:\n",
    "                neuron.weights += lr * neuron.delta * vals\n",
    "    def get_expected(self, row):\n",
    "        expected = np.zeros(self.num_outputs)\n",
    "        expected[row[-1]] = 1\n",
    "        return expected\n",
    "    \n",
    "    def train(self, train, l_rate, n_epoch, n_outputs):\n",
    "        for epoch in range(n_epoch):\n",
    "            self.sum_error = 0\n",
    "            for row in train:\n",
    "                expected = self.get_expected(row)\n",
    "                self.forward(row, expected)\n",
    "                self.backward(expected)\n",
    "                self.update(row, l_rate)\n",
    "    \n",
    "    def predict(self, row):\n",
    "        self.forward(row)\n",
    "        return self.outputs.index(max(self.outputs))"
   ]
  },
  {
   "cell_type": "markdown",
   "metadata": {},
   "source": [
    "# Results\n",
    "* Runnings NN on each data frame 10 times and printing the one with the best accuracy"
   ]
  },
  {
   "cell_type": "code",
   "execution_count": 23,
   "metadata": {
    "collapsed": false
   },
   "outputs": [],
   "source": [
    "def test(dataframe, lr, iterations):\n",
    "    best_test = 0\n",
    "    best_correct = 0\n",
    "    best_index = 0\n",
    "    best_accuracy = 0\n",
    "    for a in range(10):\n",
    "        mask = np.random.rand(len(dataframe)) < 0.8\n",
    "        train = dataframe[mask].values\n",
    "        test = dataframe[~mask].values\n",
    "        n_inputs = len(train[0]) - 1\n",
    "        n_outputs = 2\n",
    "        network = NeuralNetwork(n_inputs, 3, n_outputs)\n",
    "        network.train(train, lr, iterations, n_outputs)\n",
    "        correct = list()\n",
    "        for row in test:\n",
    "            prediction = network.predict(row)\n",
    "            correct.append(prediction == int(row[-1]))\n",
    "        if sum(correct)/len(test) > best_accuracy:\n",
    "            best_test = test\n",
    "            best_correct = correct\n",
    "            best_index = a\n",
    "            best_accuracy = sum(correct)/len(test)\n",
    "    print(\"\\n\\nTest \"+ str(best_index + 1))\n",
    "    print(\"Correct: \" + str(sum(best_correct)))\n",
    "    print(\"Wrong: \" + str(len(best_test) - sum(best_correct)))\n",
    "    print(\"Accuracy: \" + str(sum(best_correct)/len(best_test)))\n"
   ]
  },
  {
   "cell_type": "markdown",
   "metadata": {},
   "source": [
    "## Iris \n",
    "* Species classification"
   ]
  },
  {
   "cell_type": "code",
   "execution_count": 24,
   "metadata": {
    "collapsed": false
   },
   "outputs": [
    {
     "name": "stderr",
     "output_type": "stream",
     "text": [
      "/opt/conda/lib/python3.5/site-packages/ipykernel_launcher.py:73: VisibleDeprecationWarning: using a non-integer number instead of an integer will result in an error in the future\n"
     ]
    },
    {
     "name": "stdout",
     "output_type": "stream",
     "text": [
      "\n",
      "\n",
      "Test 2\n",
      "Correct: 20\n",
      "Wrong: 0\n",
      "Accuracy: 1.0\n"
     ]
    }
   ],
   "source": [
    "test(iris_frame, .001, 200)"
   ]
  },
  {
   "cell_type": "markdown",
   "metadata": {},
   "source": [
    "## Blood Bank\n",
    "* Classification if person will be a donor"
   ]
  },
  {
   "cell_type": "code",
   "execution_count": 25,
   "metadata": {
    "collapsed": false
   },
   "outputs": [
    {
     "name": "stdout",
     "output_type": "stream",
     "text": [
      "\n",
      "\n",
      "Test 5\n",
      "Correct: 120\n",
      "Wrong: 28\n",
      "Accuracy: 0.8108108108108109\n"
     ]
    }
   ],
   "source": [
    "test(bb_frame, .001, 10)"
   ]
  },
  {
   "cell_type": "markdown",
   "metadata": {},
   "source": [
    "## Breast Cancer\n",
    "* Malignant vs benign tumor classification"
   ]
  },
  {
   "cell_type": "code",
   "execution_count": 28,
   "metadata": {
    "collapsed": false
   },
   "outputs": [
    {
     "name": "stderr",
     "output_type": "stream",
     "text": [
      "/opt/conda/lib/python3.5/site-packages/ipykernel_launcher.py:73: VisibleDeprecationWarning: using a non-integer number instead of an integer will result in an error in the future\n"
     ]
    },
    {
     "name": "stdout",
     "output_type": "stream",
     "text": [
      "\n",
      "\n",
      "Test 4\n",
      "Correct: 74\n",
      "Wrong: 45\n",
      "Accuracy: 0.6218487394957983\n"
     ]
    }
   ],
   "source": [
    "test(cancer_frame, .001, 100)"
   ]
  },
  {
   "cell_type": "markdown",
   "metadata": {},
   "source": [
    "## Conclusion\n",
    "* It looks like the NN was able to get consistently high scores (many 100%) for iris species classification. For predicting whether a person would be a blood donor the accuracies were around 75-80% accurate. While for the breast cancer classification, the NN was only 50-60% accurate. I beleive the breast cancer classification wasnt as accurate because I was only using two variables. If there was further investigation, I would run PCA on it to find the most important variables."
   ]
  }
 ],
 "metadata": {
  "kernelspec": {
   "display_name": "Python 3",
   "language": "python",
   "name": "python3"
  },
  "language_info": {
   "codemirror_mode": {
    "name": "ipython",
    "version": 3
   },
   "file_extension": ".py",
   "mimetype": "text/x-python",
   "name": "python",
   "nbconvert_exporter": "python",
   "pygments_lexer": "ipython3",
   "version": "3.5.2"
  }
 },
 "nbformat": 4,
 "nbformat_minor": 2
}
