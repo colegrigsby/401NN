{
 "cells": [
  {
   "cell_type": "code",
   "execution_count": 780,
   "metadata": {
    "collapsed": true
   },
   "outputs": [],
   "source": [
    "import pandas as pd\n",
    "import numpy as np \n",
    "from util import get_split_cols, get_split_frame\n",
    "from sklearn.preprocessing import StandardScaler"
   ]
  },
  {
   "cell_type": "code",
   "execution_count": 781,
   "metadata": {
    "collapsed": true
   },
   "outputs": [],
   "source": [
    "train = pd.read_csv(\"/data/project2/train.csv\")\n",
    "\n",
    "test = pd.read_csv(\"/data/project2/test.csv\")"
   ]
  },
  {
   "cell_type": "code",
   "execution_count": 782,
   "metadata": {
    "collapsed": false
   },
   "outputs": [],
   "source": [
    "num_train_cols, cat_train_cols = get_split_cols(train)\n",
    "num_test_cols, cat_test_cols = get_split_cols(test)"
   ]
  },
  {
   "cell_type": "code",
   "execution_count": 783,
   "metadata": {
    "collapsed": false
   },
   "outputs": [],
   "source": [
    "assert(len(num_train_cols)==len(num_test_cols))\n",
    "assert(len(cat_train_cols)==len(cat_test_cols))\n"
   ]
  },
  {
   "cell_type": "code",
   "execution_count": 784,
   "metadata": {
    "collapsed": false
   },
   "outputs": [],
   "source": [
    "num_train_df, cat_train_df = get_split_frame(train)\n",
    "num_test_df, cat_test_df = get_split_frame(test)"
   ]
  },
  {
   "cell_type": "code",
   "execution_count": 785,
   "metadata": {
    "collapsed": false
   },
   "outputs": [
    {
     "data": {
      "text/plain": [
       "11988"
      ]
     },
     "execution_count": 785,
     "metadata": {},
     "output_type": "execute_result"
    }
   ],
   "source": [
    "y = num_train_df['Total Household Income']\n",
    "y.min()"
   ]
  },
  {
   "cell_type": "code",
   "execution_count": 786,
   "metadata": {
    "collapsed": false
   },
   "outputs": [],
   "source": [
    "class Neuron(object):\n",
    "    def __init__(self, weights):\n",
    "        self.output = None\n",
    "        self.delta = None\n",
    "        self.weights = weights\n",
    "\n",
    "class NeuralNetwork(object):\n",
    "    def __init__(self, num_inputs, hidden_nodes, num_outputs, eta=.005, activation='sigmoid'):\n",
    "        self.outputs = None\n",
    "        self.hidden_index = 0\n",
    "        self.output_index = 1\n",
    "        self.sum_error = 0\n",
    "        self.num_hidden = hidden_nodes\n",
    "        self.num_outputs = num_outputs\n",
    "        # - 1 for first layer \n",
    "        self.hidden_layer_section = self.create_randomized_layer_section(num_inputs - 1, hidden_nodes)\n",
    "        self.output_layer_section = self.create_randomized_layer_section(hidden_nodes, num_outputs -1)\n",
    "        self.network = [self.hidden_layer_section, self.output_layer_section]\n",
    "        self.activation_type = activation\n",
    "        self.eta = eta\n",
    "        \n",
    "    def create_randomized_layer_section(self, prev_nodes, num_nodes):\n",
    "        return [Neuron(np.random.rand(prev_nodes+1)) for _ in range(num_nodes + 1)]\n",
    "    \n",
    "    def activation(self, neuron, prev_x):\n",
    "        z = self.calc_z(neuron, prev_x)\n",
    "        if self.activation == 'sigmoid':\n",
    "            return 1 / (1 - exp(-z))\n",
    "        elif self.activation == 'tanh':\n",
    "            return np.tanh(z)\n",
    "        elif self.activation == 'relu':\n",
    "            if z > 0: \n",
    "                return z\n",
    "            else:\n",
    "                return 0 \n",
    "        else:\n",
    "            return -1 \n",
    "        \n",
    "    def d_activation(self, value):\n",
    "        if self.activation == 'sigmoid':\n",
    "            return value * (1 - value)\n",
    "        elif self.activation == 'tanh':\n",
    "            return 1 - value ** 2 \n",
    "        elif self.activation == 'relu':\n",
    "            if value > 0: \n",
    "                return 1\n",
    "            else:\n",
    "                return 0 \n",
    "        else:\n",
    "            return -1 \n",
    "        \n",
    "    def calc_z(self, neuron, prev_x):\n",
    "        return np.dot(prev_x, neuron.weights)#sum([x * w for x, w in zip(prev_x, neuron.weights)])\n",
    "    \n",
    "        \n",
    "    def calc_output(self, neuron, prev_x, i):\n",
    "        if i == self.output_index:\n",
    "            return self.calc_z(neuron, prev_x)\n",
    "        return self.activation(neuron, prev_x)\n",
    "    \n",
    "    def output_delta(self, neuron, expected):\n",
    "        return expected - neuron.output\n",
    "        \n",
    "    def hidden_delta(self, neuron, n_idx, next_neuron):\n",
    "        return next_neuron.weights[n_idx] * next_neuron.delta * self.d_activation(neuron.output) \n",
    "        \n",
    "    def forward(self, x):\n",
    "        for i, layer in enumerate(self.network):\n",
    "            for n in layer:\n",
    "                if i == 0:\n",
    "                    prev_layer = x\n",
    "                else: \n",
    "                    prev_layer = [x.output for x in self.network[i-1]]\n",
    "                n.output = self.calc_output(n, prev_layer, i)\n",
    "                \n",
    "        # print(self.network[1][0].output)\n",
    "        \n",
    "        \n",
    "    def back_prop(self, y):\n",
    "        for layer_idx, layer in reversed(list(enumerate(self.network))):\n",
    "            if layer_idx == self.output_index:\n",
    "                for n in layer:\n",
    "                    #output layer deltas\n",
    "                    n.delta = self.output_delta(n, y) #NEED n index \n",
    "            else: \n",
    "                next_layer = self.network[layer_idx+1]\n",
    "                for n_i, n in enumerate(layer):\n",
    "                    #hidden deltas \n",
    "                    n.delta = 0\n",
    "                    for next_neuron in next_layer: \n",
    "                        n.delta += self.hidden_delta(n, n_i, next_neuron) \n",
    "        self.sum_error += (self.network[self.output_index][0].output - y) ** 2\n",
    "    \n",
    "    def update(self):\n",
    "        for layer_index, layer in enumerate(self.network):\n",
    "            for neuron in layer:\n",
    "                #print(self.eta, neuron.delta)\n",
    "                neuron.weights -= (self.eta * neuron.delta)    \n",
    "                \n",
    "                \n",
    "    def train(self, x, expected, epoch):\n",
    "        for e in range(epoch):\n",
    "            self.sum_error = 0 \n",
    "            for row, y in zip(x, expected): \n",
    "                self.forward(row)\n",
    "                self.back_prop(y)\n",
    "                self.update()\n",
    "            print(self.sum_error)  "
   ]
  },
  {
   "cell_type": "code",
   "execution_count": 39,
   "metadata": {
    "collapsed": false
   },
   "outputs": [
    {
     "name": "stdout",
     "output_type": "stream",
     "text": [
      "6.01321867637\n",
      "1.50330466909\n",
      "0.375826167273\n",
      "0.0939565418183\n",
      "0.0234891354546\n",
      "0.00587228386364\n",
      "0.00146807096591\n",
      "0.000367017741478\n",
      "9.17544353694e-05\n",
      "2.29386088424e-05\n",
      "5.73465221059e-06\n",
      "1.43366305265e-06\n",
      "3.58415763162e-07\n",
      "8.96039407903e-08\n",
      "2.24009851976e-08\n",
      "5.60024629941e-09\n",
      "1.40006157485e-09\n",
      "3.50015393713e-10\n",
      "8.75038484304e-11\n",
      "2.18759621086e-11\n"
     ]
    }
   ],
   "source": [
    "nn = NeuralNetwork(2, 2, 1, .5)\n",
    "nn.forward([1, 1])\n",
    "nn.back_prop( 1)\n",
    "nn.train([[5,1]], [1], 20)"
   ]
  },
  {
   "cell_type": "code",
   "execution_count": 41,
   "metadata": {
    "collapsed": false
   },
   "outputs": [
    {
     "name": "stderr",
     "output_type": "stream",
     "text": [
      "/opt/conda/lib/python3.5/site-packages/ipykernel_launcher.py:92: RuntimeWarning: overflow encountered in double_scalars\n",
      "/opt/conda/lib/python3.5/site-packages/ipykernel_launcher.py:65: RuntimeWarning: overflow encountered in double_scalars\n",
      "/opt/conda/lib/python3.5/site-packages/ipykernel_launcher.py:98: RuntimeWarning: invalid value encountered in subtract\n"
     ]
    },
    {
     "name": "stdout",
     "output_type": "stream",
     "text": [
      "nan\n",
      "nan\n",
      "nan\n",
      "nan\n",
      "nan\n"
     ]
    }
   ],
   "source": [
    "nn = NeuralNetwork(len(num_train_cols), 100, 1, .5, 'tanh')\n",
    "x_cols = num_train_cols\n",
    "#x_cols.remove(\"Total Household Income\")\n",
    "x = num_train_df[x_cols]\n",
    "nn.train(x.as_matrix(), y.as_matrix(), 5)"
   ]
  },
  {
   "cell_type": "code",
   "execution_count": 1218,
   "metadata": {
    "collapsed": false
   },
   "outputs": [],
   "source": [
    "class Layer(object):\n",
    "    def __init__(self, nodes, prev_nodes, eta, activation='relu'):\n",
    "        self.output = np.ones(nodes)\n",
    "        self.weights = np.random.rand(nodes, prev_nodes)\n",
    "        #print(self.weights)\n",
    "        self.deltas = np.ones(nodes)\n",
    "        self.activation_type = activation\n",
    "        self.eta = eta\n",
    "        \n",
    "    def forward(self, inputs):\n",
    "        self.inputs = inputs\n",
    "        self.output = self.activation(inputs)\n",
    "        \n",
    "    def activation(self, inputs):\n",
    "        i_w = np.dot(inputs, self.weights.T)\n",
    "        if self.activation_type == 'sigmoid':\n",
    "            return 1 / (1 + np.exp(-i_w))\n",
    "        elif self.activation_type == 'relu':\n",
    "            return np.maximum(i_w, 0)\n",
    "        elif self.activation == 'tanh': #doesn't work \n",
    "            return np.tanh(i_w)\n",
    "    \n",
    "    def d_activation(self, inputs):\n",
    "        inputs = np.array(inputs)\n",
    "        if self.activation_type == 'sigmoid':\n",
    "            return inputs - inputs ** 2\n",
    "        elif self.activation_type == 'relu':\n",
    "            return np.where(np.array(inputs) > 0, 1, 0)\n",
    "        elif self.activation == 'tanh':\n",
    "            return 1-inputs **2\n",
    "\n",
    "    def layer_outputs(self):\n",
    "        print(self.weights)\n",
    "        print(self.output)\n",
    "        \n",
    "    def backward(self, next_deltas, output=False):\n",
    "        self.deltas = np.dot(np.matrix(next_deltas), np.matrix(self.weights)) \n",
    "        if output:\n",
    "            self.weights -= self.eta * np.matrix(next_deltas).T * np.matrix(self.inputs)\n",
    "        else:\n",
    "            #self.weights -= self.eta * self.d_activation(self.inputs) * self.deltas   \n",
    "            self.weights -= self.eta * np.matrix(next_deltas).T * np.matrix(self.d_activation(self.inputs)) \n",
    "\n",
    "class NeuralNetwork(object):\n",
    "    \n",
    "    def __init__(self, num_layers, num_nodes_per_layer, num_inputs, num_outputs, eta=.005, act='relu'):\n",
    "        assert(num_layers == len(num_nodes_per_layer))\n",
    "        num_nodes_per_layer = [num_inputs] + num_nodes_per_layer + [num_outputs]\n",
    "        self.layers = [Layer(num_nodes_per_layer[i], num_nodes_per_layer[i-1], eta, act) for i in range(1, num_layers+2)]\n",
    "        \n",
    "    def forward(self, x):\n",
    "        for layer in self.layers:\n",
    "            layer.forward(x)\n",
    "            x = layer.output\n",
    "            \n",
    "    def backward(self, expected):\n",
    "        deltas = self.layers[-1].output - expected\n",
    "        #print(deltas)\n",
    "        self.layers[-1].backward(deltas, True)\n",
    "        #self.layer[-1].deltas = np.matrix(deltas) * self.layer[-2].output \n",
    "        deltas = self.layers[-1].deltas\n",
    "        \n",
    "        for layer in reversed(self.layers[:-1]):\n",
    "            layer.backward(deltas)\n",
    "            deltas = layer.deltas\n",
    "            \n",
    "            \n",
    "    def train(self, x, y, epoch):\n",
    "        for i in range(epoch):\n",
    "            self.sum_error = 0 \n",
    "            for xi, yi in zip(x,y):\n",
    "                self.forward(xi)\n",
    "                self.backward(yi)\n",
    "                self.sum_error += (self.layers[-1].output - yi)**2\n",
    "            print(self.sum_error)\n",
    "            \n",
    "            \n",
    "    def predict(self, x):\n",
    "        self.forward(x)\n",
    "        return self.layers[-1].output"
   ]
  },
  {
   "cell_type": "code",
   "execution_count": 1219,
   "metadata": {
    "collapsed": false
   },
   "outputs": [],
   "source": [
    "nn = NeuralNetwork(2, [3, 2], 2, 1, eta=.005, act='sigmoid')"
   ]
  },
  {
   "cell_type": "code",
   "execution_count": 1220,
   "metadata": {
    "collapsed": false
   },
   "outputs": [],
   "source": [
    "data = [[1, 1],[2, 2],[3, 3],[4, 4],[5, 5],[6, 6],[7, 7],[8, 8],[9, 9],[10, 10],[11, 11],[12, 12],[13, 13],[14, 14],[15, 15],[16, 16],[17, 17],[18, 18],[19, 19],[20, 20],[21, 21],[22, 22],[23, 23],[24, 24],[25, 25],[26, 26],[27, 27],[28, 28],[29, 29],[30, 30],[31, 31],[32, 32],[33, 33],[34, 34],[35, 35],[36, 36],[37, 37],[38, 38],[39, 39],[40, 40],[41, 41],[42, 42],[43, 43],[44, 44],[45, 45],[46, 46],[47, 47],[48, 48],[49, 49],[50, 50],[51, 51],[52, 52],[53, 53],[54, 54],[55, 55],[56, 56],[57, 57],[58, 58],[59, 59],[60, 60],[61, 61],[62, 62],[63, 63],[64, 64],[65, 65],[66, 66],[67, 67],[68, 68],[69, 69],[70, 70],[71, 71],[72, 72],[73, 73],[74, 74],[75, 75],[76, 76],[77, 77],[78, 78],[79, 79],[80, 80],[81, 81],[82, 82],[83, 83],[84, 84],[85, 85],[86, 86],[87, 87],[88, 88],[89, 89],[90, 90],[91, 91],[92, 92],[93, 93],[94, 94],[95, 95],[96, 96],[97, 97],[98, 98],[99, 99],[100, 100]]\n",
    "expected = [2,4,6,8,10,12,14,16,18,20,22,24,26,28,30,32,34,36,38,40,42,44,46,48,50,52,54,56,58,60,62,64,66,68,70,72,74,76,78,80,82,84,86,88,90,92,94,96,98,100,102,104,106,108,110,112,114,116,118,120,122,124,126,128,130,132,134,136,138,140,142,144,146,148,150,152,154,156,158,160,162,164,166,168,170,172,174,176,178,180,182,184,186,188,190,192,194,196,198,200]"
   ]
  },
  {
   "cell_type": "code",
   "execution_count": 1221,
   "metadata": {
    "collapsed": false
   },
   "outputs": [
    {
     "name": "stdout",
     "output_type": "stream",
     "text": [
      "[ 1333793.76503897]\n",
      "[ 1333300.00000001]\n",
      "[ 1333300.]\n",
      "[ 1333300.]\n",
      "[ 1333300.]\n",
      "[ 1333300.]\n"
     ]
    },
    {
     "data": {
      "text/plain": [
       "array([ 1.])"
      ]
     },
     "execution_count": 1221,
     "metadata": {},
     "output_type": "execute_result"
    }
   ],
   "source": [
    "nn.train(data, expected, 6)\n",
    "nn.predict([2,2])"
   ]
  },
  {
   "cell_type": "code",
   "execution_count": 1123,
   "metadata": {
    "collapsed": false
   },
   "outputs": [
    {
     "name": "stderr",
     "output_type": "stream",
     "text": [
      "/opt/conda/lib/python3.5/site-packages/sklearn/utils/validation.py:429: DataConversionWarning: Data with input dtype int64 was converted to float64 by StandardScaler.\n",
      "  warnings.warn(msg, _DataConversionWarning)\n",
      "/opt/conda/lib/python3.5/site-packages/numpy/core/numeric.py:190: VisibleDeprecationWarning: using a non-integer number instead of an integer will result in an error in the future\n",
      "  a = empty(shape, dtype, order)\n",
      "/opt/conda/lib/python3.5/site-packages/ipykernel_launcher.py:4: VisibleDeprecationWarning: using a non-integer number instead of an integer will result in an error in the future\n",
      "  after removing the cwd from sys.path.\n"
     ]
    },
    {
     "ename": "ValueError",
     "evalue": "non-broadcastable output operand with shape (1,23) doesn't match the broadcast shape (23,23)",
     "output_type": "error",
     "traceback": [
      "\u001b[0;31m---------------------------------------------------------------------------\u001b[0m",
      "\u001b[0;31mValueError\u001b[0m                                Traceback (most recent call last)",
      "\u001b[0;32m<ipython-input-1123-4b6806a1f45d>\u001b[0m in \u001b[0;36m<module>\u001b[0;34m()\u001b[0m\n\u001b[1;32m     11\u001b[0m n = NeuralNetwork(num_layers = 1, num_nodes_per_layer= num_nodes, num_inputs=inputs,\n\u001b[1;32m     12\u001b[0m                   num_outputs=1, eta=.05, act='sigmoid')\n\u001b[0;32m---> 13\u001b[0;31m \u001b[0mn\u001b[0m\u001b[0;34m.\u001b[0m\u001b[0mtrain\u001b[0m\u001b[0;34m(\u001b[0m\u001b[0mx\u001b[0m\u001b[0;34m,\u001b[0m \u001b[0myy\u001b[0m\u001b[0;34m,\u001b[0m \u001b[0;36m10\u001b[0m\u001b[0;34m)\u001b[0m\u001b[0;34m\u001b[0m\u001b[0m\n\u001b[0m",
      "\u001b[0;32m<ipython-input-1119-9020bb5a3f43>\u001b[0m in \u001b[0;36mtrain\u001b[0;34m(self, x, y, epoch)\u001b[0m\n\u001b[1;32m     72\u001b[0m             \u001b[0;32mfor\u001b[0m \u001b[0mxi\u001b[0m\u001b[0;34m,\u001b[0m \u001b[0myi\u001b[0m \u001b[0;32min\u001b[0m \u001b[0mzip\u001b[0m\u001b[0;34m(\u001b[0m\u001b[0mx\u001b[0m\u001b[0;34m,\u001b[0m\u001b[0my\u001b[0m\u001b[0;34m)\u001b[0m\u001b[0;34m:\u001b[0m\u001b[0;34m\u001b[0m\u001b[0m\n\u001b[1;32m     73\u001b[0m                 \u001b[0mself\u001b[0m\u001b[0;34m.\u001b[0m\u001b[0mforward\u001b[0m\u001b[0;34m(\u001b[0m\u001b[0mxi\u001b[0m\u001b[0;34m)\u001b[0m\u001b[0;34m\u001b[0m\u001b[0m\n\u001b[0;32m---> 74\u001b[0;31m                 \u001b[0mself\u001b[0m\u001b[0;34m.\u001b[0m\u001b[0mbackward\u001b[0m\u001b[0;34m(\u001b[0m\u001b[0myi\u001b[0m\u001b[0;34m)\u001b[0m\u001b[0;34m\u001b[0m\u001b[0m\n\u001b[0m\u001b[1;32m     75\u001b[0m                 \u001b[0mself\u001b[0m\u001b[0;34m.\u001b[0m\u001b[0msum_error\u001b[0m \u001b[0;34m+=\u001b[0m \u001b[0;34m(\u001b[0m\u001b[0mself\u001b[0m\u001b[0;34m.\u001b[0m\u001b[0mlayers\u001b[0m\u001b[0;34m[\u001b[0m\u001b[0;34m-\u001b[0m\u001b[0;36m1\u001b[0m\u001b[0;34m]\u001b[0m\u001b[0;34m.\u001b[0m\u001b[0moutput\u001b[0m \u001b[0;34m-\u001b[0m \u001b[0myi\u001b[0m\u001b[0;34m)\u001b[0m\u001b[0;34m**\u001b[0m\u001b[0;36m2\u001b[0m\u001b[0;34m\u001b[0m\u001b[0m\n\u001b[1;32m     76\u001b[0m             \u001b[0mprint\u001b[0m\u001b[0;34m(\u001b[0m\u001b[0mself\u001b[0m\u001b[0;34m.\u001b[0m\u001b[0msum_error\u001b[0m\u001b[0;34m)\u001b[0m\u001b[0;34m\u001b[0m\u001b[0m\n",
      "\u001b[0;32m<ipython-input-1119-9020bb5a3f43>\u001b[0m in \u001b[0;36mbackward\u001b[0;34m(self, expected)\u001b[0m\n\u001b[1;32m     58\u001b[0m         \u001b[0mdeltas\u001b[0m \u001b[0;34m=\u001b[0m \u001b[0mself\u001b[0m\u001b[0;34m.\u001b[0m\u001b[0mlayers\u001b[0m\u001b[0;34m[\u001b[0m\u001b[0;34m-\u001b[0m\u001b[0;36m1\u001b[0m\u001b[0;34m]\u001b[0m\u001b[0;34m.\u001b[0m\u001b[0moutput\u001b[0m \u001b[0;34m-\u001b[0m \u001b[0mexpected\u001b[0m\u001b[0;34m\u001b[0m\u001b[0m\n\u001b[1;32m     59\u001b[0m         \u001b[0;31m#print(deltas)\u001b[0m\u001b[0;34m\u001b[0m\u001b[0;34m\u001b[0m\u001b[0m\n\u001b[0;32m---> 60\u001b[0;31m         \u001b[0mself\u001b[0m\u001b[0;34m.\u001b[0m\u001b[0mlayers\u001b[0m\u001b[0;34m[\u001b[0m\u001b[0;34m-\u001b[0m\u001b[0;36m1\u001b[0m\u001b[0;34m]\u001b[0m\u001b[0;34m.\u001b[0m\u001b[0mbackward\u001b[0m\u001b[0;34m(\u001b[0m\u001b[0mdeltas\u001b[0m\u001b[0;34m,\u001b[0m \u001b[0;32mFalse\u001b[0m\u001b[0;34m)\u001b[0m\u001b[0;34m\u001b[0m\u001b[0m\n\u001b[0m\u001b[1;32m     61\u001b[0m         \u001b[0;31m#self.layer[-1].deltas = np.matrix(deltas) * self.layer[-2].output\u001b[0m\u001b[0;34m\u001b[0m\u001b[0;34m\u001b[0m\u001b[0m\n\u001b[1;32m     62\u001b[0m         \u001b[0mdeltas\u001b[0m \u001b[0;34m=\u001b[0m \u001b[0mself\u001b[0m\u001b[0;34m.\u001b[0m\u001b[0mlayers\u001b[0m\u001b[0;34m[\u001b[0m\u001b[0;34m-\u001b[0m\u001b[0;36m1\u001b[0m\u001b[0;34m]\u001b[0m\u001b[0;34m.\u001b[0m\u001b[0mdeltas\u001b[0m\u001b[0;34m\u001b[0m\u001b[0m\n",
      "\u001b[0;32m<ipython-input-1119-9020bb5a3f43>\u001b[0m in \u001b[0;36mbackward\u001b[0;34m(self, next_deltas, output)\u001b[0m\n\u001b[1;32m     39\u001b[0m             \u001b[0mself\u001b[0m\u001b[0;34m.\u001b[0m\u001b[0mweights\u001b[0m \u001b[0;34m-=\u001b[0m \u001b[0mself\u001b[0m\u001b[0;34m.\u001b[0m\u001b[0meta\u001b[0m \u001b[0;34m*\u001b[0m \u001b[0mnp\u001b[0m\u001b[0;34m.\u001b[0m\u001b[0mmatrix\u001b[0m\u001b[0;34m(\u001b[0m\u001b[0mnext_deltas\u001b[0m\u001b[0;34m)\u001b[0m\u001b[0;34m.\u001b[0m\u001b[0mT\u001b[0m \u001b[0;34m*\u001b[0m \u001b[0mnp\u001b[0m\u001b[0;34m.\u001b[0m\u001b[0mmatrix\u001b[0m\u001b[0;34m(\u001b[0m\u001b[0mself\u001b[0m\u001b[0;34m.\u001b[0m\u001b[0minputs\u001b[0m\u001b[0;34m)\u001b[0m\u001b[0;34m\u001b[0m\u001b[0m\n\u001b[1;32m     40\u001b[0m         \u001b[0;32melse\u001b[0m\u001b[0;34m:\u001b[0m\u001b[0;34m\u001b[0m\u001b[0m\n\u001b[0;32m---> 41\u001b[0;31m             \u001b[0mself\u001b[0m\u001b[0;34m.\u001b[0m\u001b[0mweights\u001b[0m \u001b[0;34m-=\u001b[0m \u001b[0mself\u001b[0m\u001b[0;34m.\u001b[0m\u001b[0meta\u001b[0m \u001b[0;34m*\u001b[0m \u001b[0mnp\u001b[0m\u001b[0;34m.\u001b[0m\u001b[0mmatrix\u001b[0m\u001b[0;34m(\u001b[0m\u001b[0mself\u001b[0m\u001b[0;34m.\u001b[0m\u001b[0md_activation\u001b[0m\u001b[0;34m(\u001b[0m\u001b[0mself\u001b[0m\u001b[0;34m.\u001b[0m\u001b[0minputs\u001b[0m\u001b[0;34m)\u001b[0m\u001b[0;34m)\u001b[0m\u001b[0;34m.\u001b[0m\u001b[0mT\u001b[0m \u001b[0;34m*\u001b[0m\u001b[0mnp\u001b[0m\u001b[0;34m.\u001b[0m\u001b[0mmatrix\u001b[0m\u001b[0;34m(\u001b[0m\u001b[0mself\u001b[0m\u001b[0;34m.\u001b[0m\u001b[0mdeltas\u001b[0m\u001b[0;34m)\u001b[0m\u001b[0;34m\u001b[0m\u001b[0m\n\u001b[0m\u001b[1;32m     42\u001b[0m \u001b[0;34m\u001b[0m\u001b[0m\n\u001b[1;32m     43\u001b[0m             \u001b[0;31m#self.weights -= self.eta * np.matrix(next_deltas).T * np.matrix(self.d_activation(self.inputs))\u001b[0m\u001b[0;34m\u001b[0m\u001b[0;34m\u001b[0m\u001b[0m\n",
      "\u001b[0;31mValueError\u001b[0m: non-broadcastable output operand with shape (1,23) doesn't match the broadcast shape (23,23)"
     ]
    }
   ],
   "source": [
    "scalar_x = StandardScaler()\n",
    "scalar_y = StandardScaler()\n",
    "\n",
    "x = scalar_x.fit_transform(num_train_df.values)\n",
    "yy = scalar_y.fit_transform(y.values.reshape(-1,1))\n",
    "#yy =  y/1000000.0\n",
    "inputs = len(num_train_df.columns)\n",
    "\n",
    "num_nodes = [inputs/2] * 1 \n",
    "\n",
    "n = NeuralNetwork(num_layers = 1, num_nodes_per_layer= num_nodes, num_inputs=inputs,\n",
    "                  num_outputs=1, eta=.05, act='sigmoid')\n",
    "n.train(x, yy, 10)"
   ]
  },
  {
   "cell_type": "code",
   "execution_count": null,
   "metadata": {
    "collapsed": false
   },
   "outputs": [],
   "source": [
    "#print(scalar_y.inverse_transform([41543.75]))\n",
    "print(scalar_y.inverse_transform(n.predict(x[0])))\n",
    "#print(n.predict(x[0]) * 1000000)\n",
    "print(y[0])\n"
   ]
  },
  {
   "cell_type": "code",
   "execution_count": 559,
   "metadata": {
    "collapsed": false
   },
   "outputs": [
    {
     "data": {
      "text/plain": [
       "{'divide': 'warn', 'invalid': 'warn', 'over': 'warn', 'under': 'ignore'}"
      ]
     },
     "execution_count": 559,
     "metadata": {},
     "output_type": "execute_result"
    }
   ],
   "source": [
    "np.seterr(all=\"print\")"
   ]
  },
  {
   "cell_type": "code",
   "execution_count": null,
   "metadata": {
    "collapsed": true
   },
   "outputs": [],
   "source": [
    "l = Layer(nodes=1, prev_nodes=3, eta=0.0005)\n",
    "\n",
    "\n",
    "\n",
    "x = np.matrix([3, 1, 2])\n",
    "l.forward(x)\n",
    "l.layer_outputs()\n",
    "\n",
    "l.backward([3])\n",
    "l.layer_outputs()\n"
   ]
  }
 ],
 "metadata": {
  "kernelspec": {
   "display_name": "Python 3",
   "language": "python",
   "name": "python3"
  },
  "language_info": {
   "codemirror_mode": {
    "name": "ipython",
    "version": 3
   },
   "file_extension": ".py",
   "mimetype": "text/x-python",
   "name": "python",
   "nbconvert_exporter": "python",
   "pygments_lexer": "ipython3",
   "version": "3.5.2"
  }
 },
 "nbformat": 4,
 "nbformat_minor": 2
}
