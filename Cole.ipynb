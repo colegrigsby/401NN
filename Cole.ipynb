{
 "cells": [
  {
   "cell_type": "code",
   "execution_count": 8,
   "metadata": {
    "collapsed": true
   },
   "outputs": [],
   "source": [
    "import pandas as pd\n",
    "import numpy as np \n",
    "from util import get_split_cols, get_split_frame\n"
   ]
  },
  {
   "cell_type": "code",
   "execution_count": 9,
   "metadata": {
    "collapsed": true
   },
   "outputs": [],
   "source": [
    "train = pd.read_csv(\"/data/project2/train.csv\")\n",
    "\n",
    "test = pd.read_csv(\"/data/project2/test.csv\")"
   ]
  },
  {
   "cell_type": "code",
   "execution_count": 14,
   "metadata": {
    "collapsed": false
   },
   "outputs": [],
   "source": [
    "num_train_cols, cat_train_cols = get_split_cols(train)\n",
    "num_test_cols, cat_test_cols = get_split_cols(test)"
   ]
  },
  {
   "cell_type": "code",
   "execution_count": 15,
   "metadata": {
    "collapsed": false
   },
   "outputs": [],
   "source": [
    "assert(len(num_train_cols)==len(num_test_cols))\n",
    "assert(len(cat_train_cols)==len(cat_test_cols))"
   ]
  },
  {
   "cell_type": "code",
   "execution_count": 17,
   "metadata": {
    "collapsed": false
   },
   "outputs": [],
   "source": [
    "num_train_df, cat_train_df = get_split_frame(train)\n",
    "num_test_df, cat_test_df = get_split_frame(test)"
   ]
  },
  {
   "cell_type": "code",
   "execution_count": 18,
   "metadata": {
    "collapsed": true
   },
   "outputs": [],
   "source": [
    "y = num_train_df['Total Household Income']"
   ]
  },
  {
   "cell_type": "code",
   "execution_count": 124,
   "metadata": {
    "collapsed": false
   },
   "outputs": [
    {
     "ename": "SyntaxError",
     "evalue": "invalid syntax (<ipython-input-124-acd3aecb6eb4>, line 28)",
     "output_type": "error",
     "traceback": [
      "\u001b[0;36m  File \u001b[0;32m\"<ipython-input-124-acd3aecb6eb4>\"\u001b[0;36m, line \u001b[0;32m28\u001b[0m\n\u001b[0;31m    else if self.activation == 'tanh':\u001b[0m\n\u001b[0m          ^\u001b[0m\n\u001b[0;31mSyntaxError\u001b[0m\u001b[0;31m:\u001b[0m invalid syntax\n"
     ]
    }
   ],
   "source": [
    "class Neuron(object):\n",
    "    def __init__(self, weights):\n",
    "        self.output = None\n",
    "        self.delta = None\n",
    "        self.weights = weights\n",
    "\n",
    "class NeuralNetwork(object):\n",
    "    def __init__(self, num_inputs, hidden_nodes, num_outputs, eta=.005, activation='sigmoid'):\n",
    "        self.outputs = None\n",
    "        self.hidden_index = 0\n",
    "        self.output_index = 1\n",
    "        self.sum_error = 0\n",
    "        self.num_hidden = hidden_nodes\n",
    "        self.num_outputs = num_outputs\n",
    "        self.hidden_layer_section = self.create_randomized_layer_section(num_inputs, hidden_nodes)\n",
    "        self.output_layer_section = self.create_randomized_layer_section(hidden_nodes, num_outputs - 1)\n",
    "        self.network = [self.hidden_layer_section, self.output_layer_section]\n",
    "        self.activation_type = activation\n",
    "        self.eta = eta\n",
    "        \n",
    "    def create_randomized_layer_section(self, prev_nodes, num_nodes):\n",
    "        return [Neuron(np.random.rand(prev_nodes+1)) for _ in range(num_nodes + 1)]\n",
    "    \n",
    "    def activation(self, neuron, prev_x):\n",
    "        z = self.calc_z(neuron, prev_x)\n",
    "        if self.activation == 'sigmoid':\n",
    "            return 1 / (1 - exp(-z))\n",
    "        else if self.activation == 'tanh':\n",
    "            return np.tanh(z)\n",
    "        else if self.activation == 'relu':\n",
    "            if z > 0: \n",
    "                return z\n",
    "            else:\n",
    "                return 0 \n",
    "        else:\n",
    "            return -1 \n",
    "        \n",
    "    def d_activation(self, value):\n",
    "        if self.activation == 'sigmoid':\n",
    "            return value * (1 - value)\n",
    "        else if self.activation == 'tanh':\n",
    "            return 1 - value ** 2 \n",
    "        else if self.activation == 'relu':\n",
    "            if value > 0: \n",
    "                return 1\n",
    "            else:\n",
    "                return 0 \n",
    "        else:\n",
    "            return -1 \n",
    "        \n",
    "    def calc_z(self, neuron, prev_x):\n",
    "        return sum([x * w for x,w in zip(prev_x, neuron.weights)])\n",
    "    \n",
    "        \n",
    "    def calc_output(self, neuron, prev_x, i):\n",
    "        if i == self.output_index:\n",
    "            return self.calc_z(neuron, prev_x)\n",
    "        return self.activation(neuron, prev_x)\n",
    "    \n",
    "    def output_delta(self, neuron, expected):\n",
    "        return expected - neuron.output\n",
    "        \n",
    "    def hidden_delta(self, neuron, n_idx, next_neuron):\n",
    "        return next_neuron.weights[n_idx] * next_neuron.delta * self.d_activation(neuron.output) \n",
    "        \n",
    "    def forward(self, x):\n",
    "        for i, layer in enumerate(self.network):\n",
    "            for n in layer:\n",
    "                if i == 0:\n",
    "                    prev_layer = x\n",
    "                else: \n",
    "                    prev_layer = [x.output for x in self.network[i-1]]\n",
    "                n.output = self.calc_output(n, prev_layer, i)\n",
    "                \n",
    "        # print(self.network[1][0].output)\n",
    "        \n",
    "        \n",
    "    def back_prop(self, y):\n",
    "        for layer_idx, layer in reversed(list(enumerate(self.network))):\n",
    "            if layer_idx == self.output_index:\n",
    "                for n in layer:\n",
    "                    #output layer deltas\n",
    "                    n.delta = self.output_delta(n, y) #NEED n index \n",
    "            else: \n",
    "                next_layer = self.network[layer_idx+1]\n",
    "                for n_i, n in enumerate(layer):\n",
    "                    #hidden deltas \n",
    "                    n.delta = 0\n",
    "                    for next_neuron in next_layer: \n",
    "                        n.delta += self.hidden_delta(n, n_i, next_neuron) \n",
    "    \n",
    "    def update(self):\n",
    "        for layer_index, layer in enumerate(self.network):\n",
    "            for neuron in layer:\n",
    "                neuron.weights -= self.eta * neuron.delta      \n",
    "\n",
    "    def train(self, x, y, epoch):\n",
    "        for e in range(epoch):\n",
    "            self.forward(x)\n",
    "            self.back_prop(y)\n",
    "            self.update()\n",
    "            print(self.network[self.output_index][0].output)"
   ]
  },
  {
   "cell_type": "code",
   "execution_count": 123,
   "metadata": {
    "collapsed": false
   },
   "outputs": [
    {
     "name": "stdout",
     "output_type": "stream",
     "text": [
      "-0.880192890965\n",
      "-0.59816395732\n",
      "-0.358439363722\n",
      "-0.154673459164\n",
      "0.0185275597108\n",
      "0.165748425754\n",
      "0.290886161891\n",
      "0.397253237607\n",
      "0.487665251966\n",
      "0.564515464171\n",
      "0.629838144546\n",
      "0.685362422864\n",
      "0.732558059434\n",
      "0.772674350519\n",
      "0.806773197941\n",
      "0.83575721825\n",
      "0.860393635513\n",
      "0.881334590186\n",
      "0.899134401658\n",
      "0.914264241409\n",
      "0.927124605198\n",
      "0.938055914418\n",
      "0.947347527255\n",
      "0.955245398167\n",
      "0.961958588442\n",
      "0.967664800176\n",
      "0.972515080149\n",
      "0.976637818127\n",
      "0.980142145408\n",
      "0.983120823597\n",
      "0.985652700057\n",
      "0.987804795049\n",
      "0.989634075791\n",
      "0.991188964423\n",
      "0.992510619759\n",
      "0.993634026795\n",
      "0.994588922776\n",
      "0.99540058436\n",
      "0.996090496706\n",
      "0.9966769222\n",
      "0.99717538387\n",
      "0.997599076289\n",
      "0.997959214846\n",
      "0.998265332619\n",
      "0.998525532726\n",
      "0.998746702817\n",
      "0.998934697395\n",
      "0.999094492785\n",
      "0.999230318868\n",
      "0.999345771038\n",
      "0.999443905382\n",
      "0.999527319575\n",
      "0.999598221638\n",
      "0.999658488393\n",
      "0.999709715134\n",
      "0.999753257864\n",
      "0.999790269184\n",
      "0.999821728807\n",
      "0.999848469486\n",
      "0.999871199063\n",
      "0.999890519203\n",
      "0.999906941323\n",
      "0.999920900124\n",
      "0.999932765106\n",
      "0.99994285034\n",
      "0.999951422789\n",
      "0.999958709371\n",
      "0.999964902965\n",
      "0.99997016752\n",
      "0.999974642392\n",
      "0.999978446033\n",
      "0.999981679128\n",
      "0.999984427259\n",
      "0.99998676317\n",
      "0.999988748695\n",
      "0.99999043639\n",
      "0.999991870932\n",
      "0.999993090292\n",
      "0.999994126748\n",
      "0.999995007736\n",
      "0.999995756576\n",
      "0.999996393089\n",
      "0.999996934126\n",
      "0.999997394007\n",
      "0.999997784906\n",
      "0.99999811717\n",
      "0.999998399595\n",
      "0.999998639655\n",
      "0.999998843707\n",
      "0.999999017151\n",
      "0.999999164578\n",
      "0.999999289892\n",
      "0.999999396408\n",
      "0.999999486947\n",
      "0.999999563905\n",
      "0.999999629319\n",
      "0.999999684921\n",
      "0.999999732183\n",
      "0.999999772356\n",
      "0.999999806502\n"
     ]
    }
   ],
   "source": [
    "nn = NeuralNetwork(2, 2, 1, .05)\n",
    "nn.forward([1, 1])\n",
    "nn.back_prop( 1)\n",
    "nn.train([5,1], 1, 100)"
   ]
  },
  {
   "cell_type": "code",
   "execution_count": null,
   "metadata": {
    "collapsed": false
   },
   "outputs": [],
   "source": []
  },
  {
   "cell_type": "code",
   "execution_count": null,
   "metadata": {
    "collapsed": true
   },
   "outputs": [],
   "source": []
  }
 ],
 "metadata": {
  "kernelspec": {
   "display_name": "Python 3",
   "language": "python",
   "name": "python3"
  },
  "language_info": {
   "codemirror_mode": {
    "name": "ipython",
    "version": 3
   },
   "file_extension": ".py",
   "mimetype": "text/x-python",
   "name": "python",
   "nbconvert_exporter": "python",
   "pygments_lexer": "ipython3",
   "version": "3.5.2"
  }
 },
 "nbformat": 4,
 "nbformat_minor": 2
}
