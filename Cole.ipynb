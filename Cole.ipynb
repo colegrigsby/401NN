{
 "cells": [
  {
   "cell_type": "code",
   "execution_count": 1,
   "metadata": {
    "collapsed": true
   },
   "outputs": [],
   "source": [
    "import pandas as pd\n",
    "import numpy as np \n",
    "from util import get_split_cols, get_split_frame\n"
   ]
  },
  {
   "cell_type": "code",
   "execution_count": 2,
   "metadata": {
    "collapsed": true
   },
   "outputs": [],
   "source": [
    "train = pd.read_csv(\"/data/project2/train.csv\")\n",
    "\n",
    "test = pd.read_csv(\"/data/project2/test.csv\")"
   ]
  },
  {
   "cell_type": "code",
   "execution_count": 3,
   "metadata": {
    "collapsed": false
   },
   "outputs": [],
   "source": [
    "num_train_cols, cat_train_cols = get_split_cols(train)\n",
    "num_test_cols, cat_test_cols = get_split_cols(test)"
   ]
  },
  {
   "cell_type": "code",
   "execution_count": 4,
   "metadata": {
    "collapsed": false
   },
   "outputs": [],
   "source": [
    "assert(len(num_train_cols)==len(num_test_cols))\n",
    "assert(len(cat_train_cols)==len(cat_test_cols))"
   ]
  },
  {
   "cell_type": "code",
   "execution_count": 5,
   "metadata": {
    "collapsed": false
   },
   "outputs": [],
   "source": [
    "num_train_df, cat_train_df = get_split_frame(train)\n",
    "num_test_df, cat_test_df = get_split_frame(test)"
   ]
  },
  {
   "cell_type": "code",
   "execution_count": 6,
   "metadata": {
    "collapsed": true
   },
   "outputs": [],
   "source": [
    "y = num_train_df['Total Household Income']"
   ]
  },
  {
   "cell_type": "code",
   "execution_count": 21,
   "metadata": {
    "collapsed": false
   },
   "outputs": [],
   "source": [
    "class Neuron(object):\n",
    "    def __init__(self, weights):\n",
    "        self.output = None\n",
    "        self.delta = None\n",
    "        self.weights = weights\n",
    "\n",
    "class NeuralNetwork(object):\n",
    "    def __init__(self, num_inputs, hidden_nodes, num_outputs, eta=.005, activation='sigmoid'):\n",
    "        self.outputs = None\n",
    "        self.hidden_index = 0\n",
    "        self.output_index = 1\n",
    "        self.sum_error = 0\n",
    "        self.num_hidden = hidden_nodes\n",
    "        self.num_outputs = num_outputs\n",
    "        self.hidden_layer_section = self.create_randomized_layer_section(num_inputs, hidden_nodes)\n",
    "        self.output_layer_section = self.create_randomized_layer_section(hidden_nodes, num_outputs -1)\n",
    "        self.network = [self.hidden_layer_section, self.output_layer_section]\n",
    "        self.activation_type = activation\n",
    "        self.eta = eta\n",
    "        \n",
    "    def create_randomized_layer_section(self, prev_nodes, num_nodes):\n",
    "        return [Neuron(np.random.rand(prev_nodes+1)) for _ in range(num_nodes + 1)]\n",
    "    \n",
    "    def activation(self, neuron, prev_x):\n",
    "        z = self.calc_z(neuron, prev_x)\n",
    "        if self.activation == 'sigmoid':\n",
    "            return 1 / (1 - exp(-z))\n",
    "        elif self.activation == 'tanh':\n",
    "            return np.tanh(z)\n",
    "        elif self.activation == 'relu':\n",
    "            if z > 0: \n",
    "                return z\n",
    "            else:\n",
    "                return 0 \n",
    "        else:\n",
    "            return -1 \n",
    "        \n",
    "    def d_activation(self, value):\n",
    "        if self.activation == 'sigmoid':\n",
    "            return value * (1 - value)\n",
    "        elif self.activation == 'tanh':\n",
    "            return 1 - value ** 2 \n",
    "        elif self.activation == 'relu':\n",
    "            if value > 0: \n",
    "                return 1\n",
    "            else:\n",
    "                return 0 \n",
    "        else:\n",
    "            return -1 \n",
    "        \n",
    "    def calc_z(self, neuron, prev_x):\n",
    "        return sum([x * w for x,w in zip(prev_x, neuron.weights)])\n",
    "    \n",
    "        \n",
    "    def calc_output(self, neuron, prev_x, i):\n",
    "        if i == self.output_index:\n",
    "            return self.calc_z(neuron, prev_x)\n",
    "        return self.activation(neuron, prev_x)\n",
    "    \n",
    "    def output_delta(self, neuron, expected):\n",
    "        return expected - neuron.output\n",
    "        \n",
    "    def hidden_delta(self, neuron, n_idx, next_neuron):\n",
    "        return next_neuron.weights[n_idx] * next_neuron.delta * self.d_activation(neuron.output) \n",
    "        \n",
    "    def forward(self, x):\n",
    "        for i, layer in enumerate(self.network):\n",
    "            for n in layer:\n",
    "                if i == 0:\n",
    "                    prev_layer = x\n",
    "                else: \n",
    "                    prev_layer = [x.output for x in self.network[i-1]]\n",
    "                n.output = self.calc_output(n, prev_layer, i)\n",
    "                \n",
    "        # print(self.network[1][0].output)\n",
    "        \n",
    "        \n",
    "    def back_prop(self, y):\n",
    "        for layer_idx, layer in reversed(list(enumerate(self.network))):\n",
    "            if layer_idx == self.output_index:\n",
    "                for n in layer:\n",
    "                    #output layer deltas\n",
    "                    n.delta = self.output_delta(n, y) #NEED n index \n",
    "            else: \n",
    "                next_layer = self.network[layer_idx+1]\n",
    "                for n_i, n in enumerate(layer):\n",
    "                    #hidden deltas \n",
    "                    n.delta = 0\n",
    "                    for next_neuron in next_layer: \n",
    "                        n.delta += self.hidden_delta(n, n_i, next_neuron) \n",
    "        self.sum_error += (self.network[self.output_index][0].output - y) ** 2\n",
    "    \n",
    "    def update(self):\n",
    "        for layer_index, layer in enumerate(self.network):\n",
    "            for neuron in layer:\n",
    "                #print(self.eta, neuron.delta)\n",
    "                neuron.weights -= (self.eta * neuron.delta)    \n",
    "                \n",
    "                \n",
    "    def train(self, x, expected, epoch):\n",
    "        for e in range(epoch):\n",
    "            self.sum_error = 0 \n",
    "            for row, y in zip(x, expected): \n",
    "                self.forward(row)\n",
    "                self.back_prop(y)\n",
    "                self.update()\n",
    "            print(self.sum_error)  "
   ]
  },
  {
   "cell_type": "code",
   "execution_count": 22,
   "metadata": {
    "collapsed": false
   },
   "outputs": [
    {
     "name": "stdout",
     "output_type": "stream",
     "text": [
      "6.02106061437\n",
      "1.50526515359\n",
      "0.376316288398\n",
      "0.0940790720996\n",
      "0.0235197680249\n",
      "0.00587994200622\n",
      "0.00146998550156\n",
      "0.000367496375389\n",
      "9.18740938473e-05\n",
      "2.29685234618e-05\n",
      "5.74213086545e-06\n",
      "1.43553271636e-06\n",
      "3.58883179091e-07\n",
      "8.97207947727e-08\n",
      "2.24301986932e-08\n",
      "5.60754967328e-09\n",
      "1.40188741831e-09\n",
      "3.5047185458e-10\n",
      "8.76179636451e-11\n",
      "2.19044909113e-11\n"
     ]
    }
   ],
   "source": [
    "nn = NeuralNetwork(2, 2, 1, .5)\n",
    "nn.forward([1, 1])\n",
    "nn.back_prop( 1)\n",
    "nn.train([[5,1]], [1], 20)"
   ]
  },
  {
   "cell_type": "code",
   "execution_count": null,
   "metadata": {
    "collapsed": false
   },
   "outputs": [
    {
     "name": "stderr",
     "output_type": "stream",
     "text": [
      "/opt/conda/lib/python3.5/site-packages/ipykernel_launcher.py:52: RuntimeWarning: overflow encountered in double_scalars\n",
      "/opt/conda/lib/python3.5/site-packages/ipykernel_launcher.py:91: RuntimeWarning: overflow encountered in double_scalars\n",
      "/opt/conda/lib/python3.5/site-packages/ipykernel_launcher.py:52: RuntimeWarning: overflow encountered in multiply\n",
      "/opt/conda/lib/python3.5/site-packages/ipykernel_launcher.py:64: RuntimeWarning: overflow encountered in double_scalars\n",
      "/opt/conda/lib/python3.5/site-packages/ipykernel_launcher.py:52: RuntimeWarning: invalid value encountered in multiply\n",
      "/opt/conda/lib/python3.5/site-packages/ipykernel_launcher.py:97: RuntimeWarning: invalid value encountered in subtract\n"
     ]
    },
    {
     "name": "stdout",
     "output_type": "stream",
     "text": [
      "nan\n",
      "nan\n",
      "nan\n"
     ]
    }
   ],
   "source": [
    "nn = NeuralNetwork(len(num_train_cols), 100, 1, .5)\n",
    "x_cols = num_train_cols\n",
    "#x_cols.remove(\"Total Household Income\")\n",
    "x = num_train_df[x_cols]\n",
    "nn.train(num_train_df.as_matrix(), y.as_matrix(), 5)"
   ]
  },
  {
   "cell_type": "code",
   "execution_count": null,
   "metadata": {
    "collapsed": true
   },
   "outputs": [],
   "source": []
  }
 ],
 "metadata": {
  "kernelspec": {
   "display_name": "Python 3",
   "language": "python",
   "name": "python3"
  },
  "language_info": {
   "codemirror_mode": {
    "name": "ipython",
    "version": 3
   },
   "file_extension": ".py",
   "mimetype": "text/x-python",
   "name": "python",
   "nbconvert_exporter": "python",
   "pygments_lexer": "ipython3",
   "version": "3.5.2"
  }
 },
 "nbformat": 4,
 "nbformat_minor": 2
}
