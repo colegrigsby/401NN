{
 "cells": [
  {
   "cell_type": "code",
   "execution_count": 177,
   "metadata": {
    "collapsed": true
   },
   "outputs": [],
   "source": [
    "import pandas as pd\n",
    "import numpy as np \n",
    "from util import get_split_cols, get_split_frame\n",
    "from sklearn.preprocessing import StandardScaler"
   ]
  },
  {
   "cell_type": "code",
   "execution_count": 178,
   "metadata": {
    "collapsed": true
   },
   "outputs": [],
   "source": [
    "train = pd.read_csv(\"/data/project2/train.csv\")\n",
    "\n",
    "test = pd.read_csv(\"/data/project2/test.csv\")"
   ]
  },
  {
   "cell_type": "code",
   "execution_count": 179,
   "metadata": {
    "collapsed": true
   },
   "outputs": [],
   "source": [
    "num_train_cols, cat_train_cols = get_split_cols(train)\n",
    "num_test_cols, cat_test_cols = get_split_cols(test)"
   ]
  },
  {
   "cell_type": "code",
   "execution_count": 180,
   "metadata": {
    "collapsed": true
   },
   "outputs": [],
   "source": [
    "assert(len(num_train_cols)==len(num_test_cols))\n",
    "assert(len(cat_train_cols)==len(cat_test_cols))\n"
   ]
  },
  {
   "cell_type": "code",
   "execution_count": 181,
   "metadata": {
    "collapsed": true
   },
   "outputs": [],
   "source": [
    "num_train_df, cat_train_df = get_split_frame(train)\n",
    "num_test_df, cat_test_df = get_split_frame(test)"
   ]
  },
  {
   "cell_type": "code",
   "execution_count": 182,
   "metadata": {
    "collapsed": true
   },
   "outputs": [],
   "source": [
    "y = num_train_df['Total Household Income']\n"
   ]
  },
  {
   "cell_type": "code",
   "execution_count": 1054,
   "metadata": {
    "collapsed": false
   },
   "outputs": [],
   "source": [
    "class Layer(object):\n",
    "    def __init__(self, nodes, prev_nodes, eta, activation='relu'):\n",
    "        self.output = np.ones(nodes)\n",
    "        print(nodes, prev_nodes)\n",
    "        self.weights = np.random.rand(prev_nodes, nodes)\n",
    "        #print(self.weights)\n",
    "        self.deltas = np.ones(nodes)\n",
    "        self.activation_type = activation\n",
    "        self.eta = eta\n",
    "        \n",
    "    def forward(self, inputs, no_act=False):\n",
    "        self.inputs = inputs\n",
    "        if no_act:\n",
    "            self.output = self.activation(inputs, True)\n",
    "        else:\n",
    "            self.output = self.activation(inputs)\n",
    "#         print(\"inputs\", self.inputs)\n",
    "#         print(\"weights \", self.weights)\n",
    "#         print(\"output \", self.output)\n",
    "        \n",
    "    def activation(self, inputs, no_act=False):\n",
    "        #print(np.matrix(inputs), self.weights.T)\n",
    "        i_w = np.matrix(inputs) *  self.weights\n",
    "        self.i_w = i_w \n",
    "        if no_act:\n",
    "            return i_w\n",
    "        if self.activation_type == 'sigmoid':\n",
    "            return 1 / (1 + np.exp(-i_w))\n",
    "        elif self.activation_type == 'relu':\n",
    "            return np.maximum(i_w, 0)\n",
    "        elif self.activation == 'tanh': #doesn't work \n",
    "            return np.tanh(i_w)\n",
    "    \n",
    "    def d_activation(self, inputs):\n",
    "        inputs = np.array(inputs)\n",
    "        if self.activation_type == 'sigmoid':\n",
    "            return inputs - inputs ** 2\n",
    "        elif self.activation_type == 'relu':\n",
    "            return np.where(np.array(inputs) > 0, 1, 0)\n",
    "        elif self.activation == 'tanh':\n",
    "            return 1-inputs **2\n",
    "\n",
    "    def layer_outputs(self):\n",
    "        print(self.weights)\n",
    "        print(self.output)\n",
    "        \n",
    "    def backward(self, next_deltas, output=False):\n",
    "\n",
    "#         if output: \n",
    "#             self.delta = next_deltas*self.weights\n",
    "#             self.weights -= self.eta * next_deltas * self.inputs\n",
    "#         else: \n",
    "#             self.delta = self.d_activation(self.i_w) * self.weights.T * next_deltas\n",
    "#             self.weights -= self.eta * np.dot(self.output * self.d_activation(self.i_w) * next_deltas, self.inputs)\n",
    "        \n",
    "\n",
    "#         print(\"next deltas\", next_deltas)\n",
    "#         self.deltas = np.matrix(self.d_activation(self.i_w)).T * np.matrix(next_deltas)\n",
    "        \n",
    "#         WORKS but needs to include the d_activation too \n",
    "#         print(\"self deltas\", self.deltas)\n",
    "#         print(\"input\", self.inputs)\n",
    "#         print(\"weights\", self.weights)\n",
    "        \n",
    "\n",
    "        if output:\n",
    "#             print(\"self * next d\", next_deltas * self.inputs)\n",
    "            self.deltas = self.weights * next_deltas\n",
    "            self.weights -= self.eta * self.inputs.T * next_deltas \n",
    "        else:\n",
    "            self.deltas = self.weights * next_deltas\n",
    "            self.deltas = self.deltas * self.d_activation(self.i_w)\n",
    "            self.weights -= self.eta * np.matrix(self.inputs).T * self.d_activation(self.i_w) * next_deltas\n",
    "\n",
    "            #WORKS (but wrong)\n",
    "            #self.weights -= self.eta  * next_deltas.T * self.weights\n",
    "        \n",
    "#         print(\"self weights updated\", self.weights)\n",
    "\n",
    "class NeuralNetwork(object):\n",
    "    \n",
    "    def __init__(self, num_layers, num_nodes_per_layer, num_inputs, num_outputs, eta=.005, act='relu'):\n",
    "        assert(num_layers == len(num_nodes_per_layer))\n",
    "        num_nodes_per_layer = [num_inputs] + num_nodes_per_layer + [num_outputs]\n",
    "        print(num_nodes_per_layer)\n",
    "        self.layers = [Layer(num_nodes_per_layer[i], num_nodes_per_layer[i-1], eta, act) for i in range(1, num_layers+2)]\n",
    "        self.eta = eta \n",
    "        \n",
    "    def forward(self, x):\n",
    "        for layer in self.layers[:-1]:\n",
    "            layer.forward(x)\n",
    "            x = layer.output\n",
    "        self.layers[-1].forward(x, True)\n",
    "            \n",
    "    def backward(self, expected):\n",
    "        deltas = self.layers[-1].output - expected\n",
    "        #print(deltas)\n",
    "        self.layers[-1].backward(deltas, True)\n",
    "        #self.layer[-1].deltas = np.matrix(deltas) * self.layer[-2].output \n",
    "        deltas = self.layers[-1].deltas\n",
    "        \n",
    "        for layer in reversed(self.layers[:-1]):\n",
    "            layer.backward(deltas)\n",
    "            deltas = layer.deltas\n",
    "\n",
    "            \n",
    "#              # first: forward propagation\n",
    "#         ## compute linear combinations for hidden layer\n",
    "#         x = self.layers[0].inputs\n",
    "#         a = self.layers[0].output#np.dot(x,self.W1)\n",
    "        \n",
    "#         ## compute activations for hidden layer\n",
    "#         z = np.maximum(a,0)\n",
    "        \n",
    "#         ## compute output \"layer\"\n",
    "#         yhat = self.layers[-1].output#np.dot(z,self.W2)\n",
    "#         ## compute error on the output layer\n",
    "#         error = yhat - expected\n",
    "#         ## back propaagate second layer of parameters\n",
    "#         w2 = self.layers[-1].weights\n",
    "#         #print(expected)\n",
    "#         self.layers[-1].weights -= self.eta*2*error*z\n",
    "        \n",
    "#         ## find gradient dL/dyhat * dyhat/dz\n",
    "#         delta = np.sign(a)*2*error*w2\n",
    "#         gradient = a*delta\n",
    "#         ## find derivative of activation\n",
    "#         #dRelu = np.maximum(np.sign(z),0) * z\n",
    "#         ##\n",
    "#         #self.W1 = self.W1 - delta*dRelu\n",
    "#         self.layers[0].weights -= self.eta*np.dot(np.matrix(gradient).T, np.matrix(x))\n",
    "# # TESTING WITH JUST ONE HIDDEN \n",
    "\n",
    "#             output_from_layer_2 = self.layers[-1].output\n",
    "#             output_from_layer_1 = self.layers[0].output \n",
    "\n",
    "#             # Calculate the error for layer 2 (The difference between the desired output\n",
    "#             # and the predicted output).\n",
    "#             layer2_error = expected - output_from_layer_2\n",
    "#             layer2_delta = layer2_error * output_from_layer_2\n",
    "\n",
    "#             # Calculate the error for layer 1 (By looking at the weights in layer 1,\n",
    "#             # we can determine by how much layer 1 contributed to the error in layer 2).\n",
    "#             layer1_error = layer2_delta.dot(self.layers[-1].weights)\n",
    "#             layer1_delta = layer1_error * output_from_layer_1 - output_from_layer_1 **2 \n",
    "\n",
    "#             # Calculate how much to adjust the weights by\n",
    "#             layer1_adjustment = np.matrix(self.layers[0].inputs).dot(layer1_delta)\n",
    "#             layer2_adjustment = output_from_layer_1 * layer2_delta\n",
    "\n",
    "#             # Adjust the weights.\n",
    "#             self.layers[-1].weights -= layer2_adjustment\n",
    "#             self.layers[0].weights -= layer1_adjustment\n",
    "            \n",
    "            \n",
    "    def train(self, x, y, epoch):\n",
    "        prev_err = 0 \n",
    "        for i in range(epoch):\n",
    "            self.sum_error = 0 \n",
    "#             print(i)\n",
    "            for xi, yi in zip(x,y):\n",
    "                #print(xi, yi)\n",
    "                self.forward(xi)\n",
    "                self.backward(yi)\n",
    "                self.sum_error += (self.layers[-1].output - yi)**2\n",
    "            print(self.sum_error)\n",
    "            \n",
    "            \n",
    "            \n",
    "    def predict(self, x):\n",
    "        self.forward(x)\n",
    "        return self.layers[-1].output"
   ]
  },
  {
   "cell_type": "code",
   "execution_count": 1055,
   "metadata": {
    "collapsed": false
   },
   "outputs": [
    {
     "name": "stdout",
     "output_type": "stream",
     "text": [
      "[2, 3, 1]\n",
      "3 2\n",
      "1 3\n"
     ]
    }
   ],
   "source": [
    "nn = NeuralNetwork(1, [ 3], 2, 1, eta=.00005, act='relu')"
   ]
  },
  {
   "cell_type": "code",
   "execution_count": 1056,
   "metadata": {
    "collapsed": true
   },
   "outputs": [],
   "source": [
    "data = [[1, 1],[2, 2],[3, 3],[4, 4],[5, 5],[6, 6],[7, 7],[8, 8],[9, 9],[10, 10],[11, 11],[12, 12],[13, 13],[14, 14],[15, 15],[16, 16],[17, 17],[18, 18],[19, 19],[20, 20],[21, 21],[22, 22],[23, 23],[24, 24],[25, 25],[26, 26],[27, 27],[28, 28],[29, 29],[30, 30],[31, 31],[32, 32],[33, 33],[34, 34],[35, 35],[36, 36],[37, 37],[38, 38],[39, 39],[40, 40],[41, 41],[42, 42],[43, 43],[44, 44],[45, 45],[46, 46],[47, 47],[48, 48],[49, 49],[50, 50],[51, 51],[52, 52],[53, 53],[54, 54],[55, 55],[56, 56],[57, 57],[58, 58],[59, 59],[60, 60],[61, 61],[62, 62],[63, 63],[64, 64],[65, 65],[66, 66],[67, 67],[68, 68],[69, 69],[70, 70],[71, 71],[72, 72],[73, 73],[74, 74],[75, 75],[76, 76],[77, 77],[78, 78],[79, 79],[80, 80],[81, 81],[82, 82],[83, 83],[84, 84],[85, 85],[86, 86],[87, 87],[88, 88],[89, 89],[90, 90],[91, 91],[92, 92],[93, 93],[94, 94],[95, 95],[96, 96],[97, 97],[98, 98],[99, 99],[100, 100]]\n",
    "expected = [2,4,6,8,10,12,14,16,18,20,22,24,26,28,30,32,34,36,38,40,42,44,46,48,50,52,54,56,58,60,62,64,66,68,70,72,74,76,78,80,82,84,86,88,90,92,94,96,98,100,102,104,106,108,110,112,114,116,118,120,122,124,126,128,130,132,134,136,138,140,142,144,146,148,150,152,154,156,158,160,162,164,166,168,170,172,174,176,178,180,182,184,186,188,190,192,194,196,198,200]"
   ]
  },
  {
   "cell_type": "code",
   "execution_count": 1057,
   "metadata": {
    "collapsed": false
   },
   "outputs": [
    {
     "name": "stdout",
     "output_type": "stream",
     "text": [
      "[[ 2761.82180998]]\n",
      "[[  3.54074463e-06]]\n",
      "[[  4.58412465e-06]]\n",
      "[[  1.51411254e-06]]\n",
      "[[  2.40174076e-06]]\n",
      "[[  8.82482173e-07]]\n",
      "[[  1.95060029e-06]]\n",
      "[[  2.17377994e-06]]\n",
      "[[  1.67474847e-07]]\n",
      "[[  3.29636263e-07]]\n"
     ]
    },
    {
     "data": {
      "text/plain": [
       "matrix([[ 4.00003824]])"
      ]
     },
     "execution_count": 1057,
     "metadata": {},
     "output_type": "execute_result"
    }
   ],
   "source": [
    "nn.train(data, expected, 10)\n",
    "nn.predict([2,2])"
   ]
  },
  {
   "cell_type": "code",
   "execution_count": 1025,
   "metadata": {
    "collapsed": false
   },
   "outputs": [
    {
     "ename": "ValueError",
     "evalue": "shapes (1,1) and (3,1) not aligned: 1 (dim 1) != 3 (dim 0)",
     "output_type": "error",
     "traceback": [
      "\u001b[0;31m---------------------------------------------------------------------------\u001b[0m",
      "\u001b[0;31mValueError\u001b[0m                                Traceback (most recent call last)",
      "\u001b[0;32m<ipython-input-1025-724dfdd1b41c>\u001b[0m in \u001b[0;36m<module>\u001b[0;34m()\u001b[0m\n\u001b[0;32m----> 1\u001b[0;31m \u001b[0mnn\u001b[0m\u001b[0;34m.\u001b[0m\u001b[0mtrain\u001b[0m\u001b[0;34m(\u001b[0m\u001b[0;34m[\u001b[0m\u001b[0;34m[\u001b[0m\u001b[0;36m2\u001b[0m\u001b[0;34m,\u001b[0m\u001b[0;36m1\u001b[0m\u001b[0;34m]\u001b[0m\u001b[0;34m]\u001b[0m\u001b[0;34m,\u001b[0m \u001b[0;34m[\u001b[0m\u001b[0;36m3\u001b[0m\u001b[0;34m]\u001b[0m\u001b[0;34m,\u001b[0m \u001b[0;36m1\u001b[0m\u001b[0;34m)\u001b[0m\u001b[0;34m\u001b[0m\u001b[0m\n\u001b[0m\u001b[1;32m      2\u001b[0m \u001b[0mnn\u001b[0m\u001b[0;34m.\u001b[0m\u001b[0mpredict\u001b[0m\u001b[0;34m(\u001b[0m\u001b[0;34m[\u001b[0m\u001b[0;36m2\u001b[0m\u001b[0;34m,\u001b[0m\u001b[0;36m2\u001b[0m\u001b[0;34m]\u001b[0m\u001b[0;34m)\u001b[0m\u001b[0;34m\u001b[0m\u001b[0m\n",
      "\u001b[0;32m<ipython-input-1021-b4a9f9448ea5>\u001b[0m in \u001b[0;36mtrain\u001b[0;34m(self, x, y, epoch)\u001b[0m\n\u001b[1;32m    161\u001b[0m                 \u001b[0;31m#print(xi, yi)\u001b[0m\u001b[0;34m\u001b[0m\u001b[0;34m\u001b[0m\u001b[0m\n\u001b[1;32m    162\u001b[0m                 \u001b[0mself\u001b[0m\u001b[0;34m.\u001b[0m\u001b[0mforward\u001b[0m\u001b[0;34m(\u001b[0m\u001b[0mxi\u001b[0m\u001b[0;34m)\u001b[0m\u001b[0;34m\u001b[0m\u001b[0m\n\u001b[0;32m--> 163\u001b[0;31m                 \u001b[0mself\u001b[0m\u001b[0;34m.\u001b[0m\u001b[0mbackward\u001b[0m\u001b[0;34m(\u001b[0m\u001b[0myi\u001b[0m\u001b[0;34m)\u001b[0m\u001b[0;34m\u001b[0m\u001b[0m\n\u001b[0m\u001b[1;32m    164\u001b[0m                 \u001b[0mself\u001b[0m\u001b[0;34m.\u001b[0m\u001b[0msum_error\u001b[0m \u001b[0;34m+=\u001b[0m \u001b[0;34m(\u001b[0m\u001b[0mself\u001b[0m\u001b[0;34m.\u001b[0m\u001b[0mlayers\u001b[0m\u001b[0;34m[\u001b[0m\u001b[0;34m-\u001b[0m\u001b[0;36m1\u001b[0m\u001b[0;34m]\u001b[0m\u001b[0;34m.\u001b[0m\u001b[0moutput\u001b[0m \u001b[0;34m-\u001b[0m \u001b[0myi\u001b[0m\u001b[0;34m)\u001b[0m\u001b[0;34m**\u001b[0m\u001b[0;36m2\u001b[0m\u001b[0;34m\u001b[0m\u001b[0m\n\u001b[1;32m    165\u001b[0m             \u001b[0mprint\u001b[0m\u001b[0;34m(\u001b[0m\u001b[0mself\u001b[0m\u001b[0;34m.\u001b[0m\u001b[0msum_error\u001b[0m\u001b[0;34m)\u001b[0m\u001b[0;34m\u001b[0m\u001b[0m\n",
      "\u001b[0;32m<ipython-input-1021-b4a9f9448ea5>\u001b[0m in \u001b[0;36mbackward\u001b[0;34m(self, expected)\u001b[0m\n\u001b[1;32m     96\u001b[0m         \u001b[0mdeltas\u001b[0m \u001b[0;34m=\u001b[0m \u001b[0mself\u001b[0m\u001b[0;34m.\u001b[0m\u001b[0mlayers\u001b[0m\u001b[0;34m[\u001b[0m\u001b[0;34m-\u001b[0m\u001b[0;36m1\u001b[0m\u001b[0;34m]\u001b[0m\u001b[0;34m.\u001b[0m\u001b[0moutput\u001b[0m \u001b[0;34m-\u001b[0m \u001b[0mexpected\u001b[0m\u001b[0;34m\u001b[0m\u001b[0m\n\u001b[1;32m     97\u001b[0m         \u001b[0;31m#print(deltas)\u001b[0m\u001b[0;34m\u001b[0m\u001b[0;34m\u001b[0m\u001b[0m\n\u001b[0;32m---> 98\u001b[0;31m         \u001b[0mself\u001b[0m\u001b[0;34m.\u001b[0m\u001b[0mlayers\u001b[0m\u001b[0;34m[\u001b[0m\u001b[0;34m-\u001b[0m\u001b[0;36m1\u001b[0m\u001b[0;34m]\u001b[0m\u001b[0;34m.\u001b[0m\u001b[0mbackward\u001b[0m\u001b[0;34m(\u001b[0m\u001b[0mdeltas\u001b[0m\u001b[0;34m,\u001b[0m \u001b[0;32mTrue\u001b[0m\u001b[0;34m)\u001b[0m\u001b[0;34m\u001b[0m\u001b[0m\n\u001b[0m\u001b[1;32m     99\u001b[0m         \u001b[0;31m#self.layer[-1].deltas = np.matrix(deltas) * self.layer[-2].output\u001b[0m\u001b[0;34m\u001b[0m\u001b[0;34m\u001b[0m\u001b[0m\n\u001b[1;32m    100\u001b[0m         \u001b[0mdeltas\u001b[0m \u001b[0;34m=\u001b[0m \u001b[0mself\u001b[0m\u001b[0;34m.\u001b[0m\u001b[0mlayers\u001b[0m\u001b[0;34m[\u001b[0m\u001b[0;34m-\u001b[0m\u001b[0;36m1\u001b[0m\u001b[0;34m]\u001b[0m\u001b[0;34m.\u001b[0m\u001b[0mdeltas\u001b[0m\u001b[0;34m\u001b[0m\u001b[0m\n",
      "\u001b[0;32m<ipython-input-1021-b4a9f9448ea5>\u001b[0m in \u001b[0;36mbackward\u001b[0;34m(self, next_deltas, output)\u001b[0m\n\u001b[1;32m     66\u001b[0m         \u001b[0;32mif\u001b[0m \u001b[0moutput\u001b[0m\u001b[0;34m:\u001b[0m\u001b[0;34m\u001b[0m\u001b[0m\n\u001b[1;32m     67\u001b[0m \u001b[0;31m#             print(\"self * next d\", next_deltas * self.inputs)\u001b[0m\u001b[0;34m\u001b[0m\u001b[0;34m\u001b[0m\u001b[0m\n\u001b[0;32m---> 68\u001b[0;31m             \u001b[0mself\u001b[0m\u001b[0;34m.\u001b[0m\u001b[0mdeltas\u001b[0m \u001b[0;34m=\u001b[0m \u001b[0mnext_deltas\u001b[0m \u001b[0;34m*\u001b[0m \u001b[0mself\u001b[0m\u001b[0;34m.\u001b[0m\u001b[0mweights\u001b[0m\u001b[0;34m\u001b[0m\u001b[0m\n\u001b[0m\u001b[1;32m     69\u001b[0m             \u001b[0mself\u001b[0m\u001b[0;34m.\u001b[0m\u001b[0mweights\u001b[0m \u001b[0;34m-=\u001b[0m \u001b[0mself\u001b[0m\u001b[0;34m.\u001b[0m\u001b[0meta\u001b[0m \u001b[0;34m*\u001b[0m \u001b[0mnext_deltas\u001b[0m \u001b[0;34m*\u001b[0m \u001b[0mself\u001b[0m\u001b[0;34m.\u001b[0m\u001b[0minputs\u001b[0m\u001b[0;34m.\u001b[0m\u001b[0mT\u001b[0m\u001b[0;34m\u001b[0m\u001b[0m\n\u001b[1;32m     70\u001b[0m         \u001b[0;32melse\u001b[0m\u001b[0;34m:\u001b[0m\u001b[0;34m\u001b[0m\u001b[0m\n",
      "\u001b[0;32m/opt/conda/lib/python3.5/site-packages/numpy/matrixlib/defmatrix.py\u001b[0m in \u001b[0;36m__mul__\u001b[0;34m(self, other)\u001b[0m\n\u001b[1;32m    341\u001b[0m         \u001b[0;32mif\u001b[0m \u001b[0misinstance\u001b[0m\u001b[0;34m(\u001b[0m\u001b[0mother\u001b[0m\u001b[0;34m,\u001b[0m \u001b[0;34m(\u001b[0m\u001b[0mN\u001b[0m\u001b[0;34m.\u001b[0m\u001b[0mndarray\u001b[0m\u001b[0;34m,\u001b[0m \u001b[0mlist\u001b[0m\u001b[0;34m,\u001b[0m \u001b[0mtuple\u001b[0m\u001b[0;34m)\u001b[0m\u001b[0;34m)\u001b[0m \u001b[0;34m:\u001b[0m\u001b[0;34m\u001b[0m\u001b[0m\n\u001b[1;32m    342\u001b[0m             \u001b[0;31m# This promotes 1-D vectors to row vectors\u001b[0m\u001b[0;34m\u001b[0m\u001b[0;34m\u001b[0m\u001b[0m\n\u001b[0;32m--> 343\u001b[0;31m             \u001b[0;32mreturn\u001b[0m \u001b[0mN\u001b[0m\u001b[0;34m.\u001b[0m\u001b[0mdot\u001b[0m\u001b[0;34m(\u001b[0m\u001b[0mself\u001b[0m\u001b[0;34m,\u001b[0m \u001b[0masmatrix\u001b[0m\u001b[0;34m(\u001b[0m\u001b[0mother\u001b[0m\u001b[0;34m)\u001b[0m\u001b[0;34m)\u001b[0m\u001b[0;34m\u001b[0m\u001b[0m\n\u001b[0m\u001b[1;32m    344\u001b[0m         \u001b[0;32mif\u001b[0m \u001b[0misscalar\u001b[0m\u001b[0;34m(\u001b[0m\u001b[0mother\u001b[0m\u001b[0;34m)\u001b[0m \u001b[0;32mor\u001b[0m \u001b[0;32mnot\u001b[0m \u001b[0mhasattr\u001b[0m\u001b[0;34m(\u001b[0m\u001b[0mother\u001b[0m\u001b[0;34m,\u001b[0m \u001b[0;34m'__rmul__'\u001b[0m\u001b[0;34m)\u001b[0m \u001b[0;34m:\u001b[0m\u001b[0;34m\u001b[0m\u001b[0m\n\u001b[1;32m    345\u001b[0m             \u001b[0;32mreturn\u001b[0m \u001b[0mN\u001b[0m\u001b[0;34m.\u001b[0m\u001b[0mdot\u001b[0m\u001b[0;34m(\u001b[0m\u001b[0mself\u001b[0m\u001b[0;34m,\u001b[0m \u001b[0mother\u001b[0m\u001b[0;34m)\u001b[0m\u001b[0;34m\u001b[0m\u001b[0m\n",
      "\u001b[0;31mValueError\u001b[0m: shapes (1,1) and (3,1) not aligned: 1 (dim 1) != 3 (dim 0)"
     ]
    }
   ],
   "source": [
    "nn.train([[2,1]], [3], 1)\n",
    "nn.predict([2,2])"
   ]
  },
  {
   "cell_type": "code",
   "execution_count": null,
   "metadata": {
    "collapsed": false
   },
   "outputs": [
    {
     "name": "stderr",
     "output_type": "stream",
     "text": [
      "/opt/conda/lib/python3.5/site-packages/sklearn/utils/validation.py:429: DataConversionWarning: Data with input dtype int64 was converted to float64 by StandardScaler.\n",
      "  warnings.warn(msg, _DataConversionWarning)\n"
     ]
    },
    {
     "name": "stdout",
     "output_type": "stream",
     "text": [
      "[46, 46, 1]\n",
      "46 46\n",
      "1 46\n",
      "[[ 174527.59161661]]\n",
      "[[ 10340.52030839]]\n",
      "[[ 7603.20985881]]\n",
      "[[ 6606.95632594]]\n",
      "[[ 6132.05737767]]\n",
      "[[ 5856.40434532]]\n"
     ]
    }
   ],
   "source": [
    "scalar_x = StandardScaler()\n",
    "scalar_y = StandardScaler()\n",
    "\n",
    "x = scalar_x.fit_transform(num_train_df.values)\n",
    "yy = scalar_y.fit_transform(y.values.reshape(-1,1))\n",
    "#yy =  y/1000000.0\n",
    "inputs = len(num_train_df.columns)\n",
    "\n",
    "num_nodes = [inputs] * 1 \n",
    "\n",
    "n = NeuralNetwork(num_layers = 1, num_nodes_per_layer= num_nodes, num_inputs=inputs,\n",
    "                  num_outputs=1, eta=.00005, act='relu')\n",
    "n.train(x, yy, 100)"
   ]
  },
  {
   "cell_type": "code",
   "execution_count": 1075,
   "metadata": {
    "collapsed": false
   },
   "outputs": [
    {
     "name": "stdout",
     "output_type": "stream",
     "text": [
      "[ 6664725.57242802]\n",
      "[[ 204057.56275632]]\n",
      "115835\n"
     ]
    }
   ],
   "source": [
    "print(scalar_y.inverse_transform([(500.31)**.5]))\n",
    "print(scalar_y.inverse_transform(n.predict(x[0])))\n",
    "#print(n.predict(x[0]) * 1000000)\n",
    "print(y[0])\n"
   ]
  },
  {
   "cell_type": "code",
   "execution_count": 1074,
   "metadata": {
    "collapsed": false
   },
   "outputs": [
    {
     "name": "stdout",
     "output_type": "stream",
     "text": [
      "[[ 566.81724075]]\n",
      "[[ 565.92685061]]\n",
      "[[ 564.99485483]]\n",
      "[[ 564.07548474]]\n",
      "[[ 563.17295643]]\n",
      "[[ 562.27404119]]\n",
      "[[ 561.39143796]]\n",
      "[[ 560.5251884]]\n",
      "[[ 559.62696513]]\n",
      "[[ 558.74541795]]\n",
      "[[ 557.86894928]]\n",
      "[[ 557.00873179]]\n",
      "[[ 556.15304415]]\n",
      "[[ 555.31143647]]\n",
      "[[ 554.48065833]]\n",
      "[[ 553.53645273]]\n",
      "[[ 552.60441963]]\n",
      "[[ 551.69467378]]\n",
      "[[ 550.77726645]]\n",
      "[[ 549.8868388]]\n",
      "[[ 549.00664471]]\n",
      "[[ 548.14439619]]\n",
      "[[ 547.29316449]]\n",
      "[[ 546.45551877]]\n",
      "[[ 545.63240619]]\n",
      "[[ 544.8252002]]\n",
      "[[ 544.02330852]]\n",
      "[[ 543.23816071]]\n",
      "[[ 542.46899321]]\n",
      "[[ 541.70807099]]\n",
      "[[ 540.9638444]]\n",
      "[[ 540.23203622]]\n",
      "[[ 539.50720134]]\n",
      "[[ 538.8141814]]\n",
      "[[ 538.15158625]]\n",
      "[[ 537.50237777]]\n",
      "[[ 536.88373143]]\n",
      "[[ 536.28175872]]\n",
      "[[ 535.68682308]]\n",
      "[[ 535.08776425]]\n",
      "[[ 534.47416903]]\n",
      "[[ 533.86295611]]\n",
      "[[ 533.26585064]]\n",
      "[[ 532.67959496]]\n",
      "[[ 532.09702237]]\n",
      "[[ 531.52264158]]\n",
      "[[ 530.95378423]]\n",
      "[[ 530.39344606]]\n",
      "[[ 529.83776991]]\n",
      "[[ 529.29497256]]\n",
      "[[ 528.72634985]]\n",
      "[[ 528.11400942]]\n",
      "[[ 527.50071496]]\n",
      "[[ 526.89538929]]\n",
      "[[ 526.29899818]]\n",
      "[[ 525.71140523]]\n",
      "[[ 525.1244361]]\n",
      "[[ 524.54551448]]\n",
      "[[ 523.97259276]]\n",
      "[[ 523.41293138]]\n",
      "[[ 522.82252777]]\n",
      "[[ 522.22979461]]\n",
      "[[ 521.64325578]]\n",
      "[[ 521.06020778]]\n",
      "[[ 520.4845785]]\n",
      "[[ 519.91700882]]\n",
      "[[ 519.35772179]]\n",
      "[[ 518.80731513]]\n",
      "[[ 518.25654267]]\n",
      "[[ 517.7106497]]\n",
      "[[ 517.17707099]]\n",
      "[[ 516.64180516]]\n",
      "[[ 516.11461025]]\n",
      "[[ 515.59286683]]\n",
      "[[ 515.07342682]]\n",
      "[[ 514.53226986]]\n",
      "[[ 513.98535953]]\n",
      "[[ 513.44778883]]\n",
      "[[ 512.95223909]]\n",
      "[[ 512.36146043]]\n",
      "[[ 511.73986025]]\n",
      "[[ 511.12347208]]\n",
      "[[ 510.51869451]]\n",
      "[[ 509.92318465]]\n",
      "[[ 509.3344918]]\n",
      "[[ 508.75506902]]\n",
      "[[ 508.17894339]]\n",
      "[[ 507.61630354]]\n",
      "[[ 507.05823919]]\n",
      "[[ 506.5061297]]\n",
      "[[ 505.95986007]]\n",
      "[[ 505.41821607]]\n",
      "[[ 504.88508682]]\n",
      "[[ 504.35581678]]\n",
      "[[ 503.83399922]]\n",
      "[[ 503.31479676]]\n",
      "[[ 502.80015514]]\n",
      "[[ 502.28994462]]\n",
      "[[ 501.78457437]]\n",
      "[[ 501.28458105]]\n"
     ]
    }
   ],
   "source": [
    "n.train(x, yy, 100)"
   ]
  },
  {
   "cell_type": "code",
   "execution_count": null,
   "metadata": {
    "collapsed": true
   },
   "outputs": [],
   "source": []
  }
 ],
 "metadata": {
  "kernelspec": {
   "display_name": "Python 3",
   "language": "python",
   "name": "python3"
  },
  "language_info": {
   "codemirror_mode": {
    "name": "ipython",
    "version": 3
   },
   "file_extension": ".py",
   "mimetype": "text/x-python",
   "name": "python",
   "nbconvert_exporter": "python",
   "pygments_lexer": "ipython3",
   "version": "3.5.2"
  }
 },
 "nbformat": 4,
 "nbformat_minor": 2
}
