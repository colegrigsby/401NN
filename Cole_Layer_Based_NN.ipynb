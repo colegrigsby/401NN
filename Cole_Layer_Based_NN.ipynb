{
 "cells": [
  {
   "cell_type": "code",
   "execution_count": 177,
   "metadata": {
    "collapsed": true
   },
   "outputs": [],
   "source": [
    "import pandas as pd\n",
    "import numpy as np \n",
    "from util import get_split_cols, get_split_frame\n",
    "from sklearn.preprocessing import StandardScaler"
   ]
  },
  {
   "cell_type": "code",
   "execution_count": 178,
   "metadata": {
    "collapsed": true
   },
   "outputs": [],
   "source": [
    "train = pd.read_csv(\"/data/project2/train.csv\")\n",
    "\n",
    "test = pd.read_csv(\"/data/project2/test.csv\")"
   ]
  },
  {
   "cell_type": "code",
   "execution_count": 179,
   "metadata": {
    "collapsed": true
   },
   "outputs": [],
   "source": [
    "num_train_cols, cat_train_cols = get_split_cols(train)\n",
    "num_test_cols, cat_test_cols = get_split_cols(test)"
   ]
  },
  {
   "cell_type": "code",
   "execution_count": 180,
   "metadata": {
    "collapsed": true
   },
   "outputs": [],
   "source": [
    "assert(len(num_train_cols)==len(num_test_cols))\n",
    "assert(len(cat_train_cols)==len(cat_test_cols))\n"
   ]
  },
  {
   "cell_type": "code",
   "execution_count": 181,
   "metadata": {
    "collapsed": true
   },
   "outputs": [],
   "source": [
    "num_train_df, cat_train_df = get_split_frame(train)\n",
    "num_test_df, cat_test_df = get_split_frame(test)"
   ]
  },
  {
   "cell_type": "code",
   "execution_count": 182,
   "metadata": {
    "collapsed": true
   },
   "outputs": [],
   "source": [
    "y = num_train_df['Total Household Income']\n"
   ]
  },
  {
   "cell_type": "code",
   "execution_count": 684,
   "metadata": {
    "collapsed": false
   },
   "outputs": [],
   "source": [
    "class Layer(object):\n",
    "    def __init__(self, nodes, prev_nodes, eta, activation='relu'):\n",
    "        self.output = np.ones(nodes)\n",
    "        self.weights = np.random.rand(nodes, prev_nodes)\n",
    "        #print(self.weights)\n",
    "        self.deltas = np.ones(nodes)\n",
    "        self.activation_type = activation\n",
    "        self.eta = eta\n",
    "        \n",
    "    def forward(self, inputs, no_act=False):\n",
    "        self.inputs = inputs\n",
    "        if no_act:\n",
    "            self.output = self.activation(inputs, True)\n",
    "        else:\n",
    "            self.output = self.activation(inputs)\n",
    "#         print(\"inputs\", self.inputs)\n",
    "#         print(\"weights \", self.weights)\n",
    "#         print(\"output \", self.output)\n",
    "        \n",
    "    def activation(self, inputs, no_act=False):\n",
    "        i_w = np.dot(inputs, self.weights.T)\n",
    "        self.i_w = i_w \n",
    "        if no_act:\n",
    "            return i_w\n",
    "        if self.activation_type == 'sigmoid':\n",
    "            return 1 / (1 + np.exp(-i_w))\n",
    "        elif self.activation_type == 'relu':\n",
    "            return np.maximum(i_w, 0)\n",
    "        elif self.activation == 'tanh': #doesn't work \n",
    "            return np.tanh(i_w)\n",
    "    \n",
    "    def d_activation(self, inputs):\n",
    "        inputs = np.array(inputs)\n",
    "        if self.activation_type == 'sigmoid':\n",
    "            return inputs - inputs ** 2\n",
    "        elif self.activation_type == 'relu':\n",
    "            return np.where(np.array(inputs) > 0, 1, 0)\n",
    "        elif self.activation == 'tanh':\n",
    "            return 1-inputs **2\n",
    "\n",
    "    def layer_outputs(self):\n",
    "        print(self.weights)\n",
    "        print(self.output)\n",
    "        \n",
    "    def backward(self, next_deltas, output=False):\n",
    "\n",
    "#         print(\"next deltas\", next_deltas)\n",
    "        #self.deltas = np.matrix(self.d_activation(self.i_w)).T * np.matrix(next_deltas)\n",
    "        \n",
    "        #WORKS but needs to include the d_activation too \n",
    "        \n",
    "\n",
    "#         print(\"self deltas\", self.deltas)\n",
    "#         print(\"input\", self.inputs)\n",
    "#         print(\"weights\", self.weights)\n",
    "        if output:\n",
    "#             print(\"self * next d\", next_deltas * self.inputs)\n",
    "            self.deltas = np.matrix(self.weights).T  * np.matrix(next_deltas) \n",
    "            self.weights -= self.eta * self.inputs * next_deltas \n",
    "        else:\n",
    "            self.deltas = np.matrix(self.weights).T  * np.matrix(next_deltas) \n",
    "            self.deltas = self.deltas * self.d_activation(self.inputs)\n",
    "            self.weights -= self.eta * self.d_activation(self.i_w) * self.inputs * next_deltas\n",
    "\n",
    "            #WORKS (but wrong)\n",
    "            #self.weights -= self.eta  * next_deltas.T * self.weights\n",
    "        \n",
    "#         print(\"self weights updated\", self.weights)\n",
    "\n",
    "class NeuralNetwork(object):\n",
    "    \n",
    "    def __init__(self, num_layers, num_nodes_per_layer, num_inputs, num_outputs, eta=.005, act='relu'):\n",
    "        assert(num_layers == len(num_nodes_per_layer))\n",
    "        num_nodes_per_layer = [num_inputs] + num_nodes_per_layer + [num_outputs]\n",
    "        self.layers = [Layer(num_nodes_per_layer[i], num_nodes_per_layer[i-1], eta, act) for i in range(1, num_layers+2)]\n",
    "        \n",
    "    def forward(self, x):\n",
    "        for layer in self.layers[:-1]:\n",
    "            layer.forward(x)\n",
    "            x = layer.output\n",
    "        self.layers[-1].forward(x, True)\n",
    "            \n",
    "    def backward(self, expected):\n",
    "        deltas = self.layers[-1].output - expected\n",
    "        #print(deltas)\n",
    "        self.layers[-1].backward(deltas, True)\n",
    "        #self.layer[-1].deltas = np.matrix(deltas) * self.layer[-2].output \n",
    "        deltas = self.layers[-1].deltas\n",
    "        \n",
    "        for layer in reversed(self.layers[:-1]):\n",
    "            layer.backward(deltas)\n",
    "            deltas = layer.deltas\n",
    "            \n",
    "            \n",
    "    def train(self, x, y, epoch):\n",
    "        for i in range(epoch):\n",
    "            self.sum_error = 0 \n",
    "#             print(i)\n",
    "            for xi, yi in zip(x,y):\n",
    "                #print(xi, yi)\n",
    "                self.forward(xi)\n",
    "                self.backward(yi)\n",
    "                self.sum_error += (self.layers[-1].output - yi)**2\n",
    "            print(self.sum_error)\n",
    "            \n",
    "            \n",
    "    def predict(self, x):\n",
    "        self.forward(x)\n",
    "        return self.layers[-1].output"
   ]
  },
  {
   "cell_type": "code",
   "execution_count": 685,
   "metadata": {
    "collapsed": true
   },
   "outputs": [],
   "source": [
    "nn = NeuralNetwork(1, [ 2], 2, 1, eta=.00005, act='relu')"
   ]
  },
  {
   "cell_type": "code",
   "execution_count": 686,
   "metadata": {
    "collapsed": true
   },
   "outputs": [],
   "source": [
    "data = [[1, 1],[2, 2],[3, 3],[4, 4],[5, 5],[6, 6],[7, 7],[8, 8],[9, 9],[10, 10],[11, 11],[12, 12],[13, 13],[14, 14],[15, 15],[16, 16],[17, 17],[18, 18],[19, 19],[20, 20],[21, 21],[22, 22],[23, 23],[24, 24],[25, 25],[26, 26],[27, 27],[28, 28],[29, 29],[30, 30],[31, 31],[32, 32],[33, 33],[34, 34],[35, 35],[36, 36],[37, 37],[38, 38],[39, 39],[40, 40],[41, 41],[42, 42],[43, 43],[44, 44],[45, 45],[46, 46],[47, 47],[48, 48],[49, 49],[50, 50],[51, 51],[52, 52],[53, 53],[54, 54],[55, 55],[56, 56],[57, 57],[58, 58],[59, 59],[60, 60],[61, 61],[62, 62],[63, 63],[64, 64],[65, 65],[66, 66],[67, 67],[68, 68],[69, 69],[70, 70],[71, 71],[72, 72],[73, 73],[74, 74],[75, 75],[76, 76],[77, 77],[78, 78],[79, 79],[80, 80],[81, 81],[82, 82],[83, 83],[84, 84],[85, 85],[86, 86],[87, 87],[88, 88],[89, 89],[90, 90],[91, 91],[92, 92],[93, 93],[94, 94],[95, 95],[96, 96],[97, 97],[98, 98],[99, 99],[100, 100]]\n",
    "expected = [2,4,6,8,10,12,14,16,18,20,22,24,26,28,30,32,34,36,38,40,42,44,46,48,50,52,54,56,58,60,62,64,66,68,70,72,74,76,78,80,82,84,86,88,90,92,94,96,98,100,102,104,106,108,110,112,114,116,118,120,122,124,126,128,130,132,134,136,138,140,142,144,146,148,150,152,154,156,158,160,162,164,166,168,170,172,174,176,178,180,182,184,186,188,190,192,194,196,198,200]"
   ]
  },
  {
   "cell_type": "code",
   "execution_count": 687,
   "metadata": {
    "collapsed": false
   },
   "outputs": [
    {
     "name": "stdout",
     "output_type": "stream",
     "text": [
      "[ 9026.23792568]\n",
      "[  8.41255306e-11]\n",
      "[  3.93737920e-11]\n",
      "[  1.97122877e-10]\n",
      "[  1.83492620e-10]\n",
      "[  4.66998763e-11]\n",
      "[  5.11542303e-11]\n",
      "[  1.41879930e-11]\n",
      "[  1.01242189e-11]\n",
      "[  2.95088008e-12]\n"
     ]
    },
    {
     "data": {
      "text/plain": [
       "array([ 4.00000009])"
      ]
     },
     "execution_count": 687,
     "metadata": {},
     "output_type": "execute_result"
    }
   ],
   "source": [
    "nn.train(data, expected, 10)\n",
    "nn.predict([2,2])"
   ]
  },
  {
   "cell_type": "code",
   "execution_count": 668,
   "metadata": {
    "collapsed": false
   },
   "outputs": [
    {
     "name": "stdout",
     "output_type": "stream",
     "text": [
      "[ 0.00665416]\n"
     ]
    },
    {
     "data": {
      "text/plain": [
       "array([ 3.99989232])"
      ]
     },
     "execution_count": 668,
     "metadata": {},
     "output_type": "execute_result"
    }
   ],
   "source": [
    "nn.train([[2,1]], [3], 1)\n",
    "nn.predict([2,2])"
   ]
  },
  {
   "cell_type": "code",
   "execution_count": 669,
   "metadata": {
    "collapsed": false
   },
   "outputs": [
    {
     "name": "stderr",
     "output_type": "stream",
     "text": [
      "/opt/conda/lib/python3.5/site-packages/sklearn/utils/validation.py:429: DataConversionWarning: Data with input dtype int64 was converted to float64 by StandardScaler.\n",
      "  warnings.warn(msg, _DataConversionWarning)\n"
     ]
    },
    {
     "name": "stdout",
     "output_type": "stream",
     "text": [
      "[ 36891.29872442]\n",
      "[ 8985.388649]\n",
      "[ 8980.68128425]\n",
      "[ 8979.73709472]\n",
      "[ 8979.68468991]\n",
      "[ 8979.68387275]\n",
      "[ 8979.6838226]\n",
      "[ 8979.68381973]\n",
      "[ 8979.68381957]\n",
      "[ 8979.68381956]\n"
     ]
    }
   ],
   "source": [
    "scalar_x = StandardScaler()\n",
    "scalar_y = StandardScaler()\n",
    "\n",
    "x = scalar_x.fit_transform(num_train_df.values)\n",
    "yy = scalar_y.fit_transform(y.values.reshape(-1,1))\n",
    "#yy =  y/1000000.0\n",
    "inputs = len(num_train_df.columns)\n",
    "\n",
    "num_nodes = [inputs] * 1 \n",
    "\n",
    "n = NeuralNetwork(num_layers = 1, num_nodes_per_layer= num_nodes, num_inputs=inputs,\n",
    "                  num_outputs=1, eta=.0005, act='relu')\n",
    "n.train(x, yy, 10)"
   ]
  },
  {
   "cell_type": "code",
   "execution_count": 622,
   "metadata": {
    "collapsed": false
   },
   "outputs": [
    {
     "name": "stdout",
     "output_type": "stream",
     "text": [
      "[  2.21591933e+09]\n",
      "[ 575699.98325547]\n",
      "115835\n"
     ]
    }
   ],
   "source": [
    "print(scalar_y.inverse_transform([7722.55]))\n",
    "print(scalar_y.inverse_transform(n.predict(x[0])))\n",
    "#print(n.predict(x[0]) * 1000000)\n",
    "print(y[0])\n"
   ]
  },
  {
   "cell_type": "code",
   "execution_count": null,
   "metadata": {
    "collapsed": true
   },
   "outputs": [],
   "source": []
  },
  {
   "cell_type": "code",
   "execution_count": null,
   "metadata": {
    "collapsed": true
   },
   "outputs": [],
   "source": []
  }
 ],
 "metadata": {
  "kernelspec": {
   "display_name": "Python 3",
   "language": "python",
   "name": "python3"
  },
  "language_info": {
   "codemirror_mode": {
    "name": "ipython",
    "version": 3
   },
   "file_extension": ".py",
   "mimetype": "text/x-python",
   "name": "python",
   "nbconvert_exporter": "python",
   "pygments_lexer": "ipython3",
   "version": "3.5.2"
  }
 },
 "nbformat": 4,
 "nbformat_minor": 2
}
