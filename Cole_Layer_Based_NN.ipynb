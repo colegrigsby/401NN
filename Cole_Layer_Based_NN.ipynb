{
 "cells": [
  {
   "cell_type": "code",
   "execution_count": 1,
   "metadata": {
    "collapsed": true
   },
   "outputs": [],
   "source": [
    "import pandas as pd\n",
    "import numpy as np \n",
    "from util import get_split_cols, get_split_frame\n",
    "from sklearn.preprocessing import StandardScaler"
   ]
  },
  {
   "cell_type": "code",
   "execution_count": 2,
   "metadata": {
    "collapsed": true
   },
   "outputs": [],
   "source": [
    "train = pd.read_csv(\"/data/project2/train.csv\")\n",
    "\n",
    "test = pd.read_csv(\"/data/project2/test.csv\")"
   ]
  },
  {
   "cell_type": "code",
   "execution_count": 3,
   "metadata": {
    "collapsed": true
   },
   "outputs": [],
   "source": [
    "num_train_cols, cat_train_cols = get_split_cols(train)\n",
    "num_test_cols, cat_test_cols = get_split_cols(test)"
   ]
  },
  {
   "cell_type": "code",
   "execution_count": 4,
   "metadata": {
    "collapsed": true
   },
   "outputs": [],
   "source": [
    "assert(len(num_train_cols)==len(num_test_cols))\n",
    "assert(len(cat_train_cols)==len(cat_test_cols))\n"
   ]
  },
  {
   "cell_type": "code",
   "execution_count": 5,
   "metadata": {
    "collapsed": true
   },
   "outputs": [],
   "source": [
    "num_train_df, cat_train_df = get_split_frame(train)\n",
    "num_test_df, cat_test_df = get_split_frame(test)"
   ]
  },
  {
   "cell_type": "code",
   "execution_count": 6,
   "metadata": {
    "collapsed": true
   },
   "outputs": [],
   "source": [
    "y = num_train_df['Total Household Income']\n"
   ]
  },
  {
   "cell_type": "code",
   "execution_count": 7,
   "metadata": {
    "collapsed": true
   },
   "outputs": [],
   "source": [
    "class Layer(object):\n",
    "    def __init__(self, nodes, prev_nodes, eta, activation='relu'):\n",
    "        self.output = np.ones(nodes)\n",
    "        self.weights = np.random.rand(nodes, prev_nodes)\n",
    "        #print(self.weights)\n",
    "        self.deltas = np.ones(nodes)\n",
    "        self.activation_type = activation\n",
    "        self.eta = eta\n",
    "        \n",
    "    def forward(self, inputs):\n",
    "        self.inputs = inputs\n",
    "        self.output = self.activation(inputs)\n",
    "        \n",
    "    def activation(self, inputs):\n",
    "        i_w = np.dot(inputs, self.weights.T)\n",
    "        if self.activation_type == 'sigmoid':\n",
    "            return 1 / (1 + np.exp(-i_w))\n",
    "        elif self.activation_type == 'relu':\n",
    "            return np.maximum(i_w, 0)\n",
    "        elif self.activation == 'tanh': #doesn't work \n",
    "            return np.tanh(i_w)\n",
    "    \n",
    "    def d_activation(self, inputs):\n",
    "        inputs = np.array(inputs)\n",
    "        if self.activation_type == 'sigmoid':\n",
    "            return inputs - inputs ** 2\n",
    "        elif self.activation_type == 'relu':\n",
    "            return np.where(np.array(inputs) > 0, 1, 0)\n",
    "        elif self.activation == 'tanh':\n",
    "            return 1-inputs **2\n",
    "\n",
    "    def layer_outputs(self):\n",
    "        print(self.weights)\n",
    "        print(self.output)\n",
    "        \n",
    "    def backward(self, next_deltas, output=False):\n",
    "        self.deltas = np.dot(np.matrix(next_deltas), np.matrix(self.weights)) \n",
    "        if output:\n",
    "            self.weights -= self.eta * np.matrix(next_deltas).T * np.matrix(self.inputs)\n",
    "        else:\n",
    "            #self.weights -= self.eta * self.d_activation(self.inputs) * self.deltas   \n",
    "            self.weights -= self.eta * np.matrix(next_deltas).T * np.matrix(self.d_activation(self.inputs)) \n",
    "\n",
    "class NeuralNetwork(object):\n",
    "    \n",
    "    def __init__(self, num_layers, num_nodes_per_layer, num_inputs, num_outputs, eta=.005, act='relu'):\n",
    "        assert(num_layers == len(num_nodes_per_layer))\n",
    "        num_nodes_per_layer = [num_inputs] + num_nodes_per_layer + [num_outputs]\n",
    "        self.layers = [Layer(num_nodes_per_layer[i], num_nodes_per_layer[i-1], eta, act) for i in range(1, num_layers+2)]\n",
    "        \n",
    "    def forward(self, x):\n",
    "        for layer in self.layers:\n",
    "            layer.forward(x)\n",
    "            x = layer.output\n",
    "            \n",
    "    def backward(self, expected):\n",
    "        deltas = self.layers[-1].output - expected\n",
    "        #print(deltas)\n",
    "        self.layers[-1].backward(deltas, True)\n",
    "        #self.layer[-1].deltas = np.matrix(deltas) * self.layer[-2].output \n",
    "        deltas = self.layers[-1].deltas\n",
    "        \n",
    "        for layer in reversed(self.layers[:-1]):\n",
    "            layer.backward(deltas)\n",
    "            deltas = layer.deltas\n",
    "            \n",
    "            \n",
    "    def train(self, x, y, epoch):\n",
    "        for i in range(epoch):\n",
    "            self.sum_error = 0 \n",
    "            for xi, yi in zip(x,y):\n",
    "                self.forward(xi)\n",
    "                self.backward(yi)\n",
    "                self.sum_error += (self.layers[-1].output - yi)**2\n",
    "            print(self.sum_error)\n",
    "            \n",
    "            \n",
    "    def predict(self, x):\n",
    "        self.forward(x)\n",
    "        return self.layers[-1].output"
   ]
  },
  {
   "cell_type": "code",
   "execution_count": 8,
   "metadata": {
    "collapsed": true
   },
   "outputs": [],
   "source": [
    "nn = NeuralNetwork(2, [3, 2], 2, 1, eta=.005, act='sigmoid')"
   ]
  },
  {
   "cell_type": "code",
   "execution_count": 9,
   "metadata": {
    "collapsed": true
   },
   "outputs": [],
   "source": [
    "data = [[1, 1],[2, 2],[3, 3],[4, 4],[5, 5],[6, 6],[7, 7],[8, 8],[9, 9],[10, 10],[11, 11],[12, 12],[13, 13],[14, 14],[15, 15],[16, 16],[17, 17],[18, 18],[19, 19],[20, 20],[21, 21],[22, 22],[23, 23],[24, 24],[25, 25],[26, 26],[27, 27],[28, 28],[29, 29],[30, 30],[31, 31],[32, 32],[33, 33],[34, 34],[35, 35],[36, 36],[37, 37],[38, 38],[39, 39],[40, 40],[41, 41],[42, 42],[43, 43],[44, 44],[45, 45],[46, 46],[47, 47],[48, 48],[49, 49],[50, 50],[51, 51],[52, 52],[53, 53],[54, 54],[55, 55],[56, 56],[57, 57],[58, 58],[59, 59],[60, 60],[61, 61],[62, 62],[63, 63],[64, 64],[65, 65],[66, 66],[67, 67],[68, 68],[69, 69],[70, 70],[71, 71],[72, 72],[73, 73],[74, 74],[75, 75],[76, 76],[77, 77],[78, 78],[79, 79],[80, 80],[81, 81],[82, 82],[83, 83],[84, 84],[85, 85],[86, 86],[87, 87],[88, 88],[89, 89],[90, 90],[91, 91],[92, 92],[93, 93],[94, 94],[95, 95],[96, 96],[97, 97],[98, 98],[99, 99],[100, 100]]\n",
    "expected = [2,4,6,8,10,12,14,16,18,20,22,24,26,28,30,32,34,36,38,40,42,44,46,48,50,52,54,56,58,60,62,64,66,68,70,72,74,76,78,80,82,84,86,88,90,92,94,96,98,100,102,104,106,108,110,112,114,116,118,120,122,124,126,128,130,132,134,136,138,140,142,144,146,148,150,152,154,156,158,160,162,164,166,168,170,172,174,176,178,180,182,184,186,188,190,192,194,196,198,200]"
   ]
  },
  {
   "cell_type": "code",
   "execution_count": 10,
   "metadata": {
    "collapsed": false
   },
   "outputs": [
    {
     "name": "stdout",
     "output_type": "stream",
     "text": [
      "[ 1333591.0446953]\n",
      "[ 1333300.]\n",
      "[ 1333300.]\n",
      "[ 1333300.]\n",
      "[ 1333300.]\n",
      "[ 1333300.]\n"
     ]
    },
    {
     "name": "stderr",
     "output_type": "stream",
     "text": [
      "/opt/conda/lib/python3.5/site-packages/ipykernel_launcher.py:17: RuntimeWarning: overflow encountered in exp\n"
     ]
    },
    {
     "data": {
      "text/plain": [
       "array([ 1.])"
      ]
     },
     "execution_count": 10,
     "metadata": {},
     "output_type": "execute_result"
    }
   ],
   "source": [
    "nn.train(data, expected, 6)\n",
    "nn.predict([2,2])"
   ]
  },
  {
   "cell_type": "code",
   "execution_count": null,
   "metadata": {
    "collapsed": false
   },
   "outputs": [
    {
     "name": "stderr",
     "output_type": "stream",
     "text": [
      "/opt/conda/lib/python3.5/site-packages/sklearn/utils/validation.py:429: DataConversionWarning: Data with input dtype int64 was converted to float64 by StandardScaler.\n",
      "  warnings.warn(msg, _DataConversionWarning)\n",
      "/opt/conda/lib/python3.5/site-packages/numpy/core/numeric.py:190: VisibleDeprecationWarning: using a non-integer number instead of an integer will result in an error in the future\n",
      "  a = empty(shape, dtype, order)\n",
      "/opt/conda/lib/python3.5/site-packages/ipykernel_launcher.py:4: VisibleDeprecationWarning: using a non-integer number instead of an integer will result in an error in the future\n",
      "  after removing the cwd from sys.path.\n",
      "/opt/conda/lib/python3.5/site-packages/ipykernel_launcher.py:17: RuntimeWarning: overflow encountered in exp\n"
     ]
    },
    {
     "name": "stdout",
     "output_type": "stream",
     "text": [
      "[ 40656.5324787]\n",
      "[ 41457.80420251]\n",
      "[ 42347.79732479]\n",
      "[ 42810.53770215]\n"
     ]
    }
   ],
   "source": [
    "scalar_x = StandardScaler()\n",
    "scalar_y = StandardScaler()\n",
    "\n",
    "x = scalar_x.fit_transform(num_train_df.values)\n",
    "yy = scalar_y.fit_transform(y.values.reshape(-1,1))\n",
    "#yy =  y/1000000.0\n",
    "inputs = len(num_train_df.columns)\n",
    "\n",
    "num_nodes = [inputs/2] * 1 \n",
    "\n",
    "n = NeuralNetwork(num_layers = 1, num_nodes_per_layer= num_nodes, num_inputs=inputs,\n",
    "                  num_outputs=1, eta=.05, act='sigmoid')\n",
    "n.train(x, yy, 10)"
   ]
  },
  {
   "cell_type": "code",
   "execution_count": null,
   "metadata": {
    "collapsed": true
   },
   "outputs": [],
   "source": [
    "#print(scalar_y.inverse_transform([41543.75]))\n",
    "print(scalar_y.inverse_transform(n.predict(x[0])))\n",
    "#print(n.predict(x[0]) * 1000000)\n",
    "print(y[0])\n"
   ]
  },
  {
   "cell_type": "code",
   "execution_count": null,
   "metadata": {
    "collapsed": true
   },
   "outputs": [],
   "source": []
  }
 ],
 "metadata": {
  "kernelspec": {
   "display_name": "Python 3",
   "language": "python",
   "name": "python3"
  },
  "language_info": {
   "codemirror_mode": {
    "name": "ipython",
    "version": 3
   },
   "file_extension": ".py",
   "mimetype": "text/x-python",
   "name": "python",
   "nbconvert_exporter": "python",
   "pygments_lexer": "ipython3",
   "version": "3.5.2"
  }
 },
 "nbformat": 4,
 "nbformat_minor": 2
}
