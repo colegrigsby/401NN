{
 "cells": [
  {
   "cell_type": "code",
   "execution_count": 46,
   "metadata": {
    "collapsed": true
   },
   "outputs": [],
   "source": [
    "import numpy as np\n",
    "import pandas as pd\n",
    "\n",
    "from sklearn import preprocessing\n",
    "from sklearn.feature_selection import SelectFromModel\n",
    "from sklearn.feature_extraction.text import CountVectorizer, TfidfTransformer, TfidfVectorizer\n",
    "from sklearn.linear_model import Lasso, LinearRegression\n",
    "from sklearn.metrics import mean_squared_error\n",
    "from sklearn.model_selection import cross_val_score, GridSearchCV, KFold\n",
    "from sklearn.preprocessing import normalize"
   ]
  },
  {
   "cell_type": "code",
   "execution_count": 47,
   "metadata": {
    "collapsed": true
   },
   "outputs": [],
   "source": [
    "train = pd.read_csv('/data/project2/train.csv')\n",
    "test = pd.read_csv('/data/project2/test.csv')"
   ]
  },
  {
   "cell_type": "markdown",
   "metadata": {},
   "source": [
    "## Total Number of Electronics"
   ]
  },
  {
   "cell_type": "code",
   "execution_count": 48,
   "metadata": {
    "collapsed": false
   },
   "outputs": [],
   "source": [
    "def getTotalElectronics(data):\n",
    "    data['TotalElectronics'] = data['Number of Landline/wireless telephones'] + data['Number of Cellular phone'] + data['Number of Personal Computer']"
   ]
  },
  {
   "cell_type": "code",
   "execution_count": 49,
   "metadata": {
    "collapsed": true
   },
   "outputs": [],
   "source": [
    "getTotalElectronics(train)\n",
    "getTotalElectronics(test)"
   ]
  },
  {
   "cell_type": "code",
   "execution_count": null,
   "metadata": {
    "collapsed": false
   },
   "outputs": [],
   "source": []
  },
  {
   "cell_type": "markdown",
   "metadata": {},
   "source": [
    "## Total Number of Motorized Vehicles"
   ]
  },
  {
   "cell_type": "code",
   "execution_count": 50,
   "metadata": {
    "collapsed": true
   },
   "outputs": [],
   "source": [
    "def getNumberOfVehicles(data):\n",
    "    data['NumberOfVehicles'] = data['Number of Motorized Banca'] + data['Number of Motorcycle/Tricycle']"
   ]
  },
  {
   "cell_type": "code",
   "execution_count": 51,
   "metadata": {
    "collapsed": true
   },
   "outputs": [],
   "source": [
    "getNumberOfVehicles(train)\n",
    "getNumberOfVehicles(test)"
   ]
  },
  {
   "cell_type": "markdown",
   "metadata": {},
   "source": [
    "## Housing / Water  Expenditure x Toilet Facility"
   ]
  },
  {
   "cell_type": "code",
   "execution_count": 52,
   "metadata": {
    "collapsed": false
   },
   "outputs": [
    {
     "data": {
      "text/plain": [
       "array(['Closed pit', 'None', 'Open pit', 'Others',\n",
       "       'Water-sealed, other depository, shared with other household',\n",
       "       'Water-sealed, other depository, used exclusively by household',\n",
       "       'Water-sealed, sewer septic tank, shared with other household',\n",
       "       'Water-sealed, sewer septic tank, used exclusively by household'], \n",
       "      dtype='<U62')"
      ]
     },
     "execution_count": 52,
     "metadata": {},
     "output_type": "execute_result"
    }
   ],
   "source": [
    "np.unique(list(train['Toilet Facilities']))"
   ]
  },
  {
   "cell_type": "code",
   "execution_count": 66,
   "metadata": {
    "collapsed": true
   },
   "outputs": [],
   "source": [
    "def waterExpenditureByToilet(data):\n",
    "    s = pd.get_dummies(data['Toilet Facilities'])\n",
    "    del s['None']\n",
    "    data = pd.concat([data,s],axis = 1)\n",
    "    data['ClosedPitxWaterExp'] = data['Housing and water Expenditure'] * data['Closed pit']\n",
    "    data['OpenPitxWaterExp'] = data['Housing and water Expenditure'] * data['Open pit']\n",
    "    data['OthersxWaterExp'] = data['Housing and water Expenditure'] * data['Others']\n",
    "    data['OtherSharedxWaterExp'] = data['Housing and water Expenditure'] * data['Water-sealed, other depository, shared with other household']\n",
    "    data['OtherExclusivexWaterExp'] = data['Housing and water Expenditure'] * data['Water-sealed, other depository, used exclusively by household']\n",
    "    data['SewerSharedxWaterExp'] = data['Housing and water Expenditure'] * data['Water-sealed, sewer septic tank, shared with other household']\n",
    "    data['SewerExclusivexWaterExp'] = data['Housing and water Expenditure'] * data['Water-sealed, sewer septic tank, used exclusively by household']\n",
    "    "
   ]
  },
  {
   "cell_type": "code",
   "execution_count": 70,
   "metadata": {
    "collapsed": false
   },
   "outputs": [],
   "source": [
    "#waterExpenditureByToilet(train)\n",
    "#waterExpenditureByToilet(test)"
   ]
  },
  {
   "cell_type": "code",
   "execution_count": 72,
   "metadata": {
    "collapsed": false
   },
   "outputs": [],
   "source": [
    "## creating interaction for training set\n",
    "s = pd.get_dummies(train['Toilet Facilities'])\n",
    "del s['None']\n",
    "train = pd.concat([train,s],axis = 1)\n",
    "train['ClosedPitxWaterExp'] = train['Housing and water Expenditure'] * train['Closed pit']\n",
    "train['OpenPitxWaterExp'] = train['Housing and water Expenditure'] * train['Open pit']\n",
    "train['OthersxWaterExp'] = train['Housing and water Expenditure'] * train['Others']\n",
    "train['OtherSharedxWaterExp'] = train['Housing and water Expenditure'] * train['Water-sealed, other depository, shared with other household']\n",
    "train['OtherExclusivexWaterExp'] = train['Housing and water Expenditure'] * train['Water-sealed, other depository, used exclusively by household']\n",
    "train['SewerSharedxWaterExp'] = train['Housing and water Expenditure'] * train['Water-sealed, sewer septic tank, shared with other household']\n",
    "train['SewerExclusivexWaterExp'] = train['Housing and water Expenditure'] * train['Water-sealed, sewer septic tank, used exclusively by household']"
   ]
  },
  {
   "cell_type": "code",
   "execution_count": 74,
   "metadata": {
    "collapsed": false
   },
   "outputs": [],
   "source": [
    "## creating interaction for testing set\n",
    "s = pd.get_dummies(test['Toilet Facilities'])\n",
    "del s['None']\n",
    "test = pd.concat([test,s],axis = 1)\n",
    "test['ClosedPitxWaterExp'] = test['Housing and water Expenditure'] * test['Closed pit']\n",
    "test['OpenPitxWaterExp'] = test['Housing and water Expenditure'] * test['Open pit']\n",
    "test['OthersxWaterExp'] = test['Housing and water Expenditure'] * test['Others']\n",
    "test['OtherSharedxWaterExp'] = test['Housing and water Expenditure'] * test['Water-sealed, other depository, shared with other household']\n",
    "test['OtherExclusivexWaterExp'] = test['Housing and water Expenditure'] * test['Water-sealed, other depository, used exclusively by household']\n",
    "test['SewerSharedxWaterExp'] = test['Housing and water Expenditure'] * test['Water-sealed, sewer septic tank, shared with other household']\n",
    "test['SewerExclusivexWaterExp'] = test['Housing and water Expenditure'] * test['Water-sealed, sewer septic tank, used exclusively by household']"
   ]
  },
  {
   "cell_type": "code",
   "execution_count": 30,
   "metadata": {
    "collapsed": true
   },
   "outputs": [],
   "source": []
  },
  {
   "cell_type": "code",
   "execution_count": null,
   "metadata": {
    "collapsed": false
   },
   "outputs": [],
   "source": []
  },
  {
   "cell_type": "code",
   "execution_count": null,
   "metadata": {
    "collapsed": false
   },
   "outputs": [],
   "source": []
  },
  {
   "cell_type": "code",
   "execution_count": null,
   "metadata": {
    "collapsed": false
   },
   "outputs": [],
   "source": []
  },
  {
   "cell_type": "code",
   "execution_count": null,
   "metadata": {
    "collapsed": false
   },
   "outputs": [],
   "source": []
  },
  {
   "cell_type": "code",
   "execution_count": null,
   "metadata": {
    "collapsed": false
   },
   "outputs": [],
   "source": []
  },
  {
   "cell_type": "markdown",
   "metadata": {},
   "source": [
    "## Clustering Jobs"
   ]
  },
  {
   "cell_type": "code",
   "execution_count": 21,
   "metadata": {
    "collapsed": false
   },
   "outputs": [
    {
     "data": {
      "text/plain": [
       "Index(['Index', 'Region', 'Total Food Expenditure', 'Main Source of Income',\n",
       "       'Agricultural Household indicator', 'Bread and Cereals Expenditure',\n",
       "       'Total Rice Expenditure', 'Meat Expenditure',\n",
       "       'Total Fish and  marine products Expenditure', 'Fruit Expenditure',\n",
       "       'Vegetables Expenditure', 'Restaurant and hotels Expenditure',\n",
       "       'Alcoholic Beverages Expenditure', 'Tobacco Expenditure',\n",
       "       'Clothing, Footwear and Other Wear Expenditure',\n",
       "       'Housing and water Expenditure', 'Imputed House Rental Value',\n",
       "       'Medical Care Expenditure', 'Transportation Expenditure',\n",
       "       'Communication Expenditure', 'Education Expenditure',\n",
       "       'Miscellaneous Goods and Services Expenditure',\n",
       "       'Special Occasions Expenditure', 'Crop Farming and Gardening expenses',\n",
       "       'Total Income from Entrepreneurial Acitivites', 'Household Head Sex',\n",
       "       'Household Head Age', 'Household Head Marital Status',\n",
       "       'Household Head Highest Grade Completed',\n",
       "       'Household Head Job or Business Indicator', 'Household Head Occupation',\n",
       "       'Household Head Class of Worker', 'Type of Household',\n",
       "       'Total Number of Family members',\n",
       "       'Members with age less than 5 year old',\n",
       "       'Members with age 5 - 17 years old',\n",
       "       'Total number of family members employed', 'Type of Building/House',\n",
       "       'Type of Roof', 'Type of Walls', 'House Floor Area', 'House Age',\n",
       "       'Number of bedrooms', 'Tenure Status', 'Toilet Facilities',\n",
       "       'Electricity', 'Main Source of Water Supply', 'Number of Television',\n",
       "       'Number of CD/VCD/DVD', 'Number of Component/Stereo set',\n",
       "       'Number of Refrigerator/Freezer', 'Number of Washing Machine',\n",
       "       'Number of Airconditioner', 'Number of Car, Jeep, Van',\n",
       "       'Number of Landline/wireless telephones', 'Number of Cellular phone',\n",
       "       'Number of Personal Computer', 'Number of Stove with Oven/Gas Range',\n",
       "       'Number of Motorized Banca', 'Number of Motorcycle/Tricycle',\n",
       "       'Total Household Income', 'TotalElectronics', 'NumberOfVehicles'],\n",
       "      dtype='object')"
      ]
     },
     "execution_count": 21,
     "metadata": {},
     "output_type": "execute_result"
    }
   ],
   "source": [
    "train.columns"
   ]
  },
  {
   "cell_type": "code",
   "execution_count": null,
   "metadata": {
    "collapsed": true
   },
   "outputs": [],
   "source": []
  }
 ],
 "metadata": {
  "kernelspec": {
   "display_name": "Python 3",
   "language": "python",
   "name": "python3"
  },
  "language_info": {
   "codemirror_mode": {
    "name": "ipython",
    "version": 3
   },
   "file_extension": ".py",
   "mimetype": "text/x-python",
   "name": "python",
   "nbconvert_exporter": "python",
   "pygments_lexer": "ipython3",
   "version": "3.5.2"
  }
 },
 "nbformat": 4,
 "nbformat_minor": 2
}
