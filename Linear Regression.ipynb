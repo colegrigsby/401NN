{
 "cells": [
  {
   "cell_type": "markdown",
   "metadata": {},
   "source": [
    "### Numerical features performed much better than categorical ones (alone)\n",
    "### Combining both produced almost the same as just numerical, or slightly better\n",
    "### Need a way to cluster head of household category "
   ]
  },
  {
   "cell_type": "markdown",
   "metadata": {},
   "source": [
    "### TODO FEATURE ENGINEERING\n",
    "\n",
    "### Adding income levels based on regions (sonia) average income level for each region in the training set\n",
    "### for each household, add # of sd's they are away from the average income level in their region\n",
    "\n",
    "### Groupings for grade: none, elementary, high school, bachelors, masters, program/trade school (sonia)\n",
    "\n",
    "### Percentage of family employed (# employed / total family) + interaction between the two terms (sonia)\n",
    "\n",
    "### (hans) the rest\n",
    "\n",
    "### Total number of electronics\n",
    "### Total number of motorized vehicles\n",
    "### housing/water expenditure x toilet facility interaction\n",
    "### Clustering types of jobs"
   ]
  },
  {
   "cell_type": "code",
   "execution_count": 1,
   "metadata": {
    "collapsed": false
   },
   "outputs": [
    {
     "name": "stderr",
     "output_type": "stream",
     "text": [
      "//anaconda/lib/python2.7/site-packages/matplotlib/font_manager.py:273: UserWarning: Matplotlib is building the font cache using fc-list. This may take a moment.\n",
      "  warnings.warn('Matplotlib is building the font cache using fc-list. This may take a moment.')\n"
     ]
    }
   ],
   "source": [
    "import copy\n",
    "import matplotlib.pyplot as plt\n",
    "import numpy as np\n",
    "import pandas as pd\n",
    "\n",
    "from sklearn import preprocessing\n",
    "from sklearn.feature_selection import SelectFromModel\n",
    "from sklearn.feature_extraction.text import CountVectorizer, TfidfTransformer, TfidfVectorizer\n",
    "from sklearn.linear_model import Lasso, LinearRegression\n",
    "from sklearn.metrics import mean_squared_error\n",
    "from sklearn.model_selection import cross_val_score, GridSearchCV, KFold\n",
    "from sklearn.preprocessing import normalize"
   ]
  },
  {
   "cell_type": "code",
   "execution_count": 2,
   "metadata": {
    "collapsed": true
   },
   "outputs": [],
   "source": [
    "def select_features_from_lasso(X, y, alpha):\n",
    "    # fit lasso model and pass to select from model\n",
    "    Xtrain =normalize(X)\n",
    "    lasso = Lasso(alpha).fit(Xtrain, y)\n",
    "    model = SelectFromModel(lasso, prefit=True)\n",
    "\n",
    "    # new features\n",
    "    X_new = model.transform(X)\n",
    "    return X.columns[model.get_support()]"
   ]
  },
  {
   "cell_type": "code",
   "execution_count": 3,
   "metadata": {
    "collapsed": true
   },
   "outputs": [],
   "source": [
    "def backward_stepwise(X, y):\n",
    "    model = LinearRegression()\n",
    "\n",
    "    vars_remaining = []\n",
    "    vars_in_model = list(X.columns)\n",
    "    \n",
    "    last_error = cross_val_score(model, X[vars_in_model], y, cv=10, scoring=\"neg_mean_squared_error\").mean()\n",
    "    \n",
    "    for _ in range(len(vars_in_model)):\n",
    "        scores = []\n",
    "        for var in vars_in_model:\n",
    "            candidate_vars = copy.copy(vars_in_model)\n",
    "            candidate_vars.remove(var)\n",
    "            Xtrain = X[candidate_vars]\n",
    "            scores.append(\n",
    "                cross_val_score(model, normalize(Xtrain), y, cv=10, scoring=\"neg_mean_squared_error\").mean()\n",
    "            )\n",
    "        i = np.argmax(scores)\n",
    "        if scores[i] <= last_error:\n",
    "            break\n",
    "        else:\n",
    "            last_error = scores[i]\n",
    "            del vars_in_model[i]\n",
    "            \n",
    "    return vars_in_model"
   ]
  },
  {
   "cell_type": "code",
   "execution_count": 4,
   "metadata": {
    "collapsed": true
   },
   "outputs": [],
   "source": [
    "def forward_stepwise(X, y):\n",
    "    model = LinearRegression()\n",
    "\n",
    "    vars_remaining = list(X.columns)\n",
    "    vars_in_model = []\n",
    "    last_error = -np.inf\n",
    "\n",
    "    for _ in range(len(vars_remaining)):\n",
    "        scores = []\n",
    "        for var in vars_remaining:\n",
    "            candidate_vars = vars_in_model + [var]\n",
    "            Xtrain = X[candidate_vars]\n",
    "            scores.append(\n",
    "                cross_val_score(model, normalize(Xtrain), y, cv=10, scoring=\"neg_mean_squared_error\").mean()\n",
    "            )\n",
    "        i = np.argmax(scores)\n",
    "        if scores[i] <= last_error:\n",
    "            break\n",
    "        else:\n",
    "            last_error = scores[i]\n",
    "            var_to_add = vars_remaining[i]\n",
    "            vars_in_model.append(var_to_add)\n",
    "            del vars_remaining[i]\n",
    "\n",
    "    return vars_in_model"
   ]
  },
  {
   "cell_type": "code",
   "execution_count": 5,
   "metadata": {
    "collapsed": true
   },
   "outputs": [],
   "source": [
    "def get_categorical_numeric(df):\n",
    "    numerics = []\n",
    "    categorical = []\n",
    "\n",
    "    for col in df:\n",
    "        if((df[col].dtype == np.float64 or df[col].dtype == np.int64) and col != 'Unnamed: 0'):\n",
    "            numerics.append(col)\n",
    "\n",
    "        else:\n",
    "            categorical.append(col)\n",
    "\n",
    "    categorical_df = df[categorical]\n",
    "    numeric_df = df[numerics]\n",
    "    \n",
    "    return categorical_df, numeric_df"
   ]
  },
  {
   "cell_type": "code",
   "execution_count": 6,
   "metadata": {
    "collapsed": true
   },
   "outputs": [],
   "source": [
    "def remove_categorical(X, feat, columns):\n",
    "    for col in columns:\n",
    "        if col in X:\n",
    "            keep = []\n",
    "\n",
    "            for f in feat:\n",
    "                if col + '_' in f:\n",
    "                    keep.append(f.replace(col + '_', ''))\n",
    "\n",
    "            X[col][~(X[col].isin(keep))] = 'other'"
   ]
  },
  {
   "cell_type": "code",
   "execution_count": 7,
   "metadata": {
    "collapsed": true
   },
   "outputs": [],
   "source": [
    "def get_income_zscores(df):\n",
    "    regions = pd.DataFrame(df[['Total Household Income', 'Region']]\n",
    "        .groupby('Region').agg([np.mean, np.std]).to_records())\n",
    "    regions.columns = ['Region', 'Average Household Income', 'Standard Deviation']\n",
    "\n",
    "    z_scores = []\n",
    "\n",
    "    for income, region in zip(df['Total Household Income'], df['Region']):\n",
    "        idx = list(regions['Region']).index(region)\n",
    "        avg = list(regions['Average Household Income'])[idx]\n",
    "        sd = list(regions['Standard Deviation'])[idx]\n",
    "\n",
    "        z_scores.append((income - avg) / sd)\n",
    "\n",
    "    return z_scores"
   ]
  },
  {
   "cell_type": "code",
   "execution_count": 8,
   "metadata": {
    "collapsed": false
   },
   "outputs": [],
   "source": [
    "\"\"\" \n",
    " use lasso regression to select columns for the model\n",
    " try a range of alpha parameters on the lasso model\n",
    " mode can be just categorical, numerical, or both\n",
    "\"\"\"\n",
    "def train_lasso(alphas, mode, df):\n",
    "    mse = []\n",
    "    y = df[['Total Household Income']] / 1e4\n",
    "    df = df.drop(['Total Household Income', 'Unnamed: 0'], axis=1)\n",
    "    \n",
    "    for alpha in alphas:\n",
    "        categorical_df, numeric_df = get_categorical_numeric(df)\n",
    "        reg = LinearRegression()\n",
    "        \n",
    "        # only used categorical features\n",
    "        # values not selected by lasso will be set to other\n",
    "        if mode == \"categorical\":\n",
    "            tmp = pd.get_dummies(categorical_df, columns = categorical_df.columns)\n",
    "            new_feat = select_features_from_lasso(tmp, y, alpha)\n",
    "            remove_categorical(categorical_df, new_feat, categorical_df.columns)\n",
    "            categorical_df = pd.get_dummies(categorical_df, columns = categorical_df.columns)\n",
    "            \n",
    "            print (\"Using alpha of {0} {1} columns were selected\".format(alpha, len(new_feat)))\n",
    "            print\n",
    "            print (', '.join(new_feat))\n",
    "            print \n",
    "            scores = cross_val_score(reg, categorical_df, y, cv=5, scoring='neg_mean_squared_error')\n",
    "           \n",
    "        # only use numerical features, and normalize the data\n",
    "        elif mode == \"numerical\":\n",
    "            new_feat = select_features_from_lasso(numeric_df, y, alpha)\n",
    "            Xnum = preprocessing.scale(numeric_df[new_feat])\n",
    "            \n",
    "            print (\"Using alpha of {0} {1} columns were selected\".format(alpha, len(new_feat)))\n",
    "            print \n",
    "            print (', '.join(new_feat))\n",
    "            print\n",
    "            \n",
    "            scores = cross_val_score(reg, Xnum, y, cv=5, scoring='neg_mean_squared_error')\n",
    "        \n",
    "        # use both features\n",
    "        else:\n",
    "            new_feat_cat = select_features_from_lasso(pd.get_dummies(categorical_df, categorical_df.columns), \n",
    "                y, alpha)\n",
    "            remove_categorical(categorical_df, new_feat_cat, categorical_df.columns)\n",
    "            categorical_df = pd.get_dummies(categorical_df, columns = categorical_df.columns)\n",
    "            \n",
    "            new_feat_num = select_features_from_lasso(numeric_df, y, alpha)\n",
    "            standardized = preprocessing.scale(numeric_df[new_feat_num])\n",
    "            \n",
    "            print (\"Using alpha of {0} {1} columns were selected\".format(alpha, len(categorical_df.columns) + \n",
    "                standardized.shape[1]))\n",
    "            print\n",
    "            print (', '.join(sorted(new_feat_num + new_feat_cat)))\n",
    "            print\n",
    "            \n",
    "            total = np.concatenate((standardized, categorical_df.as_matrix()), axis=1)\n",
    "            scores = cross_val_score(reg, total, y, cv=5, scoring='neg_mean_squared_error')\n",
    "\n",
    "        print (\"Alpha: {0}, MSE {1}\".format(alpha, np.mean(scores)))\n",
    "        print \n",
    "\n",
    "        mse.append(np.mean(scores))\n",
    "        \n",
    "    return mse"
   ]
  },
  {
   "cell_type": "code",
   "execution_count": 9,
   "metadata": {
    "collapsed": true
   },
   "outputs": [],
   "source": [
    "df = pd.read_csv('train.csv').dropna()"
   ]
  },
  {
   "cell_type": "markdown",
   "metadata": {},
   "source": [
    "### Predict household income from just numerical features"
   ]
  },
  {
   "cell_type": "markdown",
   "metadata": {},
   "source": [
    "### Use average household income to train regression model and produce a baseline MSE\n",
    "### Very high baseline?"
   ]
  },
  {
   "cell_type": "code",
   "execution_count": 10,
   "metadata": {
    "collapsed": false
   },
   "outputs": [
    {
     "ename": "NameError",
     "evalue": "name 'X' is not defined",
     "output_type": "error",
     "traceback": [
      "\u001b[0;31m---------------------------------------------------------------------------\u001b[0m",
      "\u001b[0;31mNameError\u001b[0m                                 Traceback (most recent call last)",
      "\u001b[0;32m<ipython-input-10-afb973dc0680>\u001b[0m in \u001b[0;36m<module>\u001b[0;34m()\u001b[0m\n\u001b[1;32m      1\u001b[0m \u001b[0mreg\u001b[0m \u001b[0;34m=\u001b[0m \u001b[0mLinearRegression\u001b[0m\u001b[0;34m(\u001b[0m\u001b[0;34m)\u001b[0m\u001b[0;34m\u001b[0m\u001b[0m\n\u001b[0;32m----> 2\u001b[0;31m \u001b[0mscores\u001b[0m \u001b[0;34m=\u001b[0m \u001b[0mcross_val_score\u001b[0m\u001b[0;34m(\u001b[0m\u001b[0mreg\u001b[0m\u001b[0;34m,\u001b[0m \u001b[0mX\u001b[0m\u001b[0;34m,\u001b[0m \u001b[0my\u001b[0m\u001b[0;34m,\u001b[0m \u001b[0mcv\u001b[0m\u001b[0;34m=\u001b[0m\u001b[0;36m5\u001b[0m\u001b[0;34m,\u001b[0m \u001b[0mscoring\u001b[0m\u001b[0;34m=\u001b[0m\u001b[0;34m'neg_mean_squared_error'\u001b[0m\u001b[0;34m)\u001b[0m\u001b[0;34m\u001b[0m\u001b[0m\n\u001b[0m\u001b[1;32m      3\u001b[0m \u001b[0;32mprint\u001b[0m \u001b[0;34m(\u001b[0m\u001b[0;34m\"Baseline MSE is {0}\"\u001b[0m\u001b[0;34m.\u001b[0m\u001b[0mformat\u001b[0m\u001b[0;34m(\u001b[0m\u001b[0mnp\u001b[0m\u001b[0;34m.\u001b[0m\u001b[0mmean\u001b[0m\u001b[0;34m(\u001b[0m\u001b[0mscores\u001b[0m\u001b[0;34m)\u001b[0m\u001b[0;34m)\u001b[0m\u001b[0;34m)\u001b[0m\u001b[0;34m\u001b[0m\u001b[0m\n",
      "\u001b[0;31mNameError\u001b[0m: name 'X' is not defined"
     ]
    }
   ],
   "source": [
    "reg = LinearRegression()\n",
    "scores = cross_val_score(reg, X, y, cv=5, scoring='neg_mean_squared_error')\n",
    "print (\"Baseline MSE is {0}\".format(np.mean(scores)))"
   ]
  },
  {
   "cell_type": "markdown",
   "metadata": {},
   "source": [
    "### Lasso  regression to select numerical features\n",
    "### Normalize features first? (Increased MSE ...)\n",
    "### Alpha = 1e-5 selected 28 columns and produced the best MSE"
   ]
  },
  {
   "cell_type": "code",
   "execution_count": null,
   "metadata": {
    "collapsed": false
   },
   "outputs": [],
   "source": [
    "mse = train_lasso([1e-6, 1e-5, 1e-4, 1e-3, 1e-2, 1e-1, 1], \"numerical\", df)"
   ]
  },
  {
   "cell_type": "code",
   "execution_count": null,
   "metadata": {
    "collapsed": false
   },
   "outputs": [],
   "source": [
    "plt.plot(mse)\n",
    "plt.xlabel('Alpha')\n",
    "labels = [1e-6, 1e-5, 1e-4, 1e-3, 1e-2, 1e-1, 1]\n",
    "plt.xticks(range(len(labels)), labels, rotation='vertical')\n",
    "plt.ylabel('MSE')\n",
    "plt.title('Effect of Alpha Parameter on MSE')\n",
    "plt.show()"
   ]
  },
  {
   "cell_type": "markdown",
   "metadata": {},
   "source": [
    "### Predict household income from just categorical features"
   ]
  },
  {
   "cell_type": "markdown",
   "metadata": {},
   "source": [
    "### 500 columns after one-hot encoding and including all variables\n",
    "### Household head occupation has 370 unique values (can probably be reduced)"
   ]
  },
  {
   "cell_type": "markdown",
   "metadata": {},
   "source": [
    "### Alpha = 0.001 produced the best MSE and selected 107 columns\n",
    "### For categorical variables, if the variable is chosen by lasso keep it, otherwise\n",
    "### set it to an \"other\". Use the new dataframe in a linear regression model to\n",
    "### get the mse"
   ]
  },
  {
   "cell_type": "code",
   "execution_count": null,
   "metadata": {
    "collapsed": false,
    "scrolled": false
   },
   "outputs": [],
   "source": [
    "mse = train_lasso([1e-3, 1e-2, 0.1, 1],'categorical',df)"
   ]
  },
  {
   "cell_type": "code",
   "execution_count": null,
   "metadata": {
    "collapsed": false
   },
   "outputs": [],
   "source": [
    "plt.plot(mse)\n",
    "plt.xlabel('Alpha')\n",
    "labels = [1e-3, 1e-2, 0.1, 1]\n",
    "plt.xticks(range(len(labels)), labels, rotation='vertical')\n",
    "plt.ylabel('MSE')\n",
    "plt.title('Effect of Alpha Parameter on MSE')\n",
    "plt.show()"
   ]
  },
  {
   "cell_type": "markdown",
   "metadata": {},
   "source": [
    "### Use all the features to compute the MSE"
   ]
  },
  {
   "cell_type": "code",
   "execution_count": null,
   "metadata": {
    "collapsed": false
   },
   "outputs": [],
   "source": [
    "mse = train_lasso([1e-2, 0.1, 0.5, 1], 'both', df)"
   ]
  },
  {
   "cell_type": "code",
   "execution_count": null,
   "metadata": {
    "collapsed": false
   },
   "outputs": [],
   "source": [
    "plt.plot(mse)\n",
    "plt.xlabel('Alpha')\n",
    "labels = [1e-2, 0.1, 0.5, 1]\n",
    "plt.xticks(range(len(labels)), labels, rotation='vertical')\n",
    "plt.ylabel('MSE')\n",
    "plt.title('Effect of Alpha Parameter on MSE')\n",
    "plt.show()"
   ]
  },
  {
   "cell_type": "markdown",
   "metadata": {
    "collapsed": true
   },
   "source": [
    "### Engineer features to improve performance\n",
    "### Add z-score for household income by region"
   ]
  },
  {
   "cell_type": "code",
   "execution_count": null,
   "metadata": {
    "collapsed": true
   },
   "outputs": [],
   "source": [
    "df = pd.read_csv('train.csv').dropna()\n",
    "df['Income Z-Score'] = get_income_zscores(df)"
   ]
  },
  {
   "cell_type": "code",
   "execution_count": null,
   "metadata": {
    "collapsed": false
   },
   "outputs": [],
   "source": [
    "df.head()"
   ]
  },
  {
   "cell_type": "code",
   "execution_count": null,
   "metadata": {
    "collapsed": false
   },
   "outputs": [],
   "source": [
    "mse = train_lasso([1e-2, 0.1, 0.5, 1], 'both', df)"
   ]
  },
  {
   "cell_type": "code",
   "execution_count": null,
   "metadata": {
    "collapsed": true
   },
   "outputs": [],
   "source": []
  }
 ],
 "metadata": {
  "anaconda-cloud": {},
  "kernelspec": {
   "display_name": "Python [conda root]",
   "language": "python",
   "name": "conda-root-py"
  },
  "language_info": {
   "codemirror_mode": {
    "name": "ipython",
    "version": 2
   },
   "file_extension": ".py",
   "mimetype": "text/x-python",
   "name": "python",
   "nbconvert_exporter": "python",
   "pygments_lexer": "ipython2",
   "version": "2.7.12"
  }
 },
 "nbformat": 4,
 "nbformat_minor": 1
}
