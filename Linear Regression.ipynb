{
 "cells": [
  {
   "cell_type": "code",
   "execution_count": 147,
   "metadata": {
    "collapsed": false
   },
   "outputs": [
    {
     "data": {
      "text/plain": [
       "'\\nWork on the feature engineering\\n --- 370 job descriptions\\n --- making the education and bedroom variables ordinal\\n --- \\n'"
      ]
     },
     "execution_count": 147,
     "metadata": {},
     "output_type": "execute_result"
    }
   ],
   "source": [
    "\"\"\"\n",
    "Work on the feature engineering\n",
    " --- 370 job descriptions\n",
    " --- making the education and bedroom variables ordinal\n",
    " --- \n",
    "\"\"\""
   ]
  },
  {
   "cell_type": "code",
   "execution_count": 117,
   "metadata": {
    "collapsed": false
   },
   "outputs": [],
   "source": [
    "import numpy as np\n",
    "import pandas as pd\n",
    "\n",
    "from sklearn.linear_model import LassoCV\n",
    "from sklearn.preprocessing import StandardScaler\n",
    "\n",
    "from sklearn.linear_model import LinearRegression\n",
    "from sklearn.metrics import mean_squared_error\n",
    "\n",
    "import matplotlib.pyplot as plt\n",
    "%matplotlib inline"
   ]
  },
  {
   "cell_type": "code",
   "execution_count": 69,
   "metadata": {
    "collapsed": true
   },
   "outputs": [],
   "source": [
    "train = pd.read_csv('/data/project2/train.csv')\n",
    "test = pd.read_csv('/data/project2/test.csv')"
   ]
  },
  {
   "cell_type": "code",
   "execution_count": 56,
   "metadata": {
    "collapsed": false,
    "scrolled": true
   },
   "outputs": [
    {
     "data": {
      "text/html": [
       "<div>\n",
       "<table border=\"1\" class=\"dataframe\">\n",
       "  <thead>\n",
       "    <tr style=\"text-align: right;\">\n",
       "      <th></th>\n",
       "      <th>Index</th>\n",
       "      <th>Region</th>\n",
       "      <th>Total Food Expenditure</th>\n",
       "      <th>Main Source of Income</th>\n",
       "      <th>Agricultural Household indicator</th>\n",
       "      <th>Bread and Cereals Expenditure</th>\n",
       "      <th>Total Rice Expenditure</th>\n",
       "      <th>Meat Expenditure</th>\n",
       "      <th>Total Fish and  marine products Expenditure</th>\n",
       "      <th>Fruit Expenditure</th>\n",
       "      <th>...</th>\n",
       "      <th>Number of Airconditioner</th>\n",
       "      <th>Number of Car, Jeep, Van</th>\n",
       "      <th>Number of Landline/wireless telephones</th>\n",
       "      <th>Number of Cellular phone</th>\n",
       "      <th>Number of Personal Computer</th>\n",
       "      <th>Number of Stove with Oven/Gas Range</th>\n",
       "      <th>Number of Motorized Banca</th>\n",
       "      <th>Number of Motorcycle/Tricycle</th>\n",
       "      <th>Total Household Income</th>\n",
       "      <th>ones</th>\n",
       "    </tr>\n",
       "  </thead>\n",
       "  <tbody>\n",
       "    <tr>\n",
       "      <th>0</th>\n",
       "      <td>22617</td>\n",
       "      <td>CAR</td>\n",
       "      <td>81940</td>\n",
       "      <td>Enterpreneurial Activities</td>\n",
       "      <td>1</td>\n",
       "      <td>44171</td>\n",
       "      <td>40336</td>\n",
       "      <td>9053</td>\n",
       "      <td>4499</td>\n",
       "      <td>5245</td>\n",
       "      <td>...</td>\n",
       "      <td>0</td>\n",
       "      <td>0</td>\n",
       "      <td>0</td>\n",
       "      <td>2</td>\n",
       "      <td>0</td>\n",
       "      <td>0</td>\n",
       "      <td>0</td>\n",
       "      <td>0</td>\n",
       "      <td>115835</td>\n",
       "      <td>1</td>\n",
       "    </tr>\n",
       "    <tr>\n",
       "      <th>1</th>\n",
       "      <td>21389</td>\n",
       "      <td>V - Bicol Region</td>\n",
       "      <td>26176</td>\n",
       "      <td>Other sources of Income</td>\n",
       "      <td>0</td>\n",
       "      <td>14477</td>\n",
       "      <td>13067</td>\n",
       "      <td>722</td>\n",
       "      <td>3707</td>\n",
       "      <td>755</td>\n",
       "      <td>...</td>\n",
       "      <td>0</td>\n",
       "      <td>0</td>\n",
       "      <td>0</td>\n",
       "      <td>0</td>\n",
       "      <td>0</td>\n",
       "      <td>0</td>\n",
       "      <td>0</td>\n",
       "      <td>0</td>\n",
       "      <td>44339</td>\n",
       "      <td>1</td>\n",
       "    </tr>\n",
       "    <tr>\n",
       "      <th>2</th>\n",
       "      <td>25275</td>\n",
       "      <td>III - Central Luzon</td>\n",
       "      <td>139920</td>\n",
       "      <td>Enterpreneurial Activities</td>\n",
       "      <td>0</td>\n",
       "      <td>31053</td>\n",
       "      <td>21720</td>\n",
       "      <td>12005</td>\n",
       "      <td>10415</td>\n",
       "      <td>1090</td>\n",
       "      <td>...</td>\n",
       "      <td>0</td>\n",
       "      <td>0</td>\n",
       "      <td>0</td>\n",
       "      <td>1</td>\n",
       "      <td>0</td>\n",
       "      <td>0</td>\n",
       "      <td>0</td>\n",
       "      <td>1</td>\n",
       "      <td>223010</td>\n",
       "      <td>1</td>\n",
       "    </tr>\n",
       "    <tr>\n",
       "      <th>3</th>\n",
       "      <td>25298</td>\n",
       "      <td>III - Central Luzon</td>\n",
       "      <td>108931</td>\n",
       "      <td>Wage/Salaries</td>\n",
       "      <td>0</td>\n",
       "      <td>41374</td>\n",
       "      <td>29008</td>\n",
       "      <td>12250</td>\n",
       "      <td>11840</td>\n",
       "      <td>1455</td>\n",
       "      <td>...</td>\n",
       "      <td>0</td>\n",
       "      <td>0</td>\n",
       "      <td>0</td>\n",
       "      <td>2</td>\n",
       "      <td>0</td>\n",
       "      <td>1</td>\n",
       "      <td>0</td>\n",
       "      <td>0</td>\n",
       "      <td>224252</td>\n",
       "      <td>1</td>\n",
       "    </tr>\n",
       "    <tr>\n",
       "      <th>4</th>\n",
       "      <td>7780</td>\n",
       "      <td>V - Bicol Region</td>\n",
       "      <td>61539</td>\n",
       "      <td>Other sources of Income</td>\n",
       "      <td>1</td>\n",
       "      <td>23758</td>\n",
       "      <td>19656</td>\n",
       "      <td>2496</td>\n",
       "      <td>12446</td>\n",
       "      <td>2448</td>\n",
       "      <td>...</td>\n",
       "      <td>0</td>\n",
       "      <td>0</td>\n",
       "      <td>0</td>\n",
       "      <td>1</td>\n",
       "      <td>0</td>\n",
       "      <td>0</td>\n",
       "      <td>0</td>\n",
       "      <td>1</td>\n",
       "      <td>125863</td>\n",
       "      <td>1</td>\n",
       "    </tr>\n",
       "  </tbody>\n",
       "</table>\n",
       "<p>5 rows × 62 columns</p>\n",
       "</div>"
      ],
      "text/plain": [
       "   Index               Region  Total Food Expenditure  \\\n",
       "0  22617                  CAR                   81940   \n",
       "1  21389     V - Bicol Region                   26176   \n",
       "2  25275  III - Central Luzon                  139920   \n",
       "3  25298  III - Central Luzon                  108931   \n",
       "4   7780     V - Bicol Region                   61539   \n",
       "\n",
       "        Main Source of Income  Agricultural Household indicator  \\\n",
       "0  Enterpreneurial Activities                                 1   \n",
       "1     Other sources of Income                                 0   \n",
       "2  Enterpreneurial Activities                                 0   \n",
       "3               Wage/Salaries                                 0   \n",
       "4     Other sources of Income                                 1   \n",
       "\n",
       "   Bread and Cereals Expenditure  Total Rice Expenditure  Meat Expenditure  \\\n",
       "0                          44171                   40336              9053   \n",
       "1                          14477                   13067               722   \n",
       "2                          31053                   21720             12005   \n",
       "3                          41374                   29008             12250   \n",
       "4                          23758                   19656              2496   \n",
       "\n",
       "   Total Fish and  marine products Expenditure  Fruit Expenditure  ...   \\\n",
       "0                                         4499               5245  ...    \n",
       "1                                         3707                755  ...    \n",
       "2                                        10415               1090  ...    \n",
       "3                                        11840               1455  ...    \n",
       "4                                        12446               2448  ...    \n",
       "\n",
       "   Number of Airconditioner  Number of Car, Jeep, Van  \\\n",
       "0                         0                         0   \n",
       "1                         0                         0   \n",
       "2                         0                         0   \n",
       "3                         0                         0   \n",
       "4                         0                         0   \n",
       "\n",
       "   Number of Landline/wireless telephones  Number of Cellular phone  \\\n",
       "0                                       0                         2   \n",
       "1                                       0                         0   \n",
       "2                                       0                         1   \n",
       "3                                       0                         2   \n",
       "4                                       0                         1   \n",
       "\n",
       "   Number of Personal Computer  Number of Stove with Oven/Gas Range  \\\n",
       "0                            0                                    0   \n",
       "1                            0                                    0   \n",
       "2                            0                                    0   \n",
       "3                            0                                    1   \n",
       "4                            0                                    0   \n",
       "\n",
       "   Number of Motorized Banca  Number of Motorcycle/Tricycle  \\\n",
       "0                          0                              0   \n",
       "1                          0                              0   \n",
       "2                          0                              1   \n",
       "3                          0                              0   \n",
       "4                          0                              1   \n",
       "\n",
       "   Total Household Income  ones  \n",
       "0                  115835     1  \n",
       "1                   44339     1  \n",
       "2                  223010     1  \n",
       "3                  224252     1  \n",
       "4                  125863     1  \n",
       "\n",
       "[5 rows x 62 columns]"
      ]
     },
     "execution_count": 56,
     "metadata": {},
     "output_type": "execute_result"
    }
   ],
   "source": [
    "train.head()"
   ]
  },
  {
   "cell_type": "code",
   "execution_count": 7,
   "metadata": {
    "collapsed": false
   },
   "outputs": [
    {
     "data": {
      "text/plain": [
       "Index(['Index', 'Region', 'Total Food Expenditure', 'Main Source of Income',\n",
       "       'Agricultural Household indicator', 'Bread and Cereals Expenditure',\n",
       "       'Total Rice Expenditure', 'Meat Expenditure',\n",
       "       'Total Fish and  marine products Expenditure', 'Fruit Expenditure',\n",
       "       'Vegetables Expenditure', 'Restaurant and hotels Expenditure',\n",
       "       'Alcoholic Beverages Expenditure', 'Tobacco Expenditure',\n",
       "       'Clothing, Footwear and Other Wear Expenditure',\n",
       "       'Housing and water Expenditure', 'Imputed House Rental Value',\n",
       "       'Medical Care Expenditure', 'Transportation Expenditure',\n",
       "       'Communication Expenditure', 'Education Expenditure',\n",
       "       'Miscellaneous Goods and Services Expenditure',\n",
       "       'Special Occasions Expenditure', 'Crop Farming and Gardening expenses',\n",
       "       'Total Income from Entrepreneurial Acitivites', 'Household Head Sex',\n",
       "       'Household Head Age', 'Household Head Marital Status',\n",
       "       'Household Head Highest Grade Completed',\n",
       "       'Household Head Job or Business Indicator', 'Household Head Occupation',\n",
       "       'Household Head Class of Worker', 'Type of Household',\n",
       "       'Total Number of Family members',\n",
       "       'Members with age less than 5 year old',\n",
       "       'Members with age 5 - 17 years old',\n",
       "       'Total number of family members employed', 'Type of Building/House',\n",
       "       'Type of Roof', 'Type of Walls', 'House Floor Area', 'House Age',\n",
       "       'Number of bedrooms', 'Tenure Status', 'Toilet Facilities',\n",
       "       'Electricity', 'Main Source of Water Supply', 'Number of Television',\n",
       "       'Number of CD/VCD/DVD', 'Number of Component/Stereo set',\n",
       "       'Number of Refrigerator/Freezer', 'Number of Washing Machine',\n",
       "       'Number of Airconditioner', 'Number of Car, Jeep, Van',\n",
       "       'Number of Landline/wireless telephones', 'Number of Cellular phone',\n",
       "       'Number of Personal Computer', 'Number of Stove with Oven/Gas Range',\n",
       "       'Number of Motorized Banca', 'Number of Motorcycle/Tricycle',\n",
       "       'Total Household Income'],\n",
       "      dtype='object')"
      ]
     },
     "execution_count": 7,
     "metadata": {},
     "output_type": "execute_result"
    }
   ],
   "source": [
    "train.columns"
   ]
  },
  {
   "cell_type": "code",
   "execution_count": 104,
   "metadata": {
    "collapsed": false
   },
   "outputs": [],
   "source": [
    "y_var = \"Total Household Income\"\n",
    "x_vars_num = ['Total Food Expenditure','Bread and Cereals Expenditure','Total Rice Expenditure',\n",
    "                  'Meat Expenditure','Total Fish and  marine products Expenditure','Fruit Expenditure',\n",
    "                  'Vegetables Expenditure', 'Restaurant and hotels Expenditure',\n",
    "                   'Alcoholic Beverages Expenditure', 'Tobacco Expenditure',\n",
    "                   'Clothing, Footwear and Other Wear Expenditure',\n",
    "                   'Housing and water Expenditure', 'Imputed House Rental Value',\n",
    "                   'Medical Care Expenditure', 'Transportation Expenditure',\n",
    "                   'Communication Expenditure', 'Education Expenditure',\n",
    "                   'Miscellaneous Goods and Services Expenditure',\n",
    "                   'Special Occasions Expenditure', 'Crop Farming and Gardening expenses',\n",
    "                   'Total Income from Entrepreneurial Acitivites', \n",
    "                   'Household Head Age', 'Total Number of Family members',\n",
    "                   'Members with age less than 5 year old',\n",
    "                   'Members with age 5 - 17 years old',\n",
    "                   'Total number of family members employed',\n",
    "                   'House Floor Area', 'House Age',\n",
    "                   'Number of bedrooms','Number of Television',\n",
    "                   'Number of CD/VCD/DVD', 'Number of Component/Stereo set',\n",
    "                   'Number of Refrigerator/Freezer', 'Number of Washing Machine',\n",
    "                   'Number of Airconditioner', 'Number of Car, Jeep, Van',\n",
    "                   'Number of Landline/wireless telephones', 'Number of Cellular phone',\n",
    "                   'Number of Personal Computer', 'Number of Stove with Oven/Gas Range',\n",
    "                   'Number of Motorized Banca', 'Number of Motorcycle/Tricycle']\n",
    "x_vars_cat = ['Region', 'Main Source of Income',\n",
    "               'Agricultural Household indicator', 'Household Head Sex',\n",
    "               'Household Head Marital Status',\n",
    "               'Household Head Highest Grade Completed',\n",
    "               'Household Head Job or Business Indicator', 'Household Head Occupation',\n",
    "               'Household Head Class of Worker', 'Type of Household',\n",
    "               'Type of Building/House', 'Type of Roof', 'Type of Walls', \n",
    "               'Tenure Status', 'Toilet Facilities',\n",
    "               'Electricity', 'Main Source of Water Supply']\n",
    "x_vars_both = ['Region', 'Total Food Expenditure', 'Main Source of Income',\n",
    "               'Agricultural Household indicator', 'Bread and Cereals Expenditure',\n",
    "               'Total Rice Expenditure', 'Meat Expenditure',\n",
    "               'Total Fish and  marine products Expenditure', 'Fruit Expenditure',\n",
    "               'Vegetables Expenditure', 'Restaurant and hotels Expenditure',\n",
    "               'Alcoholic Beverages Expenditure', 'Tobacco Expenditure',\n",
    "               'Clothing, Footwear and Other Wear Expenditure',\n",
    "               'Housing and water Expenditure', 'Imputed House Rental Value',\n",
    "               'Medical Care Expenditure', 'Transportation Expenditure',\n",
    "               'Communication Expenditure', 'Education Expenditure',\n",
    "               'Miscellaneous Goods and Services Expenditure',\n",
    "               'Special Occasions Expenditure', 'Crop Farming and Gardening expenses',\n",
    "               'Total Income from Entrepreneurial Acitivites', 'Household Head Sex',\n",
    "               'Household Head Age', 'Household Head Marital Status',\n",
    "               'Household Head Highest Grade Completed',\n",
    "               'Household Head Job or Business Indicator', 'Household Head Occupation',\n",
    "               'Household Head Class of Worker', 'Type of Household',\n",
    "               'Total Number of Family members',\n",
    "               'Members with age less than 5 year old',\n",
    "               'Members with age 5 - 17 years old',\n",
    "               'Total number of family members employed', 'Type of Building/House',\n",
    "               'Type of Roof', 'Type of Walls', 'House Floor Area', 'House Age',\n",
    "               'Number of bedrooms', 'Tenure Status', 'Toilet Facilities',\n",
    "               'Electricity', 'Main Source of Water Supply', 'Number of Television',\n",
    "               'Number of CD/VCD/DVD', 'Number of Component/Stereo set',\n",
    "               'Number of Refrigerator/Freezer', 'Number of Washing Machine',\n",
    "               'Number of Airconditioner', 'Number of Car, Jeep, Van',\n",
    "               'Number of Landline/wireless telephones', 'Number of Cellular phone',\n",
    "               'Number of Personal Computer', 'Number of Stove with Oven/Gas Range',\n",
    "               'Number of Motorized Banca', 'Number of Motorcycle/Tricycle']\n",
    "x_vars_feat = []"
   ]
  },
  {
   "cell_type": "code",
   "execution_count": 72,
   "metadata": {
    "collapsed": false
   },
   "outputs": [],
   "source": [
    "### LASSO CV for picking the most effective columns for linear regression\n",
    "def lassoChoose(y_col, x_cols):\n",
    "    y = train[y_col]\n",
    "    #x_cols.remove('review_len')\n",
    "    #x_cols.remove('lexi')\n",
    "    X = train[x_cols]\n",
    "    \n",
    "    #std_X = StandardScaler().fit_transform(X)\n",
    "    #std_m = LassoCV(cv=10)\n",
    "    regular_m = LassoCV(cv =10)\n",
    "\n",
    "    return regular_m.fit(X, y)"
   ]
  },
  {
   "cell_type": "code",
   "execution_count": 66,
   "metadata": {
    "collapsed": false
   },
   "outputs": [
    {
     "name": "stderr",
     "output_type": "stream",
     "text": [
      "/opt/conda/lib/python3.5/site-packages/sklearn/linear_model/coordinate_descent.py:1082: DataConversionWarning: A column-vector y was passed when a 1d array was expected. Please change the shape of y to (n_samples, ), for example using ravel().\n",
      "  y = column_or_1d(y, warn=True)\n"
     ]
    }
   ],
   "source": [
    "model_fit = lassoChoose(y_var,x_vars_num)\n",
    "#model_fit[y_var].predict(test[x_columns_to_model])"
   ]
  },
  {
   "cell_type": "code",
   "execution_count": 67,
   "metadata": {
    "collapsed": false
   },
   "outputs": [
    {
     "data": {
      "text/plain": [
       "array([ 135208.22942072,   48036.67803846,  339315.49647775, ...,\n",
       "        151806.58417541,  267644.64013818,  458594.4045334 ])"
      ]
     },
     "execution_count": 67,
     "metadata": {},
     "output_type": "execute_result"
    }
   ],
   "source": [
    "model_fit.predict(train[x_vars_num])"
   ]
  },
  {
   "cell_type": "code",
   "execution_count": 105,
   "metadata": {
    "collapsed": true
   },
   "outputs": [],
   "source": [
    "def lm(y_var, x_vars, data):    \n",
    "    \"\"\"Fits linear regression to predict y_var from x_vars.\n",
    "    \n",
    "    Args:\n",
    "      - y_var: A string represent the name of the column to use as the response variable.\n",
    "      - x_vars: A list of strings representing the names of the columns to use as predictors.\n",
    "      - data: A Pandas data frame.\n",
    "      \n",
    "    Returns:\n",
    "      - A Pandas Series that stores the variable names and the associated coefficients.\n",
    "    \"\"\"\n",
    "    ## create column of 1s and add to our data\n",
    "    D = data[x_vars].copy()\n",
    "    D[\"Intercept\"] = 1\n",
    "    #y = np.power(data[y_var],2)\n",
    "    y = data[y_var]\n",
    "    \n",
    "    ## Method 2: \n",
    "    V = np.dot(D.T,D)\n",
    "    W = np.dot(D.T,y)\n",
    "    coefs = np.linalg.solve(V,W)\n",
    "    return pd.Series(dict(zip(D.columns,coefs)))"
   ]
  },
  {
   "cell_type": "code",
   "execution_count": 77,
   "metadata": {
    "collapsed": false
   },
   "outputs": [],
   "source": [
    "from sklearn.linear_model import LinearRegression\n",
    "from sklearn.model_selection import cross_val_score\n",
    "\n",
    "model = LinearRegression()\n",
    "\n",
    "def forward_stepwise(y_var,x_vars,data):\n",
    "    y = data[y_var]\n",
    "    vars_remaining = x_vars.copy()\n",
    "    vars_in_model = []\n",
    "    last_error = -np.inf\n",
    "    \n",
    "    for _ in range(len(vars_remaining)):\n",
    "        scores = []\n",
    "        for var in vars_remaining:\n",
    "            candidate_vars = vars_in_model + [var]\n",
    "            X = data[candidate_vars]\n",
    "            scores.append(\n",
    "                cross_val_score(model, X, y, cv=10, scoring=\"neg_mean_squared_error\").mean()\n",
    "            )\n",
    "        i = np.argmax(scores)\n",
    "        if scores[i] <= last_error:\n",
    "            break\n",
    "        else:\n",
    "            last_error = scores[i]\n",
    "            var_to_add = vars_remaining[i]\n",
    "            vars_in_model.append(var_to_add)\n",
    "            del vars_remaining[i]\n",
    "    \n",
    "    return (vars_in_model)    "
   ]
  },
  {
   "cell_type": "code",
   "execution_count": 83,
   "metadata": {
    "collapsed": true
   },
   "outputs": [],
   "source": [
    "import copy\n",
    "model = LinearRegression()\n",
    "\n",
    "def backwards_stepwise(y_var,x_vars,data):\n",
    "    y = data[y_var]\n",
    "\n",
    "    vars_remaining = []\n",
    "    vars_in_model = x_vars.copy()\n",
    "    last_error = cross_val_score(model, data[vars_in_model], y, cv=10, scoring=\"neg_mean_squared_error\").mean()\n",
    "    for _ in range(len(vars_in_model)):\n",
    "        scores = []\n",
    "        for var in vars_in_model:\n",
    "            candidate_vars = copy.copy(vars_in_model)\n",
    "            candidate_vars.remove(var)\n",
    "            X = data[candidate_vars]\n",
    "            scores.append(\n",
    "                cross_val_score(model, X, y, cv=10, scoring=\"neg_mean_squared_error\").mean()\n",
    "            )\n",
    "        i = np.argmax(scores)\n",
    "        if scores[i] <= last_error:\n",
    "            break\n",
    "        else:\n",
    "            last_error = scores[i]\n",
    "            del vars_in_model[i]\n",
    "            \n",
    "    return (vars_in_model)"
   ]
  },
  {
   "cell_type": "markdown",
   "metadata": {},
   "source": [
    "## Prediction Equation"
   ]
  },
  {
   "cell_type": "code",
   "execution_count": 140,
   "metadata": {
    "collapsed": true
   },
   "outputs": [],
   "source": [
    "## Prediction equation\n",
    "def predict(data,dictionary,column_name):\n",
    "    data[column_name] = dictionary.get(\"Intercept\")\n",
    "    for key in dictionary.keys():\n",
    "        if key != \"Intercept\":\n",
    "            data[column_name] += dictionary.get(key) * data[key]"
   ]
  },
  {
   "cell_type": "markdown",
   "metadata": {},
   "source": [
    "## Running Regression with Forwards Stepwise Variables (Numeric)"
   ]
  },
  {
   "cell_type": "code",
   "execution_count": 85,
   "metadata": {
    "collapsed": false
   },
   "outputs": [],
   "source": [
    "forwards_num = forward_stepwise(y_var,x_vars_num,train)"
   ]
  },
  {
   "cell_type": "code",
   "execution_count": 86,
   "metadata": {
    "collapsed": false
   },
   "outputs": [],
   "source": [
    "backwards_num = backwards_stepwise(y_var,x_vars_num,train)"
   ]
  },
  {
   "cell_type": "code",
   "execution_count": null,
   "metadata": {
    "collapsed": true
   },
   "outputs": [],
   "source": []
  },
  {
   "cell_type": "code",
   "execution_count": 141,
   "metadata": {
    "collapsed": false
   },
   "outputs": [],
   "source": [
    "model_num = lm(y_var,backwards_num,train)"
   ]
  },
  {
   "cell_type": "code",
   "execution_count": 138,
   "metadata": {
    "collapsed": false
   },
   "outputs": [
    {
     "data": {
      "text/plain": [
       "['Communication Expenditure',\n",
       " 'Total Income from Entrepreneurial Acitivites',\n",
       " 'Miscellaneous Goods and Services Expenditure',\n",
       " 'Housing and water Expenditure',\n",
       " 'Total Food Expenditure',\n",
       " 'Transportation Expenditure',\n",
       " 'Medical Care Expenditure',\n",
       " 'Total number of family members employed',\n",
       " 'Special Occasions Expenditure',\n",
       " 'Education Expenditure',\n",
       " 'Clothing, Footwear and Other Wear Expenditure',\n",
       " 'Number of Airconditioner',\n",
       " 'Household Head Age',\n",
       " 'Number of Personal Computer',\n",
       " 'Imputed House Rental Value',\n",
       " 'Total Number of Family members',\n",
       " 'Number of Stove with Oven/Gas Range',\n",
       " 'Number of bedrooms',\n",
       " 'Members with age less than 5 year old',\n",
       " 'Number of Car, Jeep, Van',\n",
       " 'Number of Landline/wireless telephones',\n",
       " 'Bread and Cereals Expenditure',\n",
       " 'Vegetables Expenditure',\n",
       " 'House Age']"
      ]
     },
     "execution_count": 138,
     "metadata": {},
     "output_type": "execute_result"
    }
   ],
   "source": [
    "forwards_num"
   ]
  },
  {
   "cell_type": "code",
   "execution_count": 139,
   "metadata": {
    "collapsed": false
   },
   "outputs": [
    {
     "data": {
      "text/plain": [
       "['Total Food Expenditure',\n",
       " 'Bread and Cereals Expenditure',\n",
       " 'Vegetables Expenditure',\n",
       " 'Clothing, Footwear and Other Wear Expenditure',\n",
       " 'Housing and water Expenditure',\n",
       " 'Imputed House Rental Value',\n",
       " 'Medical Care Expenditure',\n",
       " 'Transportation Expenditure',\n",
       " 'Communication Expenditure',\n",
       " 'Education Expenditure',\n",
       " 'Miscellaneous Goods and Services Expenditure',\n",
       " 'Special Occasions Expenditure',\n",
       " 'Total Income from Entrepreneurial Acitivites',\n",
       " 'Household Head Age',\n",
       " 'Total Number of Family members',\n",
       " 'Members with age less than 5 year old',\n",
       " 'Total number of family members employed',\n",
       " 'House Age',\n",
       " 'Number of bedrooms',\n",
       " 'Number of Airconditioner',\n",
       " 'Number of Car, Jeep, Van',\n",
       " 'Number of Landline/wireless telephones',\n",
       " 'Number of Personal Computer',\n",
       " 'Number of Stove with Oven/Gas Range']"
      ]
     },
     "execution_count": 139,
     "metadata": {},
     "output_type": "execute_result"
    }
   ],
   "source": [
    "backwards_num"
   ]
  },
  {
   "cell_type": "code",
   "execution_count": 142,
   "metadata": {
    "collapsed": false
   },
   "outputs": [
    {
     "data": {
      "text/plain": [
       "124800.92769843177"
      ]
     },
     "execution_count": 142,
     "metadata": {},
     "output_type": "execute_result"
    }
   ],
   "source": [
    "## calculating the error of our models on the testing set\n",
    "#train[\"average\"] = np.mean(train[y_var])\n",
    "predict(train,model_num,\"pred_model_num\")\n",
    "np.std(train[y_var] - train[\"pred_model_num\"])\n",
    "#np.std(train[y_var] - train[\"average\"])"
   ]
  },
  {
   "cell_type": "code",
   "execution_count": 146,
   "metadata": {
    "collapsed": false
   },
   "outputs": [
    {
     "ename": "KeyError",
     "evalue": "('pred_model_num', 'Total Household Income')",
     "output_type": "error",
     "traceback": [
      "\u001b[0;31m---------------------------------------------------------------------------\u001b[0m",
      "\u001b[0;31mKeyError\u001b[0m                                  Traceback (most recent call last)",
      "\u001b[0;32m/opt/conda/lib/python3.5/site-packages/pandas/indexes/base.py\u001b[0m in \u001b[0;36mget_loc\u001b[0;34m(self, key, method, tolerance)\u001b[0m\n\u001b[1;32m   2133\u001b[0m             \u001b[0;32mtry\u001b[0m\u001b[0;34m:\u001b[0m\u001b[0;34m\u001b[0m\u001b[0m\n\u001b[0;32m-> 2134\u001b[0;31m                 \u001b[0;32mreturn\u001b[0m \u001b[0mself\u001b[0m\u001b[0;34m.\u001b[0m\u001b[0m_engine\u001b[0m\u001b[0;34m.\u001b[0m\u001b[0mget_loc\u001b[0m\u001b[0;34m(\u001b[0m\u001b[0mkey\u001b[0m\u001b[0;34m)\u001b[0m\u001b[0;34m\u001b[0m\u001b[0m\n\u001b[0m\u001b[1;32m   2135\u001b[0m             \u001b[0;32mexcept\u001b[0m \u001b[0mKeyError\u001b[0m\u001b[0;34m:\u001b[0m\u001b[0;34m\u001b[0m\u001b[0m\n",
      "\u001b[0;32mpandas/index.pyx\u001b[0m in \u001b[0;36mpandas.index.IndexEngine.get_loc (pandas/index.c:4433)\u001b[0;34m()\u001b[0m\n",
      "\u001b[0;32mpandas/index.pyx\u001b[0m in \u001b[0;36mpandas.index.IndexEngine.get_loc (pandas/index.c:4279)\u001b[0;34m()\u001b[0m\n",
      "\u001b[0;32mpandas/src/hashtable_class_helper.pxi\u001b[0m in \u001b[0;36mpandas.hashtable.PyObjectHashTable.get_item (pandas/hashtable.c:13742)\u001b[0;34m()\u001b[0m\n",
      "\u001b[0;32mpandas/src/hashtable_class_helper.pxi\u001b[0m in \u001b[0;36mpandas.hashtable.PyObjectHashTable.get_item (pandas/hashtable.c:13696)\u001b[0;34m()\u001b[0m\n",
      "\u001b[0;31mKeyError\u001b[0m: ('pred_model_num', 'Total Household Income')",
      "\nDuring handling of the above exception, another exception occurred:\n",
      "\u001b[0;31mKeyError\u001b[0m                                  Traceback (most recent call last)",
      "\u001b[0;32m<ipython-input-146-20471aa22f43>\u001b[0m in \u001b[0;36m<module>\u001b[0;34m()\u001b[0m\n\u001b[0;32m----> 1\u001b[0;31m \u001b[0mtrain\u001b[0m\u001b[0;34m[\u001b[0m\u001b[0;34m\"pred_model_num\"\u001b[0m\u001b[0;34m,\u001b[0m\u001b[0;34m\"Total Household Income\"\u001b[0m\u001b[0;34m]\u001b[0m\u001b[0;34m\u001b[0m\u001b[0m\n\u001b[0m",
      "\u001b[0;32m/opt/conda/lib/python3.5/site-packages/pandas/core/frame.py\u001b[0m in \u001b[0;36m__getitem__\u001b[0;34m(self, key)\u001b[0m\n\u001b[1;32m   2057\u001b[0m             \u001b[0;32mreturn\u001b[0m \u001b[0mself\u001b[0m\u001b[0;34m.\u001b[0m\u001b[0m_getitem_multilevel\u001b[0m\u001b[0;34m(\u001b[0m\u001b[0mkey\u001b[0m\u001b[0;34m)\u001b[0m\u001b[0;34m\u001b[0m\u001b[0m\n\u001b[1;32m   2058\u001b[0m         \u001b[0;32melse\u001b[0m\u001b[0;34m:\u001b[0m\u001b[0;34m\u001b[0m\u001b[0m\n\u001b[0;32m-> 2059\u001b[0;31m             \u001b[0;32mreturn\u001b[0m \u001b[0mself\u001b[0m\u001b[0;34m.\u001b[0m\u001b[0m_getitem_column\u001b[0m\u001b[0;34m(\u001b[0m\u001b[0mkey\u001b[0m\u001b[0;34m)\u001b[0m\u001b[0;34m\u001b[0m\u001b[0m\n\u001b[0m\u001b[1;32m   2060\u001b[0m \u001b[0;34m\u001b[0m\u001b[0m\n\u001b[1;32m   2061\u001b[0m     \u001b[0;32mdef\u001b[0m \u001b[0m_getitem_column\u001b[0m\u001b[0;34m(\u001b[0m\u001b[0mself\u001b[0m\u001b[0;34m,\u001b[0m \u001b[0mkey\u001b[0m\u001b[0;34m)\u001b[0m\u001b[0;34m:\u001b[0m\u001b[0;34m\u001b[0m\u001b[0m\n",
      "\u001b[0;32m/opt/conda/lib/python3.5/site-packages/pandas/core/frame.py\u001b[0m in \u001b[0;36m_getitem_column\u001b[0;34m(self, key)\u001b[0m\n\u001b[1;32m   2064\u001b[0m         \u001b[0;31m# get column\u001b[0m\u001b[0;34m\u001b[0m\u001b[0;34m\u001b[0m\u001b[0m\n\u001b[1;32m   2065\u001b[0m         \u001b[0;32mif\u001b[0m \u001b[0mself\u001b[0m\u001b[0;34m.\u001b[0m\u001b[0mcolumns\u001b[0m\u001b[0;34m.\u001b[0m\u001b[0mis_unique\u001b[0m\u001b[0;34m:\u001b[0m\u001b[0;34m\u001b[0m\u001b[0m\n\u001b[0;32m-> 2066\u001b[0;31m             \u001b[0;32mreturn\u001b[0m \u001b[0mself\u001b[0m\u001b[0;34m.\u001b[0m\u001b[0m_get_item_cache\u001b[0m\u001b[0;34m(\u001b[0m\u001b[0mkey\u001b[0m\u001b[0;34m)\u001b[0m\u001b[0;34m\u001b[0m\u001b[0m\n\u001b[0m\u001b[1;32m   2067\u001b[0m \u001b[0;34m\u001b[0m\u001b[0m\n\u001b[1;32m   2068\u001b[0m         \u001b[0;31m# duplicate columns & possible reduce dimensionality\u001b[0m\u001b[0;34m\u001b[0m\u001b[0;34m\u001b[0m\u001b[0m\n",
      "\u001b[0;32m/opt/conda/lib/python3.5/site-packages/pandas/core/generic.py\u001b[0m in \u001b[0;36m_get_item_cache\u001b[0;34m(self, item)\u001b[0m\n\u001b[1;32m   1384\u001b[0m         \u001b[0mres\u001b[0m \u001b[0;34m=\u001b[0m \u001b[0mcache\u001b[0m\u001b[0;34m.\u001b[0m\u001b[0mget\u001b[0m\u001b[0;34m(\u001b[0m\u001b[0mitem\u001b[0m\u001b[0;34m)\u001b[0m\u001b[0;34m\u001b[0m\u001b[0m\n\u001b[1;32m   1385\u001b[0m         \u001b[0;32mif\u001b[0m \u001b[0mres\u001b[0m \u001b[0;32mis\u001b[0m \u001b[0;32mNone\u001b[0m\u001b[0;34m:\u001b[0m\u001b[0;34m\u001b[0m\u001b[0m\n\u001b[0;32m-> 1386\u001b[0;31m             \u001b[0mvalues\u001b[0m \u001b[0;34m=\u001b[0m \u001b[0mself\u001b[0m\u001b[0;34m.\u001b[0m\u001b[0m_data\u001b[0m\u001b[0;34m.\u001b[0m\u001b[0mget\u001b[0m\u001b[0;34m(\u001b[0m\u001b[0mitem\u001b[0m\u001b[0;34m)\u001b[0m\u001b[0;34m\u001b[0m\u001b[0m\n\u001b[0m\u001b[1;32m   1387\u001b[0m             \u001b[0mres\u001b[0m \u001b[0;34m=\u001b[0m \u001b[0mself\u001b[0m\u001b[0;34m.\u001b[0m\u001b[0m_box_item_values\u001b[0m\u001b[0;34m(\u001b[0m\u001b[0mitem\u001b[0m\u001b[0;34m,\u001b[0m \u001b[0mvalues\u001b[0m\u001b[0;34m)\u001b[0m\u001b[0;34m\u001b[0m\u001b[0m\n\u001b[1;32m   1388\u001b[0m             \u001b[0mcache\u001b[0m\u001b[0;34m[\u001b[0m\u001b[0mitem\u001b[0m\u001b[0;34m]\u001b[0m \u001b[0;34m=\u001b[0m \u001b[0mres\u001b[0m\u001b[0;34m\u001b[0m\u001b[0m\n",
      "\u001b[0;32m/opt/conda/lib/python3.5/site-packages/pandas/core/internals.py\u001b[0m in \u001b[0;36mget\u001b[0;34m(self, item, fastpath)\u001b[0m\n\u001b[1;32m   3541\u001b[0m \u001b[0;34m\u001b[0m\u001b[0m\n\u001b[1;32m   3542\u001b[0m             \u001b[0;32mif\u001b[0m \u001b[0;32mnot\u001b[0m \u001b[0misnull\u001b[0m\u001b[0;34m(\u001b[0m\u001b[0mitem\u001b[0m\u001b[0;34m)\u001b[0m\u001b[0;34m:\u001b[0m\u001b[0;34m\u001b[0m\u001b[0m\n\u001b[0;32m-> 3543\u001b[0;31m                 \u001b[0mloc\u001b[0m \u001b[0;34m=\u001b[0m \u001b[0mself\u001b[0m\u001b[0;34m.\u001b[0m\u001b[0mitems\u001b[0m\u001b[0;34m.\u001b[0m\u001b[0mget_loc\u001b[0m\u001b[0;34m(\u001b[0m\u001b[0mitem\u001b[0m\u001b[0;34m)\u001b[0m\u001b[0;34m\u001b[0m\u001b[0m\n\u001b[0m\u001b[1;32m   3544\u001b[0m             \u001b[0;32melse\u001b[0m\u001b[0;34m:\u001b[0m\u001b[0;34m\u001b[0m\u001b[0m\n\u001b[1;32m   3545\u001b[0m                 \u001b[0mindexer\u001b[0m \u001b[0;34m=\u001b[0m \u001b[0mnp\u001b[0m\u001b[0;34m.\u001b[0m\u001b[0marange\u001b[0m\u001b[0;34m(\u001b[0m\u001b[0mlen\u001b[0m\u001b[0;34m(\u001b[0m\u001b[0mself\u001b[0m\u001b[0;34m.\u001b[0m\u001b[0mitems\u001b[0m\u001b[0;34m)\u001b[0m\u001b[0;34m)\u001b[0m\u001b[0;34m[\u001b[0m\u001b[0misnull\u001b[0m\u001b[0;34m(\u001b[0m\u001b[0mself\u001b[0m\u001b[0;34m.\u001b[0m\u001b[0mitems\u001b[0m\u001b[0;34m)\u001b[0m\u001b[0;34m]\u001b[0m\u001b[0;34m\u001b[0m\u001b[0m\n",
      "\u001b[0;32m/opt/conda/lib/python3.5/site-packages/pandas/indexes/base.py\u001b[0m in \u001b[0;36mget_loc\u001b[0;34m(self, key, method, tolerance)\u001b[0m\n\u001b[1;32m   2134\u001b[0m                 \u001b[0;32mreturn\u001b[0m \u001b[0mself\u001b[0m\u001b[0;34m.\u001b[0m\u001b[0m_engine\u001b[0m\u001b[0;34m.\u001b[0m\u001b[0mget_loc\u001b[0m\u001b[0;34m(\u001b[0m\u001b[0mkey\u001b[0m\u001b[0;34m)\u001b[0m\u001b[0;34m\u001b[0m\u001b[0m\n\u001b[1;32m   2135\u001b[0m             \u001b[0;32mexcept\u001b[0m \u001b[0mKeyError\u001b[0m\u001b[0;34m:\u001b[0m\u001b[0;34m\u001b[0m\u001b[0m\n\u001b[0;32m-> 2136\u001b[0;31m                 \u001b[0;32mreturn\u001b[0m \u001b[0mself\u001b[0m\u001b[0;34m.\u001b[0m\u001b[0m_engine\u001b[0m\u001b[0;34m.\u001b[0m\u001b[0mget_loc\u001b[0m\u001b[0;34m(\u001b[0m\u001b[0mself\u001b[0m\u001b[0;34m.\u001b[0m\u001b[0m_maybe_cast_indexer\u001b[0m\u001b[0;34m(\u001b[0m\u001b[0mkey\u001b[0m\u001b[0;34m)\u001b[0m\u001b[0;34m)\u001b[0m\u001b[0;34m\u001b[0m\u001b[0m\n\u001b[0m\u001b[1;32m   2137\u001b[0m \u001b[0;34m\u001b[0m\u001b[0m\n\u001b[1;32m   2138\u001b[0m         \u001b[0mindexer\u001b[0m \u001b[0;34m=\u001b[0m \u001b[0mself\u001b[0m\u001b[0;34m.\u001b[0m\u001b[0mget_indexer\u001b[0m\u001b[0;34m(\u001b[0m\u001b[0;34m[\u001b[0m\u001b[0mkey\u001b[0m\u001b[0;34m]\u001b[0m\u001b[0;34m,\u001b[0m \u001b[0mmethod\u001b[0m\u001b[0;34m=\u001b[0m\u001b[0mmethod\u001b[0m\u001b[0;34m,\u001b[0m \u001b[0mtolerance\u001b[0m\u001b[0;34m=\u001b[0m\u001b[0mtolerance\u001b[0m\u001b[0;34m)\u001b[0m\u001b[0;34m\u001b[0m\u001b[0m\n",
      "\u001b[0;32mpandas/index.pyx\u001b[0m in \u001b[0;36mpandas.index.IndexEngine.get_loc (pandas/index.c:4433)\u001b[0;34m()\u001b[0m\n",
      "\u001b[0;32mpandas/index.pyx\u001b[0m in \u001b[0;36mpandas.index.IndexEngine.get_loc (pandas/index.c:4279)\u001b[0;34m()\u001b[0m\n",
      "\u001b[0;32mpandas/src/hashtable_class_helper.pxi\u001b[0m in \u001b[0;36mpandas.hashtable.PyObjectHashTable.get_item (pandas/hashtable.c:13742)\u001b[0;34m()\u001b[0m\n",
      "\u001b[0;32mpandas/src/hashtable_class_helper.pxi\u001b[0m in \u001b[0;36mpandas.hashtable.PyObjectHashTable.get_item (pandas/hashtable.c:13696)\u001b[0;34m()\u001b[0m\n",
      "\u001b[0;31mKeyError\u001b[0m: ('pred_model_num', 'Total Household Income')"
     ]
    }
   ],
   "source": [
    "train[\"pred_model_num\",\"Total Household Income\"]"
   ]
  },
  {
   "cell_type": "code",
   "execution_count": null,
   "metadata": {
    "collapsed": false
   },
   "outputs": [],
   "source": []
  },
  {
   "cell_type": "code",
   "execution_count": null,
   "metadata": {
    "collapsed": false
   },
   "outputs": [],
   "source": []
  },
  {
   "cell_type": "code",
   "execution_count": 137,
   "metadata": {
    "collapsed": false
   },
   "outputs": [
    {
     "name": "stderr",
     "output_type": "stream",
     "text": [
      "/opt/conda/lib/python3.5/site-packages/sklearn/utils/validation.py:395: DeprecationWarning: Passing 1d arrays as data is deprecated in 0.17 and will raise ValueError in 0.19. Reshape your data either using X.reshape(-1, 1) if your data has a single feature or X.reshape(1, -1) if it contains a single sample.\n",
      "  DeprecationWarning)\n"
     ]
    },
    {
     "ename": "ValueError",
     "evalue": "Found input variables with inconsistent numbers of samples: [1, 33235]",
     "output_type": "error",
     "traceback": [
      "\u001b[0;31m---------------------------------------------------------------------------\u001b[0m",
      "\u001b[0;31mValueError\u001b[0m                                Traceback (most recent call last)",
      "\u001b[0;32m<ipython-input-137-f089f0e11ad1>\u001b[0m in \u001b[0;36m<module>\u001b[0;34m()\u001b[0m\n\u001b[1;32m      1\u001b[0m \u001b[0mmodel\u001b[0m \u001b[0;34m=\u001b[0m \u001b[0mLinearRegression\u001b[0m\u001b[0;34m(\u001b[0m\u001b[0;34m)\u001b[0m\u001b[0;34m\u001b[0m\u001b[0m\n\u001b[0;32m----> 2\u001b[0;31m \u001b[0mmodel\u001b[0m\u001b[0;34m.\u001b[0m\u001b[0mfit\u001b[0m\u001b[0;34m(\u001b[0m\u001b[0mforwards_num\u001b[0m\u001b[0;34m,\u001b[0m\u001b[0mtrain\u001b[0m\u001b[0;34m[\u001b[0m\u001b[0my_var\u001b[0m\u001b[0;34m]\u001b[0m\u001b[0;34m)\u001b[0m\u001b[0;34m\u001b[0m\u001b[0m\n\u001b[0m\u001b[1;32m      3\u001b[0m \u001b[0mtrain\u001b[0m\u001b[0;34m[\u001b[0m\u001b[0;34m\"pred_model_num\"\u001b[0m\u001b[0;34m]\u001b[0m \u001b[0;34m=\u001b[0m \u001b[0mmodel\u001b[0m\u001b[0;34m.\u001b[0m\u001b[0mpredict\u001b[0m\u001b[0;34m(\u001b[0m\u001b[0mtrain\u001b[0m\u001b[0;34m[\u001b[0m\u001b[0mforwards_num\u001b[0m\u001b[0;34m]\u001b[0m\u001b[0;34m)\u001b[0m\u001b[0;34m\u001b[0m\u001b[0m\n",
      "\u001b[0;32m/opt/conda/lib/python3.5/site-packages/sklearn/linear_model/base.py\u001b[0m in \u001b[0;36mfit\u001b[0;34m(self, X, y, sample_weight)\u001b[0m\n\u001b[1;32m    510\u001b[0m         \u001b[0mn_jobs_\u001b[0m \u001b[0;34m=\u001b[0m \u001b[0mself\u001b[0m\u001b[0;34m.\u001b[0m\u001b[0mn_jobs\u001b[0m\u001b[0;34m\u001b[0m\u001b[0m\n\u001b[1;32m    511\u001b[0m         X, y = check_X_y(X, y, accept_sparse=['csr', 'csc', 'coo'],\n\u001b[0;32m--> 512\u001b[0;31m                          y_numeric=True, multi_output=True)\n\u001b[0m\u001b[1;32m    513\u001b[0m \u001b[0;34m\u001b[0m\u001b[0m\n\u001b[1;32m    514\u001b[0m         \u001b[0;32mif\u001b[0m \u001b[0msample_weight\u001b[0m \u001b[0;32mis\u001b[0m \u001b[0;32mnot\u001b[0m \u001b[0;32mNone\u001b[0m \u001b[0;32mand\u001b[0m \u001b[0mnp\u001b[0m\u001b[0;34m.\u001b[0m\u001b[0matleast_1d\u001b[0m\u001b[0;34m(\u001b[0m\u001b[0msample_weight\u001b[0m\u001b[0;34m)\u001b[0m\u001b[0;34m.\u001b[0m\u001b[0mndim\u001b[0m \u001b[0;34m>\u001b[0m \u001b[0;36m1\u001b[0m\u001b[0;34m:\u001b[0m\u001b[0;34m\u001b[0m\u001b[0m\n",
      "\u001b[0;32m/opt/conda/lib/python3.5/site-packages/sklearn/utils/validation.py\u001b[0m in \u001b[0;36mcheck_X_y\u001b[0;34m(X, y, accept_sparse, dtype, order, copy, force_all_finite, ensure_2d, allow_nd, multi_output, ensure_min_samples, ensure_min_features, y_numeric, warn_on_dtype, estimator)\u001b[0m\n\u001b[1;32m    529\u001b[0m         \u001b[0my\u001b[0m \u001b[0;34m=\u001b[0m \u001b[0my\u001b[0m\u001b[0;34m.\u001b[0m\u001b[0mastype\u001b[0m\u001b[0;34m(\u001b[0m\u001b[0mnp\u001b[0m\u001b[0;34m.\u001b[0m\u001b[0mfloat64\u001b[0m\u001b[0;34m)\u001b[0m\u001b[0;34m\u001b[0m\u001b[0m\n\u001b[1;32m    530\u001b[0m \u001b[0;34m\u001b[0m\u001b[0m\n\u001b[0;32m--> 531\u001b[0;31m     \u001b[0mcheck_consistent_length\u001b[0m\u001b[0;34m(\u001b[0m\u001b[0mX\u001b[0m\u001b[0;34m,\u001b[0m \u001b[0my\u001b[0m\u001b[0;34m)\u001b[0m\u001b[0;34m\u001b[0m\u001b[0m\n\u001b[0m\u001b[1;32m    532\u001b[0m \u001b[0;34m\u001b[0m\u001b[0m\n\u001b[1;32m    533\u001b[0m     \u001b[0;32mreturn\u001b[0m \u001b[0mX\u001b[0m\u001b[0;34m,\u001b[0m \u001b[0my\u001b[0m\u001b[0;34m\u001b[0m\u001b[0m\n",
      "\u001b[0;32m/opt/conda/lib/python3.5/site-packages/sklearn/utils/validation.py\u001b[0m in \u001b[0;36mcheck_consistent_length\u001b[0;34m(*arrays)\u001b[0m\n\u001b[1;32m    179\u001b[0m     \u001b[0;32mif\u001b[0m \u001b[0mlen\u001b[0m\u001b[0;34m(\u001b[0m\u001b[0muniques\u001b[0m\u001b[0;34m)\u001b[0m \u001b[0;34m>\u001b[0m \u001b[0;36m1\u001b[0m\u001b[0;34m:\u001b[0m\u001b[0;34m\u001b[0m\u001b[0m\n\u001b[1;32m    180\u001b[0m         raise ValueError(\"Found input variables with inconsistent numbers of\"\n\u001b[0;32m--> 181\u001b[0;31m                          \" samples: %r\" % [int(l) for l in lengths])\n\u001b[0m\u001b[1;32m    182\u001b[0m \u001b[0;34m\u001b[0m\u001b[0m\n\u001b[1;32m    183\u001b[0m \u001b[0;34m\u001b[0m\u001b[0m\n",
      "\u001b[0;31mValueError\u001b[0m: Found input variables with inconsistent numbers of samples: [1, 33235]"
     ]
    }
   ],
   "source": [
    "model = LinearRegression()\n",
    "model.fit(forwards_num,train[y_var])\n",
    "train[\"pred_model_num\"] = model.predict(train[forwards_num])"
   ]
  },
  {
   "cell_type": "code",
   "execution_count": null,
   "metadata": {
    "collapsed": false
   },
   "outputs": [],
   "source": []
  },
  {
   "cell_type": "code",
   "execution_count": null,
   "metadata": {
    "collapsed": true
   },
   "outputs": [],
   "source": []
  },
  {
   "cell_type": "code",
   "execution_count": null,
   "metadata": {
    "collapsed": true
   },
   "outputs": [],
   "source": [
    "### NOTES\n",
    "\n",
    "\"\"\"\n",
    "How to do the thing where all the variables are grouped together.\n",
    "how to see the variables picked for the lasso\n",
    "\n",
    "\"\"\""
   ]
  },
  {
   "cell_type": "code",
   "execution_count": null,
   "metadata": {
    "collapsed": true
   },
   "outputs": [],
   "source": []
  },
  {
   "cell_type": "markdown",
   "metadata": {},
   "source": [
    "# Feature Engineering"
   ]
  },
  {
   "cell_type": "code",
   "execution_count": 148,
   "metadata": {
    "collapsed": false
   },
   "outputs": [
    {
     "data": {
      "text/plain": [
       "Index(['Index', 'Region', 'Total Food Expenditure', 'Main Source of Income',\n",
       "       'Agricultural Household indicator', 'Bread and Cereals Expenditure',\n",
       "       'Total Rice Expenditure', 'Meat Expenditure',\n",
       "       'Total Fish and  marine products Expenditure', 'Fruit Expenditure',\n",
       "       'Vegetables Expenditure', 'Restaurant and hotels Expenditure',\n",
       "       'Alcoholic Beverages Expenditure', 'Tobacco Expenditure',\n",
       "       'Clothing, Footwear and Other Wear Expenditure',\n",
       "       'Housing and water Expenditure', 'Imputed House Rental Value',\n",
       "       'Medical Care Expenditure', 'Transportation Expenditure',\n",
       "       'Communication Expenditure', 'Education Expenditure',\n",
       "       'Miscellaneous Goods and Services Expenditure',\n",
       "       'Special Occasions Expenditure', 'Crop Farming and Gardening expenses',\n",
       "       'Total Income from Entrepreneurial Acitivites', 'Household Head Sex',\n",
       "       'Household Head Age', 'Household Head Marital Status',\n",
       "       'Household Head Highest Grade Completed',\n",
       "       'Household Head Job or Business Indicator', 'Household Head Occupation',\n",
       "       'Household Head Class of Worker', 'Type of Household',\n",
       "       'Total Number of Family members',\n",
       "       'Members with age less than 5 year old',\n",
       "       'Members with age 5 - 17 years old',\n",
       "       'Total number of family members employed', 'Type of Building/House',\n",
       "       'Type of Roof', 'Type of Walls', 'House Floor Area', 'House Age',\n",
       "       'Number of bedrooms', 'Tenure Status', 'Toilet Facilities',\n",
       "       'Electricity', 'Main Source of Water Supply', 'Number of Television',\n",
       "       'Number of CD/VCD/DVD', 'Number of Component/Stereo set',\n",
       "       'Number of Refrigerator/Freezer', 'Number of Washing Machine',\n",
       "       'Number of Airconditioner', 'Number of Car, Jeep, Van',\n",
       "       'Number of Landline/wireless telephones', 'Number of Cellular phone',\n",
       "       'Number of Personal Computer', 'Number of Stove with Oven/Gas Range',\n",
       "       'Number of Motorized Banca', 'Number of Motorcycle/Tricycle',\n",
       "       'Total Household Income', 'pred_model_num', 'average'],\n",
       "      dtype='object')"
      ]
     },
     "execution_count": 148,
     "metadata": {},
     "output_type": "execute_result"
    }
   ],
   "source": [
    "train.columns"
   ]
  },
  {
   "cell_type": "code",
   "execution_count": 351,
   "metadata": {
    "collapsed": false
   },
   "outputs": [
    {
     "data": {
      "text/plain": [
       "0                                   Carpenters and joiners\n",
       "1                      Inland and coastal waters fishermen\n",
       "2        General managers/managing proprietors in trans...\n",
       "3                                 Welders and flamecutters\n",
       "4                                   Farmhands and laborers\n",
       "5                                              Bus drivers\n",
       "6                                                      NaN\n",
       "7                         Home-based personal care workers\n",
       "8                       Waiters, waitresses and bartenders\n",
       "9                                             Corn farmers\n",
       "10       Motor vehicle mechanics and related trades wor...\n",
       "11                                            Rice farmers\n",
       "12                                                     NaN\n",
       "13                                 Street ambulant vendors\n",
       "14       General managers/managing proprietors in agric...\n",
       "15                                                     NaN\n",
       "16                               Car, taxi and van drivers\n",
       "17                                                     NaN\n",
       "18                                            Rice farmers\n",
       "19                          Building construction laborers\n",
       "20                                                     NaN\n",
       "21                                                     NaN\n",
       "22       General managers/managing proprietors in whole...\n",
       "23                                     Hog raising farmers\n",
       "24                            Fishery laborers and helpers\n",
       "25       General managers/managing proprietors in agric...\n",
       "26                                                     NaN\n",
       "27                                         Combat soldiers\n",
       "28                           Heavy truck and lorry drivers\n",
       "29                                                     NaN\n",
       "                               ...                        \n",
       "33205    General managers/managing proprietors in whole...\n",
       "33206                  Shop salespersons and demonstrators\n",
       "33207                                         Corn farmers\n",
       "33208                                                  NaN\n",
       "33209                                                  NaN\n",
       "33210                  Inland and coastal waters fishermen\n",
       "33211                               Carpenters and joiners\n",
       "33212             Traditional chiefs and heads of villages\n",
       "33213                                                  NaN\n",
       "33214    General managers/managing proprietors in perso...\n",
       "33215                  Inland and coastal waters fishermen\n",
       "33216                                         Corn farmers\n",
       "33217                               Farmhands and laborers\n",
       "33218     Butchers, fishmongers and related food preparers\n",
       "33219                       Building construction laborers\n",
       "33220                                                  NaN\n",
       "33221    General managers/managing proprietors in trans...\n",
       "33222    General managers/managing proprietors in trans...\n",
       "33223                                         Corn farmers\n",
       "33224             Traditional chiefs and heads of villages\n",
       "33225    General managers/managing proprietors in manuf...\n",
       "33226    General managers/managing proprietors in whole...\n",
       "33227                                                  NaN\n",
       "33228                        Heavy truck and lorry drivers\n",
       "33229    General managers/managing proprietors in whole...\n",
       "33230             Traditional chiefs and heads of villages\n",
       "33231    General managers/managing proprietors in whole...\n",
       "33232    General managers/managing proprietors in trans...\n",
       "33233    General managers/managing proprietors in whole...\n",
       "33234    General managers/managing proprietors of resta...\n",
       "Name: Household Head Occupation, dtype: object"
      ]
     },
     "execution_count": 351,
     "metadata": {},
     "output_type": "execute_result"
    }
   ],
   "source": [
    "train['Household Head Occupation']"
   ]
  },
  {
   "cell_type": "code",
   "execution_count": null,
   "metadata": {
    "collapsed": true
   },
   "outputs": [],
   "source": [
    "from sklearn.metrics.pairwise import cosine_similarity"
   ]
  },
  {
   "cell_type": "code",
   "execution_count": 284,
   "metadata": {
    "collapsed": false
   },
   "outputs": [],
   "source": [
    "import re, math\n",
    "from collections import Counter\n",
    "\n",
    "WORD = re.compile(r'\\w+')\n",
    "\n",
    "def get_cosine(vec1, vec2):\n",
    "    intersection = set(vec1.keys()) & set(vec2.keys())\n",
    "    numerator = sum([vec1[x] * vec2[x] for x in intersection])\n",
    "\n",
    "    sum1 = sum([vec1[x]**2 for x in vec1.keys()])\n",
    "    sum2 = sum([vec2[x]**2 for x in vec2.keys()])\n",
    "    denominator = math.sqrt(sum1) * math.sqrt(sum2)\n",
    "\n",
    "    if not denominator:\n",
    "        return 0.0\n",
    "    else:\n",
    "        return float(numerator) / denominator\n",
    "\n",
    "def text_to_vector(text):\n",
    "    words = WORD.findall(text)\n",
    "    return Counter(words)"
   ]
  },
  {
   "cell_type": "code",
   "execution_count": null,
   "metadata": {
    "collapsed": false
   },
   "outputs": [],
   "source": []
  },
  {
   "cell_type": "code",
   "execution_count": 285,
   "metadata": {
    "collapsed": false
   },
   "outputs": [],
   "source": [
    "def cosine_sim(u,v):\n",
    "    return np.array(np.dot(u,v.T) / (np.sqrt(np.dot(u,u.T)) * np.sqrt(np.dot(v,v.T)))).item(0,0)"
   ]
  },
  {
   "cell_type": "code",
   "execution_count": 312,
   "metadata": {
    "collapsed": false
   },
   "outputs": [],
   "source": [
    "jobs = np.unique(list(train['Household Head Occupation']))\n",
    "from nltk.corpus import stopwords\n",
    "# ...\n",
    "newJobs = np.array([])\n",
    "for job in jobs:\n",
    "    temp = job.split(' ')\n",
    "    temp = [word.lower() for word in temp if word.lower() not in stopwords.words('english')]\n",
    "    newJobs = np.append(newJobs,\" \".join(temp))"
   ]
  },
  {
   "cell_type": "code",
   "execution_count": 313,
   "metadata": {
    "collapsed": true
   },
   "outputs": [],
   "source": [
    "from nltk.stem import PorterStemmer\n",
    "from nltk.tokenize import sent_tokenize, word_tokenize\n",
    "\n",
    "ps = PorterStemmer()\n",
    "newJobs2 = np.array([])\n",
    "for job in newJobs:\n",
    "    temp = job.split(' ')\n",
    "    temp = [ps.stem(word) for word in temp]\n",
    "    newJobs2 = np.append(newJobs2,\" \".join(temp))"
   ]
  },
  {
   "cell_type": "code",
   "execution_count": null,
   "metadata": {
    "collapsed": false
   },
   "outputs": [],
   "source": []
  },
  {
   "cell_type": "code",
   "execution_count": 317,
   "metadata": {
    "collapsed": true
   },
   "outputs": [],
   "source": [
    "from sklearn.feature_extraction.text import TfidfVectorizer\n",
    "tfidf_vectorizer=TfidfVectorizer()\n",
    "tfidf_matrix=tfidf_vectorizer.fit_transform(newJobs2)"
   ]
  },
  {
   "cell_type": "code",
   "execution_count": 318,
   "metadata": {
    "collapsed": false
   },
   "outputs": [],
   "source": [
    "cos_sims = np.array([])\n",
    "for i in range(np.size(newJobs2)):\n",
    "    for j in range(np.size(newJobs2)):\n",
    "        cos_sims = np.append(cos_sims,cosine_sim(tfidf_matrix[i],tfidf_matrix[j]))\n",
    "cos_sims = np.reshape(cos_sims,(370,370))"
   ]
  },
  {
   "cell_type": "code",
   "execution_count": 321,
   "metadata": {
    "collapsed": false
   },
   "outputs": [
    {
     "name": "stderr",
     "output_type": "stream",
     "text": [
      "/opt/conda/lib/python3.5/site-packages/sklearn/cluster/spectral.py:433: UserWarning: The spectral clustering API has changed. ``fit``now constructs an affinity matrix from data. To use a custom affinity matrix, set ``affinity=precomputed``.\n",
      "  warnings.warn(\"The spectral clustering API has changed. ``fit``\"\n"
     ]
    }
   ],
   "source": [
    "from sklearn.cluster import SpectralClustering\n",
    "mat = np.matrix(cos_sims)\n",
    "groups = SpectralClustering(15).fit_predict(mat)"
   ]
  },
  {
   "cell_type": "code",
   "execution_count": 381,
   "metadata": {
    "collapsed": false
   },
   "outputs": [
    {
     "data": {
      "text/plain": [
       "14"
      ]
     },
     "execution_count": 381,
     "metadata": {},
     "output_type": "execute_result"
    }
   ],
   "source": [
    "groups[5]"
   ]
  },
  {
   "cell_type": "code",
   "execution_count": 384,
   "metadata": {
    "collapsed": false
   },
   "outputs": [
    {
     "name": "stderr",
     "output_type": "stream",
     "text": [
      "/opt/conda/lib/python3.5/site-packages/ipykernel_launcher.py:5: FutureWarning: elementwise comparison failed; returning scalar instead, but in the future will perform elementwise comparison\n",
      "  \"\"\"\n"
     ]
    }
   ],
   "source": [
    "#train['Household Head Occupation'] = \n",
    "#np.where(jobs == train['Household Head Occupation'])\n",
    "\n",
    "\n",
    "jobIndexes = np.concatenate([np.where(jobs == job)[0] for job in train[\"Household Head Occupation\"]])\n",
    "jobCategory = np.array([groups[num] for num in jobIndexes])"
   ]
  },
  {
   "cell_type": "code",
   "execution_count": 387,
   "metadata": {
    "collapsed": false
   },
   "outputs": [
    {
     "data": {
      "text/plain": [
       "array([ 0,  0, 12, ..., 12, 12, 12], dtype=int32)"
      ]
     },
     "execution_count": 387,
     "metadata": {},
     "output_type": "execute_result"
    }
   ],
   "source": [
    "jobCategory"
   ]
  },
  {
   "cell_type": "code",
   "execution_count": null,
   "metadata": {
    "collapsed": true
   },
   "outputs": [],
   "source": []
  }
 ],
 "metadata": {
  "kernelspec": {
   "display_name": "Python 3",
   "language": "python",
   "name": "python3"
  },
  "language_info": {
   "codemirror_mode": {
    "name": "ipython",
    "version": 3
   },
   "file_extension": ".py",
   "mimetype": "text/x-python",
   "name": "python",
   "nbconvert_exporter": "python",
   "pygments_lexer": "ipython3",
   "version": "3.5.2"
  }
 },
 "nbformat": 4,
 "nbformat_minor": 2
}
