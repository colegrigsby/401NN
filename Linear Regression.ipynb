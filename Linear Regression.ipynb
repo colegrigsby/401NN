{
 "cells": [
  {
   "cell_type": "markdown",
   "metadata": {},
   "source": [
    "### Numerical features performed much better than categorical ones (alone)\n",
    "### Combining both produced almost the same as just numerical, or slightly better\n",
    "### Need a way to cluster head of household category "
   ]
  },
  {
   "cell_type": "markdown",
   "metadata": {},
   "source": [
    "### TODO FEATURE ENGINEERING\n",
    "\n",
    "### Adding income levels based on regions (sonia) average income level for each region in the training set\n",
    "### for each household, add # of sd's they are away from the average income level in their region\n",
    "\n",
    "### Groupings for grade: none, elementary, high school, bachelors, masters, program/trade school (sonia)\n",
    "\n",
    "### Percentage of family employed (# employed / total family) + interaction between the two terms (sonia)\n",
    "\n",
    "### (hans) the rest\n",
    "\n",
    "### Total number of electronics\n",
    "### Total number of motorized vehicles\n",
    "### housing/water expenditure x toilet facility interaction\n",
    "### Clustering types of jobs"
   ]
  },
  {
   "cell_type": "code",
   "execution_count": 11,
   "metadata": {
    "collapsed": false
   },
   "outputs": [],
   "source": [
    "import copy\n",
    "import matplotlib.pyplot as plt\n",
    "import numpy as np\n",
    "import pandas as pd\n",
    "\n",
    "from sklearn import preprocessing\n",
    "from sklearn.feature_selection import SelectFromModel\n",
    "from sklearn.feature_extraction.text import CountVectorizer, TfidfTransformer, TfidfVectorizer\n",
    "from sklearn.linear_model import Lasso, LinearRegression\n",
    "from sklearn.metrics import mean_squared_error\n",
    "from sklearn.model_selection import cross_val_score, GridSearchCV, KFold\n",
    "from sklearn.preprocessing import normalize\n",
    "from sklearn.metrics.pairwise import cosine_similarity\n",
    "\n",
    "import re, math\n",
    "from collections import Counter\n",
    "from nltk.corpus import stopwords\n",
    "from nltk.stem import PorterStemmer\n",
    "from nltk.tokenize import sent_tokenize, word_tokenize\n",
    "from sklearn.feature_extraction.text import TfidfVectorizer\n",
    "from sklearn.cluster import SpectralClustering\n",
    "from sklearn.cluster import SpectralClustering"
   ]
  },
  {
   "cell_type": "code",
   "execution_count": 82,
   "metadata": {
    "collapsed": false
   },
   "outputs": [],
   "source": [
    "def cosine_sim(u,v):\n",
    "    res = np.array(np.dot(u, v.T) / (np.sqrt(np.dot(u,u.T)) * np.sqrt(np.dot(v,v.T)))).item(0,0)\n",
    "    \n",
    "    if not np.isnan(res):\n",
    "        return res\n",
    "    \n",
    "    else:\n",
    "        return 1e-5"
   ]
  },
  {
   "cell_type": "code",
   "execution_count": 83,
   "metadata": {
    "collapsed": true
   },
   "outputs": [],
   "source": [
    "def clean_jobs(df):\n",
    "    jobs = np.unique(list(df['Household Head Occupation']))\n",
    "    \n",
    "    newJobs = np.array([])\n",
    "    for job in jobs:\n",
    "        temp = job.split(' ')\n",
    "        temp = [word.lower() for word in temp if word.lower() not in stopwords.words('english')]\n",
    "        newJobs = np.append(newJobs,\" \".join(temp))\n",
    "        \n",
    "    return newJobs"
   ]
  },
  {
   "cell_type": "code",
   "execution_count": 84,
   "metadata": {
    "collapsed": true
   },
   "outputs": [],
   "source": [
    "def stem_jobs(df):\n",
    "    ps = PorterStemmer()\n",
    "    newJobs = clean_jobs(df['Household Head Occupation'])\n",
    "    stemmed_jobs = np.array([])\n",
    "    \n",
    "    for job in newJobs:\n",
    "        temp = job.split(' ')\n",
    "        temp = [ps.stem(word) for word in temp]\n",
    "        stemmed_jobs = np.append(stemmed_jobs,\" \".join(temp))\n",
    "        \n",
    "    return stemmed_jobs"
   ]
  },
  {
   "cell_type": "code",
   "execution_count": 85,
   "metadata": {
    "collapsed": true
   },
   "outputs": [],
   "source": [
    "def cluster_jobs(df):\n",
    "    stemmed_jobs = stem_jobs(df)\n",
    "    numJobs = len(np.unique(df['Household Head Occupation']))\n",
    "    \n",
    "    # convert jobs to tf-idf vectors\n",
    "    tfidf_vectorizer=TfidfVectorizer()\n",
    "    tfidf_matrix=tfidf_vectorizer.fit_transform(stemmed_jobs)\n",
    "    \n",
    "    # get cosine similiarity between each job\n",
    "    cos_sims = np.array([])\n",
    "    for i in range(np.size(stemmed_jobs)):\n",
    "        for j in range(np.size(stemmed_jobs)):\n",
    "            cos_sims = np.append(cos_sims, cosine_sim(tfidf_matrix[i],tfidf_matrix[j]))\n",
    "            \n",
    "    cos_sims = np.reshape(cos_sims, (numJobs, numJobs))\n",
    "    \n",
    "    # cluster jobs into groupings\n",
    "    mat = np.matrix(cos_sims)\n",
    "    groups = SpectralClustering(15).fit_predict(mat)\n",
    "\n",
    "    # add column of job category\n",
    "    jobIndexes = np.concatenate([np.where(jobs == job)[0] for job in df['Household Head Occupation']])\n",
    "    jobCategory = np.array([groups[num] for num in jobIndexes])\n",
    "    \n",
    "    print ('Length of job index {0}, job category {1}'.format(jobIndex.shape, jobCategory.shape))\n",
    "    \n",
    "    return jobCategory"
   ]
  },
  {
   "cell_type": "code",
   "execution_count": 62,
   "metadata": {
    "collapsed": true
   },
   "outputs": [],
   "source": [
    "def select_features_from_lasso(X, y, alpha):\n",
    "    # fit lasso model and pass to select from model\n",
    "    Xtrain =normalize(X)\n",
    "    lasso = Lasso(alpha).fit(Xtrain, y)\n",
    "    model = SelectFromModel(lasso, prefit=True)\n",
    "\n",
    "    # new features\n",
    "    X_new = model.transform(X)\n",
    "    return X.columns[model.get_support()]"
   ]
  },
  {
   "cell_type": "code",
   "execution_count": 63,
   "metadata": {
    "collapsed": true
   },
   "outputs": [],
   "source": [
    "def backward_stepwise(X, y):\n",
    "    model = LinearRegression()\n",
    "\n",
    "    vars_remaining = []\n",
    "    vars_in_model = list(X.columns)\n",
    "    \n",
    "    last_error = cross_val_score(model, X[vars_in_model], y, cv=10, scoring=\"neg_mean_squared_error\").mean()\n",
    "    \n",
    "    for _ in range(len(vars_in_model)):\n",
    "        scores = []\n",
    "        for var in vars_in_model:\n",
    "            candidate_vars = copy.copy(vars_in_model)\n",
    "            candidate_vars.remove(var)\n",
    "            Xtrain = X[candidate_vars]\n",
    "            scores.append(\n",
    "                cross_val_score(model, normalize(Xtrain), y, cv=10, scoring=\"neg_mean_squared_error\").mean()\n",
    "            )\n",
    "        i = np.argmax(scores)\n",
    "        if scores[i] <= last_error:\n",
    "            break\n",
    "        else:\n",
    "            last_error = scores[i]\n",
    "            del vars_in_model[i]\n",
    "            \n",
    "    return vars_in_model"
   ]
  },
  {
   "cell_type": "code",
   "execution_count": 64,
   "metadata": {
    "collapsed": true
   },
   "outputs": [],
   "source": [
    "def forward_stepwise(X, y):\n",
    "    model = LinearRegression()\n",
    "\n",
    "    vars_remaining = list(X.columns)\n",
    "    vars_in_model = []\n",
    "    last_error = -np.inf\n",
    "\n",
    "    for _ in range(len(vars_remaining)):\n",
    "        scores = []\n",
    "        for var in vars_remaining:\n",
    "            candidate_vars = vars_in_model + [var]\n",
    "            Xtrain = X[candidate_vars]\n",
    "            scores.append(\n",
    "                cross_val_score(model, normalize(Xtrain), y, cv=10, scoring=\"neg_mean_squared_error\").mean()\n",
    "            )\n",
    "        i = np.argmax(scores)\n",
    "        if scores[i] <= last_error:\n",
    "            break\n",
    "        else:\n",
    "            last_error = scores[i]\n",
    "            var_to_add = vars_remaining[i]\n",
    "            vars_in_model.append(var_to_add)\n",
    "            del vars_remaining[i]\n",
    "\n",
    "    return vars_in_model"
   ]
  },
  {
   "cell_type": "code",
   "execution_count": 65,
   "metadata": {
    "collapsed": true
   },
   "outputs": [],
   "source": [
    "def get_categorical_numeric(df):\n",
    "    numerics = []\n",
    "    categorical = []\n",
    "\n",
    "    for col in df:\n",
    "        if((df[col].dtype == np.float64 or df[col].dtype == np.int64) and col != 'Unnamed: 0'):\n",
    "            numerics.append(col)\n",
    "\n",
    "        else:\n",
    "            categorical.append(col)\n",
    "\n",
    "    categorical_df = df[categorical]\n",
    "    numeric_df = df[numerics]\n",
    "    \n",
    "    return categorical_df, numeric_df"
   ]
  },
  {
   "cell_type": "code",
   "execution_count": 66,
   "metadata": {
    "collapsed": true
   },
   "outputs": [],
   "source": [
    "def remove_categorical(X, feat, columns):\n",
    "    for col in columns:\n",
    "        if col in X:\n",
    "            keep = []\n",
    "\n",
    "            for f in feat:\n",
    "                if col + '_' in f:\n",
    "                    keep.append(f.replace(col + '_', ''))\n",
    "\n",
    "            X[col][~(X[col].isin(keep))] = 'other'"
   ]
  },
  {
   "cell_type": "code",
   "execution_count": 67,
   "metadata": {
    "collapsed": true
   },
   "outputs": [],
   "source": [
    "def get_income_zscores(df):\n",
    "    regions = pd.DataFrame(df[['Total Household Income', 'Region']]\n",
    "        .groupby('Region').agg([np.mean, np.std]).to_records())\n",
    "    regions.columns = ['Region', 'Average Household Income', 'Standard Deviation']\n",
    "\n",
    "    z_scores = []\n",
    "\n",
    "    for income, region in zip(df['Total Household Income'], df['Region']):\n",
    "        idx = list(regions['Region']).index(region)\n",
    "        avg = list(regions['Average Household Income'])[idx]\n",
    "        sd = list(regions['Standard Deviation'])[idx]\n",
    "\n",
    "        z_scores.append((income - avg) / sd)\n",
    "\n",
    "    return z_scores"
   ]
  },
  {
   "cell_type": "code",
   "execution_count": 68,
   "metadata": {
    "collapsed": true
   },
   "outputs": [],
   "source": [
    "def group_highest_grade(df):\n",
    "    grades = []\n",
    "    \n",
    "    for grade in df['Household Head Highest Grade Completed']:\n",
    "        grade = grade.lower().strip()\n",
    "\n",
    "        if 'programs' in grade:\n",
    "            grades.append('Program/Trade School')\n",
    "\n",
    "        elif 'preschool' in grade:\n",
    "            grades.append('Preschool')\n",
    "\n",
    "        elif 'grade' in grade or 'elementary' in grade:\n",
    "            grades.append('Elementary')\n",
    "\n",
    "        elif 'high school' in grade:\n",
    "            grades.append('High School')\n",
    "\n",
    "        elif 'college' in grade:\n",
    "            grades.append('College')\n",
    "\n",
    "        elif 'secondary' in grade:\n",
    "            grades.append('Post Secondary')\n",
    "\n",
    "        elif 'baccalaureate' in grade:\n",
    "            grades.append('Baccalaureate')\n",
    "            \n",
    "    return grades"
   ]
  },
  {
   "cell_type": "code",
   "execution_count": 69,
   "metadata": {
    "collapsed": true
   },
   "outputs": [],
   "source": [
    "def percentage_employed(df):\n",
    "    df['Percentage of Family Employed'] = df['Total number of family members employed'] / df['Total Number of Family members']\n",
    "    df['Interaction between family members and employed'] = df['Total number of family members employed'] * df['Total Number of Family members']"
   ]
  },
  {
   "cell_type": "code",
   "execution_count": 70,
   "metadata": {
    "collapsed": false
   },
   "outputs": [],
   "source": [
    "\"\"\" \n",
    " use lasso regression to select columns for the model\n",
    " try a range of alpha parameters on the lasso model\n",
    " mode can be just categorical, numerical, or both\n",
    "\"\"\"\n",
    "def train_lasso(alphas, mode, df):\n",
    "    mse = []\n",
    "    y = df[['Total Household Income']] / 1e4\n",
    "    df = df.drop(['Total Household Income', 'Unnamed: 0'], axis=1)\n",
    "    \n",
    "    for alpha in alphas:\n",
    "        categorical_df, numeric_df = get_categorical_numeric(df)\n",
    "        reg = LinearRegression()\n",
    "        \n",
    "        # only used categorical features\n",
    "        # values not selected by lasso will be set to other\n",
    "        if mode == \"categorical\":\n",
    "            tmp = pd.get_dummies(categorical_df, columns = categorical_df.columns)\n",
    "            new_feat = select_features_from_lasso(tmp, y, alpha)\n",
    "            remove_categorical(categorical_df, new_feat, categorical_df.columns)\n",
    "            categorical_df = pd.get_dummies(categorical_df, columns = categorical_df.columns)\n",
    "            \n",
    "            print (\"Using alpha of {0} {1} columns were selected\".format(alpha, len(new_feat)))\n",
    "            print\n",
    "            print (', '.join(new_feat))\n",
    "            print \n",
    "            scores = cross_val_score(reg, categorical_df, y, cv=5, scoring='neg_mean_squared_error')\n",
    "           \n",
    "        # only use numerical features, and normalize the data\n",
    "        elif mode == \"numerical\":\n",
    "            new_feat = select_features_from_lasso(numeric_df, y, alpha)\n",
    "            Xnum = preprocessing.scale(numeric_df[new_feat])\n",
    "            \n",
    "            print (\"Using alpha of {0} {1} columns were selected\".format(alpha, len(new_feat)))\n",
    "            print \n",
    "            print (', '.join(new_feat))\n",
    "            print\n",
    "            \n",
    "            scores = cross_val_score(reg, Xnum, y, cv=5, scoring='neg_mean_squared_error')\n",
    "        \n",
    "        # use both features\n",
    "        else:\n",
    "            new_feat_cat = select_features_from_lasso(pd.get_dummies(categorical_df, categorical_df.columns), \n",
    "                y, alpha)\n",
    "            remove_categorical(categorical_df, new_feat_cat, categorical_df.columns)\n",
    "            categorical_df = pd.get_dummies(categorical_df, columns = categorical_df.columns)\n",
    "            \n",
    "            new_feat_num = select_features_from_lasso(numeric_df, y, alpha)\n",
    "            standardized = preprocessing.scale(numeric_df[new_feat_num])\n",
    "            \n",
    "            print (\"Using alpha of {0} {1} columns were selected\".format(alpha, len(categorical_df.columns) + \n",
    "                standardized.shape[1]))\n",
    "            print\n",
    "            print (', '.join(sorted(new_feat_num + new_feat_cat)))\n",
    "            print\n",
    "            \n",
    "            total = np.concatenate((standardized, categorical_df.as_matrix()), axis=1)\n",
    "            scores = cross_val_score(reg, total, y, cv=5, scoring='neg_mean_squared_error')\n",
    "\n",
    "        print (\"Alpha: {0}, MSE {1}\".format(alpha, np.mean(scores)))\n",
    "        print \n",
    "\n",
    "        mse.append(np.mean(scores))\n",
    "        \n",
    "    return mse"
   ]
  },
  {
   "cell_type": "code",
   "execution_count": 71,
   "metadata": {
    "collapsed": true
   },
   "outputs": [],
   "source": [
    "df = pd.read_csv('train.csv').dropna()"
   ]
  },
  {
   "cell_type": "markdown",
   "metadata": {},
   "source": [
    "### Predict household income from just numerical features"
   ]
  },
  {
   "cell_type": "markdown",
   "metadata": {},
   "source": [
    "### Lasso  regression to select numerical features\n",
    "### Normalize features first? (Increased MSE ...)\n",
    "### Alpha = 1e-5 selected 28 columns and produced the best MSE"
   ]
  },
  {
   "cell_type": "code",
   "execution_count": 10,
   "metadata": {
    "collapsed": false,
    "scrolled": true
   },
   "outputs": [
    {
     "name": "stdout",
     "output_type": "stream",
     "text": [
      "Using alpha of 1e-06 39 columns were selected\n",
      "\n",
      "Total Food Expenditure, Agricultural Household indicator, Bread and Cereals Expenditure, Total Rice Expenditure, Meat Expenditure, Total Fish and  marine products Expenditure, Fruit Expenditure, Vegetables Expenditure, Restaurant and hotels Expenditure, Alcoholic Beverages Expenditure, Tobacco Expenditure, Clothing, Footwear and Other Wear Expenditure, Housing and water Expenditure, Imputed House Rental Value, Medical Care Expenditure, Transportation Expenditure, Communication Expenditure, Education Expenditure, Miscellaneous Goods and Services Expenditure, Special Occasions Expenditure, Crop Farming and Gardening expenses, Total Income from Entrepreneurial Acitivites, Household Head Age, Total Number of Family members, Members with age 5 - 17 years old, Total number of family members employed, House Floor Area, House Age, Number of bedrooms, Electricity, Number of Television, Number of CD/VCD/DVD, Number of Refrigerator/Freezer, Number of Washing Machine, Number of Airconditioner, Number of Car, Jeep, Van, Number of Cellular phone, Number of Personal Computer, Number of Motorcycle/Tricycle\n",
      "\n",
      "Alpha: 1e-06, MSE -155.70805238\n",
      "\n",
      "Using alpha of 1e-05 28 columns were selected\n",
      "\n",
      "Total Food Expenditure, Bread and Cereals Expenditure, Total Rice Expenditure, Meat Expenditure, Total Fish and  marine products Expenditure, Fruit Expenditure, Vegetables Expenditure, Restaurant and hotels Expenditure, Alcoholic Beverages Expenditure, Tobacco Expenditure, Clothing, Footwear and Other Wear Expenditure, Housing and water Expenditure, Imputed House Rental Value, Medical Care Expenditure, Transportation Expenditure, Communication Expenditure, Education Expenditure, Miscellaneous Goods and Services Expenditure, Special Occasions Expenditure, Crop Farming and Gardening expenses, Total Income from Entrepreneurial Acitivites, Household Head Age, Total Number of Family members, Total number of family members employed, House Floor Area, House Age, Electricity, Number of Cellular phone\n",
      "\n",
      "Alpha: 1e-05, MSE -156.660302814\n",
      "\n",
      "Using alpha of 0.0001 24 columns were selected\n",
      "\n",
      "Total Food Expenditure, Bread and Cereals Expenditure, Total Rice Expenditure, Meat Expenditure, Total Fish and  marine products Expenditure, Fruit Expenditure, Vegetables Expenditure, Restaurant and hotels Expenditure, Alcoholic Beverages Expenditure, Tobacco Expenditure, Clothing, Footwear and Other Wear Expenditure, Housing and water Expenditure, Imputed House Rental Value, Medical Care Expenditure, Transportation Expenditure, Communication Expenditure, Education Expenditure, Miscellaneous Goods and Services Expenditure, Special Occasions Expenditure, Crop Farming and Gardening expenses, Total Income from Entrepreneurial Acitivites, Household Head Age, House Floor Area, House Age\n",
      "\n",
      "Alpha: 0.0001, MSE -164.308770879\n",
      "\n",
      "Using alpha of 0.001 22 columns were selected\n",
      "\n",
      "Total Food Expenditure, Bread and Cereals Expenditure, Total Rice Expenditure, Meat Expenditure, Total Fish and  marine products Expenditure, Fruit Expenditure, Vegetables Expenditure, Restaurant and hotels Expenditure, Alcoholic Beverages Expenditure, Tobacco Expenditure, Clothing, Footwear and Other Wear Expenditure, Housing and water Expenditure, Imputed House Rental Value, Medical Care Expenditure, Transportation Expenditure, Communication Expenditure, Education Expenditure, Miscellaneous Goods and Services Expenditure, Special Occasions Expenditure, Crop Farming and Gardening expenses, Total Income from Entrepreneurial Acitivites, Household Head Age\n",
      "\n",
      "Alpha: 0.001, MSE -164.290614893\n",
      "\n",
      "Using alpha of 0.01 18 columns were selected\n",
      "\n",
      "Total Food Expenditure, Bread and Cereals Expenditure, Total Rice Expenditure, Meat Expenditure, Total Fish and  marine products Expenditure, Vegetables Expenditure, Restaurant and hotels Expenditure, Tobacco Expenditure, Clothing, Footwear and Other Wear Expenditure, Housing and water Expenditure, Imputed House Rental Value, Transportation Expenditure, Communication Expenditure, Education Expenditure, Miscellaneous Goods and Services Expenditure, Special Occasions Expenditure, Crop Farming and Gardening expenses, Total Income from Entrepreneurial Acitivites\n",
      "\n",
      "Alpha: 0.01, MSE -168.026487176\n",
      "\n",
      "Using alpha of 0.1 11 columns were selected\n",
      "\n",
      "Total Food Expenditure, Bread and Cereals Expenditure, Total Rice Expenditure, Restaurant and hotels Expenditure, Transportation Expenditure, Communication Expenditure, Education Expenditure, Miscellaneous Goods and Services Expenditure, Special Occasions Expenditure, Crop Farming and Gardening expenses, Total Income from Entrepreneurial Acitivites\n",
      "\n",
      "Alpha: 0.1, MSE -185.207293316\n",
      "\n",
      "Using alpha of 1 2 columns were selected\n",
      "\n",
      "Total Food Expenditure, Bread and Cereals Expenditure\n",
      "\n",
      "Alpha: 1, MSE -457.103321358\n",
      "\n"
     ]
    }
   ],
   "source": [
    "mse = train_lasso([1e-6, 1e-5, 1e-4, 1e-3, 1e-2, 1e-1, 1], \"numerical\", df)"
   ]
  },
  {
   "cell_type": "code",
   "execution_count": 11,
   "metadata": {
    "collapsed": false
   },
   "outputs": [
    {
     "data": {
      "image/png": "[encoded data removed]",
      "text/plain": [
       "<matplotlib.figure.Figure at 0x110e05e50>"
      ]
     },
     "metadata": {},
     "output_type": "display_data"
    }
   ],
   "source": [
    "plt.plot(mse)\n",
    "plt.xlabel('Alpha')\n",
    "labels = [1e-6, 1e-5, 1e-4, 1e-3, 1e-2, 1e-1, 1]\n",
    "plt.xticks(range(len(labels)), labels, rotation='vertical')\n",
    "plt.ylabel('MSE')\n",
    "plt.title('Effect of Alpha Parameter on MSE')\n",
    "plt.show()"
   ]
  },
  {
   "cell_type": "markdown",
   "metadata": {},
   "source": [
    "### Predict household income from just categorical features"
   ]
  },
  {
   "cell_type": "markdown",
   "metadata": {},
   "source": [
    "### 500 columns after one-hot encoding and including all variables\n",
    "### Household head occupation has 370 unique values (can probably be reduced)"
   ]
  },
  {
   "cell_type": "markdown",
   "metadata": {},
   "source": [
    "### Alpha = 0.001 produced the best MSE and selected 107 columns\n",
    "### For categorical variables, if the variable is chosen by lasso keep it, otherwise\n",
    "### set it to an \"other\". Use the new dataframe in a linear regression model to\n",
    "### get the mse"
   ]
  },
  {
   "cell_type": "code",
   "execution_count": 12,
   "metadata": {
    "collapsed": false,
    "scrolled": true
   },
   "outputs": [
    {
     "name": "stderr",
     "output_type": "stream",
     "text": [
      "//anaconda/lib/python2.7/site-packages/sklearn/linear_model/coordinate_descent.py:484: ConvergenceWarning: Objective did not converge. You might want to increase the number of iterations. Fitting data with very small alpha may cause precision problems.\n",
      "  ConvergenceWarning)\n",
      "//anaconda/lib/python2.7/site-packages/pandas/core/generic.py:4485: SettingWithCopyWarning: \n",
      "A value is trying to be set on a copy of a slice from a DataFrame\n",
      "\n",
      "See the caveats in the documentation: http://pandas.pydata.org/pandas-docs/stable/indexing.html#indexing-view-versus-copy\n",
      "  self._update_inplace(new_data)\n",
      "/anaconda/lib/python2.7/site-packages/ipykernel/__main__.py:20: SettingWithCopyWarning: \n",
      "A value is trying to be set on a copy of a slice from a DataFrame\n",
      "\n",
      "See the caveats in the documentation: http://pandas.pydata.org/pandas-docs/stable/indexing.html#indexing-view-versus-copy\n"
     ]
    },
    {
     "name": "stdout",
     "output_type": "stream",
     "text": [
      "Using alpha of 0.001 233 columns were selected\n",
      "\n",
      "Region_ ARMM, Region_CAR, Region_Caraga, Region_I - Ilocos Region, Region_II - Cagayan Valley, Region_III - Central Luzon, Region_IVA - CALABARZON, Region_IVB - MIMAROPA, Region_IX - Zasmboanga Peninsula, Region_NCR, Region_V - Bicol Region, Region_VI - Western Visayas, Region_VIII - Eastern Visayas, Region_X - Northern Mindanao, Region_XI - Davao Region, Region_XII - SOCCSKSARGEN, Main Source of Income_Other sources of Income, Main Source of Income_Wage/Salaries, Household Head Sex_Female, Household Head Marital Status_Married, Household Head Marital Status_Single, Household Head Marital Status_Widowed, Household Head Highest Grade Completed_Agriculture, Forestry, and Fishery Programs, Household Head Highest Grade Completed_Architecture and Building Programs, Household Head Highest Grade Completed_Arts Programs, Household Head Highest Grade Completed_Business and Administration Programs, Household Head Highest Grade Completed_Elementary Graduate, Household Head Highest Grade Completed_Engineering and Engineering Trades Programs, Household Head Highest Grade Completed_Engineering and Engineering trades Programs, Household Head Highest Grade Completed_First Year College, Household Head Highest Grade Completed_First Year High School, Household Head Highest Grade Completed_First Year Post Secondary, Household Head Highest Grade Completed_Grade 1, Household Head Highest Grade Completed_Grade 2, Household Head Highest Grade Completed_Grade 3, Household Head Highest Grade Completed_Grade 4, Household Head Highest Grade Completed_Grade 5, Household Head Highest Grade Completed_Grade 6, Household Head Highest Grade Completed_Health Programs, Household Head Highest Grade Completed_High School Graduate, Household Head Highest Grade Completed_Journalism and Information Programs, Household Head Highest Grade Completed_Law Programs, Household Head Highest Grade Completed_Life Sciences Programs, Household Head Highest Grade Completed_No Grade Completed, Household Head Highest Grade Completed_Other Programs in Education at the Third Level, First Stage, of the Type that Leads to an Award not Equivalent to a First University or Baccalaureate Degree, Household Head Highest Grade Completed_Other Programs of Education at the Third Level, First Stage, of the Type that Leads to a Baccalaureate or First University/Professional Degree (HIgher Education Level, First Stage, or Collegiate Education Level), Household Head Highest Grade Completed_Personal Services Programs, Household Head Highest Grade Completed_Post Baccalaureate, Household Head Highest Grade Completed_Preschool, Household Head Highest Grade Completed_Second Year College, Household Head Highest Grade Completed_Second Year High School, Household Head Highest Grade Completed_Second Year Post Secondary, Household Head Highest Grade Completed_Security Services Programs, Household Head Highest Grade Completed_Social and Behavioral Science Programs, Household Head Highest Grade Completed_Teacher Training and Education Sciences Programs, Household Head Highest Grade Completed_Third Year College, Household Head Highest Grade Completed_Third Year High School, Household Head Highest Grade Completed_Veterinary Programs, Household Head Occupation_Accountants and auditors, Household Head Occupation_Agronomists and related scientists, Household Head Occupation_Aircraft pilots, navigators and flight engineers, Household Head Occupation_Architects, Household Head Occupation_Bakers, pastry cooks and confectionery makers, Household Head Occupation_Bet bookmakers and croupiers, Household Head Occupation_Bookkeepers, Household Head Occupation_Building and related electricians, Household Head Occupation_Building caretakers, Household Head Occupation_Building construction laborers, Household Head Occupation_Butchers, fishmongers and related food preparers, Household Head Occupation_Buyers, Household Head Occupation_Cabinet/furniture makers and related workers, Household Head Occupation_Car, taxi and van drivers, Household Head Occupation_Carpenters and joiners, Household Head Occupation_Cattle and dairy farmers, Household Head Occupation_Charcoal makers and related workers, Household Head Occupation_Chemical engineers, Household Head Occupation_Chicken farmers, Household Head Occupation_Civil engineers, Household Head Occupation_Coconut farmers, Household Head Occupation_Coffee and cacao farmers, Household Head Occupation_College, university and higher education teaching professionals, Household Head Occupation_Combat soldiers, Household Head Occupation_Commanding officers, Household Head Occupation_Computer engineers and related professionals, Household Head Occupation_Construction and maintenance laborers: roads, dams and similar constructions, Household Head Occupation_Cooks, Household Head Occupation_Corn farmers, Household Head Occupation_Cotton and fiber crops farmers, Household Head Occupation_Data entry operators, Household Head Occupation_Debt collectors and related workers, Household Head Occupation_Decorators and commercial designers, Household Head Occupation_Dentists, Household Head Occupation_Directors and chief executives of corporations, Household Head Occupation_Domestic helpers and cleaners, Household Head Occupation_Doorkeepers, watchpersons and related workers, Household Head Occupation_Electrical Engineers, Household Head Occupation_Electronics mechanics and servicers, Household Head Occupation_Estate agents, Household Head Occupation_Farmhands and laborers, Household Head Occupation_Finance and administration managers, Household Head Occupation_Fishery laborers and helpers, Household Head Occupation_Forestry laborers, Household Head Occupation_Freight handlers, Household Head Occupation_Fruit tree farmers, Household Head Occupation_Garbage collectors, Household Head Occupation_General elementary education teaching professionals, Household Head Occupation_General managers/managing proprietors in agriculture, hunting, forestry and fishing, Household Head Occupation_General managers/managing proprietors in construction, Household Head Occupation_General managers/managing proprietors in manufacturing, Household Head Occupation_General managers/managing proprietors in transportation, storage and communications, Household Head Occupation_General managers/managing proprietors in wholesale and retail trade, Household Head Occupation_General managers/managing proprietors n. e. c., Household Head Occupation_General managers/managing proprietors of business services, Household Head Occupation_General managers/managing proprietors of restaurants and hotels, Household Head Occupation_General secondary education teaching professionals, Household Head Occupation_Government administrators (including career executive service officers), Household Head Occupation_Government social benefits officials, Household Head Occupation_Hairdressers, barbers, beauticians and related workers, Household Head Occupation_Hand launderers and pressers, Household Head Occupation_Hand or pedal vehicle drivers, Household Head Occupation_Hand packers and other manufacturing laborers, Household Head Occupation_Heavy truck and lorry drivers, Household Head Occupation_Helpers and cleaners in offices, hotels and other establishments, Household Head Occupation_Hog raising farmers, Household Head Occupation_Inland and coastal waters fishermen, Household Head Occupation_Institution-based personal care workers, Household Head Occupation_Insurance representatives, Household Head Occupation_Lawyers, Household Head Occupation_Legislative officials, Household Head Occupation_Library and filing clerks, Household Head Occupation_Lineman, line installers and cable splicers, Household Head Occupation_Market and sidewalk stall vendors, Household Head Occupation_Masons and related concrete finishers, Household Head Occupation_Mechanical engineers, Household Head Occupation_Medical doctors, Household Head Occupation_Messengers, package and luggage porters and deliverers, Household Head Occupation_Mining and quarrying laborers, Household Head Occupation_Minor forest products gatherers, Household Head Occupation_Motorcycle drivers, Household Head Occupation_Non-ordained religious associate professionals, Household Head Occupation_Officers, n. e. c., Household Head Occupation_Other business services and trade brokers, Household Head Occupation_Other computer professionals, Household Head Occupation_Other field crop farmers, Household Head Occupation_Other life science technicians, Household Head Occupation_Other livestock farmers, Household Head Occupation_Other office clerks, Household Head Occupation_Other orchard farmers, Household Head Occupation_Other specialized managers, Household Head Occupation_Other supervisors, n. e. c., Household Head Occupation_Painters and related workers, Household Head Occupation_Personnel and human resource development professionals, Household Head Occupation_Personnel and industrial relations managers, Household Head Occupation_Physiotherapists, Household Head Occupation_Police inspectors and detectives, Household Head Occupation_Police officers, Household Head Occupation_Power production plant operators, Household Head Occupation_Prison guards, Household Head Occupation_Production and operations managers in business services, Household Head Occupation_Production and operations managers in manufacturing, Household Head Occupation_Production and operations managers in restaurant and hotels, Household Head Occupation_Production and operations managers in transport, storage and communications, Household Head Occupation_Production and operations managers in wholesale and retail trade, Household Head Occupation_Production supervisors and general foremen, Household Head Occupation_Professional, technical and related officers, Household Head Occupation_Protective services workers n. e. c., Household Head Occupation_Receptionists and information clerks, Household Head Occupation_Research and development managers, Household Head Occupation_Rice farmers, Household Head Occupation_Root crops farmers, Household Head Occupation_Sales and marketing managers, Household Head Occupation_Sales supervisors in retail trade, Household Head Occupation_Sales supervisors in wholesale trade, Household Head Occupation_School principals, Household Head Occupation_School supervisors and principals, Household Head Occupation_Secretaries, Household Head Occupation_Sewers, Embroiderers and related workers, Household Head Occupation_Shop salespersons and demonstrators, Household Head Occupation_Social work associate professionals, Household Head Occupation_Stall and market salespersons, Household Head Occupation_Stenographers and typists, Household Head Occupation_Street ambulant vendors, Household Head Occupation_Supply and distribution managers, Household Head Occupation_Sweepers and related laborers, Household Head Occupation_Systems analysts and designers, Household Head Occupation_Tailors, dressmakers and hatters, Household Head Occupation_Teaching associate professionals, Household Head Occupation_Technical and commercial sales representatives, Household Head Occupation_Town planners and related professionals, Household Head Occupation_Transport and communications service supervisors n. e. c., Household Head Occupation_Transport conductors, Household Head Occupation_Vegetable farmers, Household Head Occupation_Welders and flamecutters, Household Head Occupation_Wood products machine operators, Household Head Occupation_Workers reporting occupations unidentifiable or inadequately defined, Household Head Class of Worker_Employer in own family-operated farm or business, Household Head Class of Worker_Self-employed wihout any employee, Household Head Class of Worker_Worked for government/government corporation, Household Head Class of Worker_Worked for private establishment, Household Head Class of Worker_Worked for private household, Household Head Class of Worker_Worked without pay in own family-operated farm or business, Type of Household_Single Family, Type of Household_Two or More Nonrelated Persons/Members, Type of Building/House_Commercial/industrial/agricultural building, Type of Building/House_Multi-unit residential, Type of Building/House_Single house, Type of Roof_Light material (cogon,nipa,anahaw), Type of Roof_Mixed but predominantly strong materials, Type of Roof_Salvaged/makeshift materials, Type of Roof_Strong material(galvanized,iron,al,tile,concrete,brick,stone,asbestos), Type of Walls_Light, Type of Walls_Quite Strong, Type of Walls_Strong, Tenure Status_Not Applicable, Tenure Status_Own house, rent-free lot with consent of owner, Tenure Status_Own or owner-like possession of house and lot, Tenure Status_Rent house/room including lot, Tenure Status_Rent-free house and lot with consent of owner, Toilet Facilities_Open pit, Toilet Facilities_Others, Toilet Facilities_Water-sealed, other depository, shared with other household, Toilet Facilities_Water-sealed, other depository, used exclusively by household, Toilet Facilities_Water-sealed, sewer septic tank, shared with other household, Toilet Facilities_Water-sealed, sewer septic tank, used exclusively by household, Main Source of Water Supply_Lake, river, rain and others, Main Source of Water Supply_Others, Main Source of Water Supply_Own use, faucet, community water system, Main Source of Water Supply_Own use, tubed/piped deep well, Main Source of Water Supply_Peddler, Main Source of Water Supply_Protected spring, river, stream, etc, Main Source of Water Supply_Shared, faucet, community water system, Main Source of Water Supply_Shared, tubed/piped deep well, Main Source of Water Supply_Unprotected spring, river, stream, etc\n",
      "\n",
      "Alpha: 0.001, MSE -3.27935240208e+22\n",
      "\n",
      "Using alpha of 0.01 79 columns were selected\n",
      "\n",
      "Region_ ARMM, Region_CAR, Region_Caraga, Region_III - Central Luzon, Region_IVA - CALABARZON, Region_IX - Zasmboanga Peninsula, Region_NCR, Region_V - Bicol Region, Region_VI - Western Visayas, Region_VIII - Eastern Visayas, Region_X - Northern Mindanao, Region_XI - Davao Region, Region_XII - SOCCSKSARGEN, Main Source of Income_Other sources of Income, Main Source of Income_Wage/Salaries, Household Head Sex_Female, Household Head Marital Status_Married, Household Head Marital Status_Single, Household Head Marital Status_Widowed, Household Head Highest Grade Completed_Agriculture, Forestry, and Fishery Programs, Household Head Highest Grade Completed_Business and Administration Programs, Household Head Highest Grade Completed_Elementary Graduate, Household Head Highest Grade Completed_Engineering and Engineering Trades Programs, Household Head Highest Grade Completed_Engineering and Engineering trades Programs, Household Head Highest Grade Completed_First Year College, Household Head Highest Grade Completed_First Year High School, Household Head Highest Grade Completed_Grade 1, Household Head Highest Grade Completed_Grade 2, Household Head Highest Grade Completed_Grade 3, Household Head Highest Grade Completed_Grade 4, Household Head Highest Grade Completed_Grade 5, Household Head Highest Grade Completed_Grade 6, Household Head Highest Grade Completed_Health Programs, Household Head Highest Grade Completed_High School Graduate, Household Head Highest Grade Completed_Law Programs, Household Head Highest Grade Completed_No Grade Completed, Household Head Highest Grade Completed_Post Baccalaureate, Household Head Highest Grade Completed_Second Year High School, Household Head Highest Grade Completed_Security Services Programs, Household Head Highest Grade Completed_Social and Behavioral Science Programs, Household Head Highest Grade Completed_Teacher Training and Education Sciences Programs, Household Head Highest Grade Completed_Third Year College, Household Head Highest Grade Completed_Third Year High School, Household Head Occupation_Building construction laborers, Household Head Occupation_Carpenters and joiners, Household Head Occupation_Coconut farmers, Household Head Occupation_Corn farmers, Household Head Occupation_Farmhands and laborers, Household Head Occupation_Finance and administration managers, Household Head Occupation_Fruit tree farmers, Household Head Occupation_General managers/managing proprietors in construction, Household Head Occupation_General managers/managing proprietors in wholesale and retail trade, Household Head Occupation_General managers/managing proprietors of business services, Household Head Occupation_General managers/managing proprietors of restaurants and hotels, Household Head Occupation_Helpers and cleaners in offices, hotels and other establishments, Household Head Occupation_Legislative officials, Household Head Occupation_Market and sidewalk stall vendors, Household Head Occupation_Medical doctors, Household Head Occupation_Motorcycle drivers, Household Head Occupation_Protective services workers n. e. c., Household Head Occupation_Rice farmers, Household Head Class of Worker_Employer in own family-operated farm or business, Household Head Class of Worker_Self-employed wihout any employee, Household Head Class of Worker_Worked for government/government corporation, Household Head Class of Worker_Worked for private establishment, Household Head Class of Worker_Worked for private household, Type of Household_Single Family, Type of Building/House_Single house, Type of Roof_Mixed but predominantly strong materials, Type of Roof_Strong material(galvanized,iron,al,tile,concrete,brick,stone,asbestos), Type of Walls_Strong, Tenure Status_Own house, rent-free lot with consent of owner, Tenure Status_Own or owner-like possession of house and lot, Tenure Status_Rent house/room including lot, Tenure Status_Rent-free house and lot with consent of owner, Toilet Facilities_Water-sealed, sewer septic tank, shared with other household, Toilet Facilities_Water-sealed, sewer septic tank, used exclusively by household, Main Source of Water Supply_Own use, faucet, community water system, Main Source of Water Supply_Own use, tubed/piped deep well\n",
      "\n",
      "Alpha: 0.01, MSE -562.226935459\n",
      "\n",
      "Using alpha of 0.1 18 columns were selected\n",
      "\n",
      "Region_NCR, Household Head Marital Status_Married, Household Head Highest Grade Completed_Business and Administration Programs, Household Head Highest Grade Completed_Elementary Graduate, Household Head Highest Grade Completed_Engineering and Engineering Trades Programs, Household Head Highest Grade Completed_High School Graduate, Household Head Occupation_Farmhands and laborers, Household Head Occupation_General managers/managing proprietors in wholesale and retail trade, Household Head Class of Worker_Employer in own family-operated farm or business, Household Head Class of Worker_Self-employed wihout any employee, Household Head Class of Worker_Worked for government/government corporation, Type of Household_Single Family, Type of Roof_Strong material(galvanized,iron,al,tile,concrete,brick,stone,asbestos), Type of Walls_Strong, Tenure Status_Own or owner-like possession of house and lot, Toilet Facilities_Water-sealed, sewer septic tank, used exclusively by household, Main Source of Water Supply_Own use, faucet, community water system, Main Source of Water Supply_Own use, tubed/piped deep well\n",
      "\n",
      "Alpha: 0.1, MSE -631.673914687\n",
      "\n",
      "Using alpha of 1 1 columns were selected\n",
      "\n",
      "Main Source of Water Supply_Own use, faucet, community water system\n",
      "\n",
      "Alpha: 1, MSE -747.489725224\n",
      "\n"
     ]
    }
   ],
   "source": [
    "mse = train_lasso([1e-3, 1e-2, 0.1, 1],'categorical',df)"
   ]
  },
  {
   "cell_type": "code",
   "execution_count": 13,
   "metadata": {
    "collapsed": false
   },
   "outputs": [
    {
     "data": {
      "image/png": "[encoded data removed]",
      "text/plain": [
       "<matplotlib.figure.Figure at 0x111474810>"
      ]
     },
     "metadata": {},
     "output_type": "display_data"
    }
   ],
   "source": [
    "plt.plot(mse)\n",
    "plt.xlabel('Alpha')\n",
    "labels = [1e-3, 1e-2, 0.1, 1]\n",
    "plt.xticks(range(len(labels)), labels, rotation='vertical')\n",
    "plt.ylabel('MSE')\n",
    "plt.title('Effect of Alpha Parameter on MSE')\n",
    "plt.show()"
   ]
  },
  {
   "cell_type": "markdown",
   "metadata": {},
   "source": [
    "### Use all the features to compute the MSE"
   ]
  },
  {
   "cell_type": "code",
   "execution_count": 14,
   "metadata": {
    "collapsed": false
   },
   "outputs": [
    {
     "name": "stderr",
     "output_type": "stream",
     "text": [
      "/anaconda/lib/python2.7/site-packages/ipykernel/__main__.py:45: SettingWithCopyWarning: \n",
      "A value is trying to be set on a copy of a slice from a DataFrame\n",
      "\n",
      "See the caveats in the documentation: http://pandas.pydata.org/pandas-docs/stable/indexing.html#indexing-view-versus-copy\n"
     ]
    },
    {
     "name": "stdout",
     "output_type": "stream",
     "text": [
      "Using alpha of 0.01 112 columns were selected\n",
      "\n",
      "Bread and Cereals Expenditure, Clothing, Footwear and Other Wear Expenditure, Communication Expenditure, Crop Farming and Gardening expenses, Education Expenditure, Household Head Class of Worker_Employer in own family-operated farm or business, Household Head Class of Worker_Self-employed wihout any employee, Household Head Class of Worker_Worked for government/government corporation, Household Head Class of Worker_Worked for private establishment, Household Head Class of Worker_Worked for private household, Household Head Highest Grade Completed_Agriculture, Forestry, and Fishery Programs, Household Head Highest Grade Completed_Business and Administration Programs, Household Head Highest Grade Completed_Elementary Graduate, Household Head Highest Grade Completed_Engineering and Engineering Trades Programs, Household Head Highest Grade Completed_Engineering and Engineering trades Programs, Household Head Highest Grade Completed_First Year College, Household Head Highest Grade Completed_First Year High School, Household Head Highest Grade Completed_Grade 1, Household Head Highest Grade Completed_Grade 2, Household Head Highest Grade Completed_Grade 3, Household Head Highest Grade Completed_Grade 4, Household Head Highest Grade Completed_Grade 5, Household Head Highest Grade Completed_Grade 6, Household Head Highest Grade Completed_Health Programs, Household Head Highest Grade Completed_High School Graduate, Household Head Highest Grade Completed_Law Programs, Household Head Highest Grade Completed_No Grade Completed, Household Head Highest Grade Completed_Post Baccalaureate, Household Head Highest Grade Completed_Second Year High School, Household Head Highest Grade Completed_Security Services Programs, Household Head Highest Grade Completed_Social and Behavioral Science Programs, Household Head Highest Grade Completed_Teacher Training and Education Sciences Programs, Household Head Highest Grade Completed_Third Year College, Household Head Highest Grade Completed_Third Year High School, Household Head Marital Status_Married, Household Head Marital Status_Single, Household Head Marital Status_Widowed, Household Head Occupation_Building construction laborers, Household Head Occupation_Carpenters and joiners, Household Head Occupation_Coconut farmers, Household Head Occupation_Corn farmers, Household Head Occupation_Farmhands and laborers, Household Head Occupation_Finance and administration managers, Household Head Occupation_Fruit tree farmers, Household Head Occupation_General managers/managing proprietors in construction, Household Head Occupation_General managers/managing proprietors in wholesale and retail trade, Household Head Occupation_General managers/managing proprietors of business services, Household Head Occupation_General managers/managing proprietors of restaurants and hotels, Household Head Occupation_Helpers and cleaners in offices, hotels and other establishments, Household Head Occupation_Legislative officials, Household Head Occupation_Market and sidewalk stall vendors, Household Head Occupation_Medical doctors, Household Head Occupation_Motorcycle drivers, Household Head Occupation_Protective services workers n. e. c., Household Head Occupation_Rice farmers, Household Head Sex_Female, Housing and water Expenditure, Imputed House Rental Value, Main Source of Income_Other sources of Income, Main Source of Income_Wage/Salaries, Main Source of Water Supply_Own use, faucet, community water system, Main Source of Water Supply_Own use, tubed/piped deep well, Meat Expenditure, Miscellaneous Goods and Services Expenditure, Region_ ARMM, Region_CAR, Region_Caraga, Region_III - Central Luzon, Region_IVA - CALABARZON, Region_IX - Zasmboanga Peninsula, Region_NCR, Region_V - Bicol Region, Region_VI - Western Visayas, Region_VIII - Eastern Visayas, Region_X - Northern Mindanao, Region_XI - Davao Region, Region_XII - SOCCSKSARGEN, Restaurant and hotels Expenditure, Special Occasions Expenditure, Tenure Status_Own house, rent-free lot with consent of owner, Tenure Status_Own or owner-like possession of house and lot, Tenure Status_Rent house/room including lot, Tenure Status_Rent-free house and lot with consent of owner, Tobacco Expenditure, Toilet Facilities_Water-sealed, sewer septic tank, shared with other household, Toilet Facilities_Water-sealed, sewer septic tank, used exclusively by household, Total Fish and  marine products Expenditure, Total Food Expenditure, Total Income from Entrepreneurial Acitivites, Total Rice Expenditure, Transportation Expenditure, Type of Building/House_Single house, Type of Household_Single Family, Type of Roof_Mixed but predominantly strong materials, Type of Roof_Strong material(galvanized,iron,al,tile,concrete,brick,stone,asbestos), Type of Walls_Strong, Vegetables Expenditure\n",
      "\n"
     ]
    },
    {
     "name": "stderr",
     "output_type": "stream",
     "text": [
      "/anaconda/lib/python2.7/site-packages/ipykernel/__main__.py:54: FutureWarning: using '+' to provide set union with Indexes is deprecated, use '|' or .union()\n"
     ]
    },
    {
     "name": "stdout",
     "output_type": "stream",
     "text": [
      "Alpha: 0.01, MSE -154.480486003\n",
      "\n",
      "Using alpha of 0.1 44 columns were selected\n",
      "\n",
      "Bread and Cereals Expenditure, Communication Expenditure, Crop Farming and Gardening expenses, Education Expenditure, Household Head Class of Worker_Employer in own family-operated farm or business, Household Head Class of Worker_Self-employed wihout any employee, Household Head Class of Worker_Worked for government/government corporation, Household Head Highest Grade Completed_Business and Administration Programs, Household Head Highest Grade Completed_Elementary Graduate, Household Head Highest Grade Completed_Engineering and Engineering Trades Programs, Household Head Highest Grade Completed_High School Graduate, Household Head Marital Status_Married, Household Head Occupation_Farmhands and laborers, Household Head Occupation_General managers/managing proprietors in wholesale and retail trade, Main Source of Water Supply_Own use, faucet, community water system, Main Source of Water Supply_Own use, tubed/piped deep well, Miscellaneous Goods and Services Expenditure, Region_NCR, Restaurant and hotels Expenditure, Special Occasions Expenditure, Tenure Status_Own or owner-like possession of house and lot, Toilet Facilities_Water-sealed, sewer septic tank, used exclusively by household, Total Food Expenditure, Total Income from Entrepreneurial Acitivites, Total Rice Expenditure, Transportation Expenditure, Type of Household_Single Family, Type of Roof_Strong material(galvanized,iron,al,tile,concrete,brick,stone,asbestos), Type of Walls_Strong\n",
      "\n",
      "Alpha: 0.1, MSE -179.341379591\n",
      "\n",
      "Using alpha of 0.5 22 columns were selected\n",
      "\n",
      "Bread and Cereals Expenditure, Crop Farming and Gardening expenses, Main Source of Water Supply_Own use, faucet, community water system, Miscellaneous Goods and Services Expenditure, Toilet Facilities_Water-sealed, sewer septic tank, used exclusively by household, Total Food Expenditure, Type of Walls_Strong\n",
      "\n",
      "Alpha: 0.5, MSE -359.404097672\n",
      "\n",
      "Using alpha of 1 18 columns were selected\n",
      "\n",
      "Bread and Cereals Expenditure, Main Source of Water Supply_Own use, faucet, community water system, Total Food Expenditure\n",
      "\n",
      "Alpha: 1, MSE -453.833778537\n",
      "\n"
     ]
    }
   ],
   "source": [
    "mse = train_lasso([1e-2, 0.1, 0.5, 1], 'both', df)"
   ]
  },
  {
   "cell_type": "code",
   "execution_count": 15,
   "metadata": {
    "collapsed": false
   },
   "outputs": [
    {
     "data": {
      "image/png": "[encoded data removed]",
      "text/plain": [
       "<matplotlib.figure.Figure at 0x110ded810>"
      ]
     },
     "metadata": {},
     "output_type": "display_data"
    }
   ],
   "source": [
    "plt.plot(mse)\n",
    "plt.xlabel('Alpha')\n",
    "labels = [1e-2, 0.1, 0.5, 1]\n",
    "plt.xticks(range(len(labels)), labels, rotation='vertical')\n",
    "plt.ylabel('MSE')\n",
    "plt.title('Effect of Alpha Parameter on MSE')\n",
    "plt.show()"
   ]
  },
  {
   "cell_type": "markdown",
   "metadata": {
    "collapsed": true
   },
   "source": [
    "### Engineer features to improve performance\n",
    "\n",
    "\n",
    "### Add z-score for household income by region\n",
    "### Group 46 unique highest grade completed into 7 categories\n",
    "\n",
    "\n",
    "### Fill in missing values for occupation and head class\n",
    "### of worker with 'other'\n",
    "\n",
    "\n",
    "### Add % of family members employed\n",
    "### Interaction between # of family members and # of family members\n",
    "### employed"
   ]
  },
  {
   "cell_type": "code",
   "execution_count": 86,
   "metadata": {
    "collapsed": false
   },
   "outputs": [
    {
     "ename": "KeyError",
     "evalue": "'Household Head Occupation'",
     "output_type": "error",
     "traceback": [
      "\u001b[0;31m---------------------------------------------------------------------------\u001b[0m",
      "\u001b[0;31mKeyError\u001b[0m                                  Traceback (most recent call last)",
      "\u001b[0;32m<ipython-input-86-7b90117bd69a>\u001b[0m in \u001b[0;36m<module>\u001b[0;34m()\u001b[0m\n\u001b[1;32m      3\u001b[0m \u001b[0mdf\u001b[0m\u001b[0;34m[\u001b[0m\u001b[0;34m'Household Head Highest Grade Completed'\u001b[0m\u001b[0;34m]\u001b[0m \u001b[0;34m=\u001b[0m \u001b[0mgroup_highest_grade\u001b[0m\u001b[0;34m(\u001b[0m\u001b[0mdf\u001b[0m\u001b[0;34m)\u001b[0m\u001b[0;34m\u001b[0m\u001b[0m\n\u001b[1;32m      4\u001b[0m \u001b[0mpercentage_employed\u001b[0m\u001b[0;34m(\u001b[0m\u001b[0mdf\u001b[0m\u001b[0;34m)\u001b[0m\u001b[0;34m\u001b[0m\u001b[0m\n\u001b[0;32m----> 5\u001b[0;31m \u001b[0mdf\u001b[0m\u001b[0;34m[\u001b[0m\u001b[0;34m'Household Head Occupation Grouped'\u001b[0m\u001b[0;34m]\u001b[0m \u001b[0;34m=\u001b[0m \u001b[0mcluster_jobs\u001b[0m\u001b[0;34m(\u001b[0m\u001b[0mdf\u001b[0m\u001b[0;34m)\u001b[0m\u001b[0;34m\u001b[0m\u001b[0m\n\u001b[0m\u001b[1;32m      6\u001b[0m \u001b[0mdf\u001b[0m \u001b[0;34m=\u001b[0m \u001b[0mdf\u001b[0m\u001b[0;34m.\u001b[0m\u001b[0mdrop\u001b[0m\u001b[0;34m(\u001b[0m\u001b[0;34m[\u001b[0m\u001b[0;34m'Household Head Occupation'\u001b[0m\u001b[0;34m]\u001b[0m\u001b[0;34m,\u001b[0m \u001b[0maxis\u001b[0m\u001b[0;34m=\u001b[0m\u001b[0;36m1\u001b[0m\u001b[0;34m)\u001b[0m\u001b[0;34m\u001b[0m\u001b[0m\n",
      "\u001b[0;32m<ipython-input-85-7d720d3900f5>\u001b[0m in \u001b[0;36mcluster_jobs\u001b[0;34m(df)\u001b[0m\n\u001b[1;32m      1\u001b[0m \u001b[0;32mdef\u001b[0m \u001b[0mcluster_jobs\u001b[0m\u001b[0;34m(\u001b[0m\u001b[0mdf\u001b[0m\u001b[0;34m)\u001b[0m\u001b[0;34m:\u001b[0m\u001b[0;34m\u001b[0m\u001b[0m\n\u001b[0;32m----> 2\u001b[0;31m     \u001b[0mstemmed_jobs\u001b[0m \u001b[0;34m=\u001b[0m \u001b[0mstem_jobs\u001b[0m\u001b[0;34m(\u001b[0m\u001b[0mdf\u001b[0m\u001b[0;34m)\u001b[0m\u001b[0;34m\u001b[0m\u001b[0m\n\u001b[0m\u001b[1;32m      3\u001b[0m     \u001b[0mnumJobs\u001b[0m \u001b[0;34m=\u001b[0m \u001b[0mlen\u001b[0m\u001b[0;34m(\u001b[0m\u001b[0mnp\u001b[0m\u001b[0;34m.\u001b[0m\u001b[0munique\u001b[0m\u001b[0;34m(\u001b[0m\u001b[0mdf\u001b[0m\u001b[0;34m[\u001b[0m\u001b[0;34m'Household Head Occupation'\u001b[0m\u001b[0;34m]\u001b[0m\u001b[0;34m)\u001b[0m\u001b[0;34m)\u001b[0m\u001b[0;34m\u001b[0m\u001b[0m\n\u001b[1;32m      4\u001b[0m \u001b[0;34m\u001b[0m\u001b[0m\n\u001b[1;32m      5\u001b[0m     \u001b[0;31m# convert jobs to tf-idf vectors\u001b[0m\u001b[0;34m\u001b[0m\u001b[0;34m\u001b[0m\u001b[0m\n",
      "\u001b[0;32m<ipython-input-84-523906ef297a>\u001b[0m in \u001b[0;36mstem_jobs\u001b[0;34m(df)\u001b[0m\n\u001b[1;32m      1\u001b[0m \u001b[0;32mdef\u001b[0m \u001b[0mstem_jobs\u001b[0m\u001b[0;34m(\u001b[0m\u001b[0mdf\u001b[0m\u001b[0;34m)\u001b[0m\u001b[0;34m:\u001b[0m\u001b[0;34m\u001b[0m\u001b[0m\n\u001b[1;32m      2\u001b[0m     \u001b[0mps\u001b[0m \u001b[0;34m=\u001b[0m \u001b[0mPorterStemmer\u001b[0m\u001b[0;34m(\u001b[0m\u001b[0;34m)\u001b[0m\u001b[0;34m\u001b[0m\u001b[0m\n\u001b[0;32m----> 3\u001b[0;31m     \u001b[0mnewJobs\u001b[0m \u001b[0;34m=\u001b[0m \u001b[0mclean_jobs\u001b[0m\u001b[0;34m(\u001b[0m\u001b[0mdf\u001b[0m\u001b[0;34m[\u001b[0m\u001b[0;34m'Household Head Occupation'\u001b[0m\u001b[0;34m]\u001b[0m\u001b[0;34m)\u001b[0m\u001b[0;34m\u001b[0m\u001b[0m\n\u001b[0m\u001b[1;32m      4\u001b[0m     \u001b[0mstemmed_jobs\u001b[0m \u001b[0;34m=\u001b[0m \u001b[0mnp\u001b[0m\u001b[0;34m.\u001b[0m\u001b[0marray\u001b[0m\u001b[0;34m(\u001b[0m\u001b[0;34m[\u001b[0m\u001b[0;34m]\u001b[0m\u001b[0;34m)\u001b[0m\u001b[0;34m\u001b[0m\u001b[0m\n\u001b[1;32m      5\u001b[0m \u001b[0;34m\u001b[0m\u001b[0m\n",
      "\u001b[0;32m<ipython-input-83-925ca240a952>\u001b[0m in \u001b[0;36mclean_jobs\u001b[0;34m(df)\u001b[0m\n\u001b[1;32m      1\u001b[0m \u001b[0;32mdef\u001b[0m \u001b[0mclean_jobs\u001b[0m\u001b[0;34m(\u001b[0m\u001b[0mdf\u001b[0m\u001b[0;34m)\u001b[0m\u001b[0;34m:\u001b[0m\u001b[0;34m\u001b[0m\u001b[0m\n\u001b[0;32m----> 2\u001b[0;31m     \u001b[0mjobs\u001b[0m \u001b[0;34m=\u001b[0m \u001b[0mnp\u001b[0m\u001b[0;34m.\u001b[0m\u001b[0munique\u001b[0m\u001b[0;34m(\u001b[0m\u001b[0mlist\u001b[0m\u001b[0;34m(\u001b[0m\u001b[0mdf\u001b[0m\u001b[0;34m[\u001b[0m\u001b[0;34m'Household Head Occupation'\u001b[0m\u001b[0;34m]\u001b[0m\u001b[0;34m)\u001b[0m\u001b[0;34m)\u001b[0m\u001b[0;34m\u001b[0m\u001b[0m\n\u001b[0m\u001b[1;32m      3\u001b[0m \u001b[0;34m\u001b[0m\u001b[0m\n\u001b[1;32m      4\u001b[0m     \u001b[0mnewJobs\u001b[0m \u001b[0;34m=\u001b[0m \u001b[0mnp\u001b[0m\u001b[0;34m.\u001b[0m\u001b[0marray\u001b[0m\u001b[0;34m(\u001b[0m\u001b[0;34m[\u001b[0m\u001b[0;34m]\u001b[0m\u001b[0;34m)\u001b[0m\u001b[0;34m\u001b[0m\u001b[0m\n\u001b[1;32m      5\u001b[0m     \u001b[0;32mfor\u001b[0m \u001b[0mjob\u001b[0m \u001b[0;32min\u001b[0m \u001b[0mjobs\u001b[0m\u001b[0;34m:\u001b[0m\u001b[0;34m\u001b[0m\u001b[0m\n",
      "\u001b[0;32m//anaconda/lib/python2.7/site-packages/pandas/core/series.pyc\u001b[0m in \u001b[0;36m__getitem__\u001b[0;34m(self, key)\u001b[0m\n\u001b[1;32m    581\u001b[0m         \u001b[0mkey\u001b[0m \u001b[0;34m=\u001b[0m \u001b[0mcom\u001b[0m\u001b[0;34m.\u001b[0m\u001b[0m_apply_if_callable\u001b[0m\u001b[0;34m(\u001b[0m\u001b[0mkey\u001b[0m\u001b[0;34m,\u001b[0m \u001b[0mself\u001b[0m\u001b[0;34m)\u001b[0m\u001b[0;34m\u001b[0m\u001b[0m\n\u001b[1;32m    582\u001b[0m         \u001b[0;32mtry\u001b[0m\u001b[0;34m:\u001b[0m\u001b[0;34m\u001b[0m\u001b[0m\n\u001b[0;32m--> 583\u001b[0;31m             \u001b[0mresult\u001b[0m \u001b[0;34m=\u001b[0m \u001b[0mself\u001b[0m\u001b[0;34m.\u001b[0m\u001b[0mindex\u001b[0m\u001b[0;34m.\u001b[0m\u001b[0mget_value\u001b[0m\u001b[0;34m(\u001b[0m\u001b[0mself\u001b[0m\u001b[0;34m,\u001b[0m \u001b[0mkey\u001b[0m\u001b[0;34m)\u001b[0m\u001b[0;34m\u001b[0m\u001b[0m\n\u001b[0m\u001b[1;32m    584\u001b[0m \u001b[0;34m\u001b[0m\u001b[0m\n\u001b[1;32m    585\u001b[0m             \u001b[0;32mif\u001b[0m \u001b[0;32mnot\u001b[0m \u001b[0mlib\u001b[0m\u001b[0;34m.\u001b[0m\u001b[0misscalar\u001b[0m\u001b[0;34m(\u001b[0m\u001b[0mresult\u001b[0m\u001b[0;34m)\u001b[0m\u001b[0;34m:\u001b[0m\u001b[0;34m\u001b[0m\u001b[0m\n",
      "\u001b[0;32m//anaconda/lib/python2.7/site-packages/pandas/indexes/base.pyc\u001b[0m in \u001b[0;36mget_value\u001b[0;34m(self, series, key)\u001b[0m\n\u001b[1;32m   1978\u001b[0m         \u001b[0;32mtry\u001b[0m\u001b[0;34m:\u001b[0m\u001b[0;34m\u001b[0m\u001b[0m\n\u001b[1;32m   1979\u001b[0m             return self._engine.get_value(s, k,\n\u001b[0;32m-> 1980\u001b[0;31m                                           tz=getattr(series.dtype, 'tz', None))\n\u001b[0m\u001b[1;32m   1981\u001b[0m         \u001b[0;32mexcept\u001b[0m \u001b[0mKeyError\u001b[0m \u001b[0;32mas\u001b[0m \u001b[0me1\u001b[0m\u001b[0;34m:\u001b[0m\u001b[0;34m\u001b[0m\u001b[0m\n\u001b[1;32m   1982\u001b[0m             \u001b[0;32mif\u001b[0m \u001b[0mlen\u001b[0m\u001b[0;34m(\u001b[0m\u001b[0mself\u001b[0m\u001b[0;34m)\u001b[0m \u001b[0;34m>\u001b[0m \u001b[0;36m0\u001b[0m \u001b[0;32mand\u001b[0m \u001b[0mself\u001b[0m\u001b[0;34m.\u001b[0m\u001b[0minferred_type\u001b[0m \u001b[0;32min\u001b[0m \u001b[0;34m[\u001b[0m\u001b[0;34m'integer'\u001b[0m\u001b[0;34m,\u001b[0m \u001b[0;34m'boolean'\u001b[0m\u001b[0;34m]\u001b[0m\u001b[0;34m:\u001b[0m\u001b[0;34m\u001b[0m\u001b[0m\n",
      "\u001b[0;32mpandas/index.pyx\u001b[0m in \u001b[0;36mpandas.index.IndexEngine.get_value (pandas/index.c:3332)\u001b[0;34m()\u001b[0m\n",
      "\u001b[0;32mpandas/index.pyx\u001b[0m in \u001b[0;36mpandas.index.IndexEngine.get_value (pandas/index.c:3035)\u001b[0;34m()\u001b[0m\n",
      "\u001b[0;32mpandas/index.pyx\u001b[0m in \u001b[0;36mpandas.index.IndexEngine.get_loc (pandas/index.c:4084)\u001b[0;34m()\u001b[0m\n",
      "\u001b[0;31mKeyError\u001b[0m: 'Household Head Occupation'"
     ]
    }
   ],
   "source": [
    "df = pd.read_csv('train.csv').fillna('other')\n",
    "df['Income Z-Score'] = get_income_zscores(df)\n",
    "df['Household Head Highest Grade Completed'] = group_highest_grade(df)\n",
    "percentage_employed(df)\n",
    "df['Household Head Occupation Grouped'] = cluster_jobs(df)\n",
    "df = df.drop(['Household Head Occupation'], axis=1)"
   ]
  },
  {
   "cell_type": "code",
   "execution_count": 37,
   "metadata": {
    "collapsed": false
   },
   "outputs": [
    {
     "data": {
      "text/html": [
       "<div>\n",
       "<table border=\"1\" class=\"dataframe\">\n",
       "  <thead>\n",
       "    <tr style=\"text-align: right;\">\n",
       "      <th></th>\n",
       "      <th>Unnamed: 0</th>\n",
       "      <th>Region</th>\n",
       "      <th>Total Food Expenditure</th>\n",
       "      <th>Main Source of Income</th>\n",
       "      <th>Agricultural Household indicator</th>\n",
       "      <th>Bread and Cereals Expenditure</th>\n",
       "      <th>Total Rice Expenditure</th>\n",
       "      <th>Meat Expenditure</th>\n",
       "      <th>Total Fish and  marine products Expenditure</th>\n",
       "      <th>Fruit Expenditure</th>\n",
       "      <th>...</th>\n",
       "      <th>Number of Landline/wireless telephones</th>\n",
       "      <th>Number of Cellular phone</th>\n",
       "      <th>Number of Personal Computer</th>\n",
       "      <th>Number of Stove with Oven/Gas Range</th>\n",
       "      <th>Number of Motorized Banca</th>\n",
       "      <th>Number of Motorcycle/Tricycle</th>\n",
       "      <th>Total Household Income</th>\n",
       "      <th>Income Z-Score</th>\n",
       "      <th>Percentage of Family Employed</th>\n",
       "      <th>Interaction between family members and employed</th>\n",
       "    </tr>\n",
       "  </thead>\n",
       "  <tbody>\n",
       "    <tr>\n",
       "      <th>0</th>\n",
       "      <td>22617</td>\n",
       "      <td>CAR</td>\n",
       "      <td>81940</td>\n",
       "      <td>Enterpreneurial Activities</td>\n",
       "      <td>1</td>\n",
       "      <td>44171</td>\n",
       "      <td>40336</td>\n",
       "      <td>9053</td>\n",
       "      <td>4499</td>\n",
       "      <td>5245</td>\n",
       "      <td>...</td>\n",
       "      <td>0</td>\n",
       "      <td>2</td>\n",
       "      <td>0</td>\n",
       "      <td>0</td>\n",
       "      <td>0</td>\n",
       "      <td>0</td>\n",
       "      <td>115835</td>\n",
       "      <td>-0.543409</td>\n",
       "      <td>0.333333</td>\n",
       "      <td>12</td>\n",
       "    </tr>\n",
       "    <tr>\n",
       "      <th>1</th>\n",
       "      <td>21389</td>\n",
       "      <td>V - Bicol Region</td>\n",
       "      <td>26176</td>\n",
       "      <td>Other sources of Income</td>\n",
       "      <td>0</td>\n",
       "      <td>14477</td>\n",
       "      <td>13067</td>\n",
       "      <td>722</td>\n",
       "      <td>3707</td>\n",
       "      <td>755</td>\n",
       "      <td>...</td>\n",
       "      <td>0</td>\n",
       "      <td>0</td>\n",
       "      <td>0</td>\n",
       "      <td>0</td>\n",
       "      <td>0</td>\n",
       "      <td>0</td>\n",
       "      <td>44339</td>\n",
       "      <td>-0.793864</td>\n",
       "      <td>0.500000</td>\n",
       "      <td>2</td>\n",
       "    </tr>\n",
       "    <tr>\n",
       "      <th>2</th>\n",
       "      <td>25275</td>\n",
       "      <td>III - Central Luzon</td>\n",
       "      <td>139920</td>\n",
       "      <td>Enterpreneurial Activities</td>\n",
       "      <td>0</td>\n",
       "      <td>31053</td>\n",
       "      <td>21720</td>\n",
       "      <td>12005</td>\n",
       "      <td>10415</td>\n",
       "      <td>1090</td>\n",
       "      <td>...</td>\n",
       "      <td>0</td>\n",
       "      <td>1</td>\n",
       "      <td>0</td>\n",
       "      <td>0</td>\n",
       "      <td>0</td>\n",
       "      <td>1</td>\n",
       "      <td>223010</td>\n",
       "      <td>-0.242119</td>\n",
       "      <td>0.000000</td>\n",
       "      <td>0</td>\n",
       "    </tr>\n",
       "    <tr>\n",
       "      <th>3</th>\n",
       "      <td>25298</td>\n",
       "      <td>III - Central Luzon</td>\n",
       "      <td>108931</td>\n",
       "      <td>Wage/Salaries</td>\n",
       "      <td>0</td>\n",
       "      <td>41374</td>\n",
       "      <td>29008</td>\n",
       "      <td>12250</td>\n",
       "      <td>11840</td>\n",
       "      <td>1455</td>\n",
       "      <td>...</td>\n",
       "      <td>0</td>\n",
       "      <td>2</td>\n",
       "      <td>0</td>\n",
       "      <td>1</td>\n",
       "      <td>0</td>\n",
       "      <td>0</td>\n",
       "      <td>224252</td>\n",
       "      <td>-0.237977</td>\n",
       "      <td>0.375000</td>\n",
       "      <td>24</td>\n",
       "    </tr>\n",
       "    <tr>\n",
       "      <th>4</th>\n",
       "      <td>7780</td>\n",
       "      <td>V - Bicol Region</td>\n",
       "      <td>61539</td>\n",
       "      <td>Other sources of Income</td>\n",
       "      <td>1</td>\n",
       "      <td>23758</td>\n",
       "      <td>19656</td>\n",
       "      <td>2496</td>\n",
       "      <td>12446</td>\n",
       "      <td>2448</td>\n",
       "      <td>...</td>\n",
       "      <td>0</td>\n",
       "      <td>1</td>\n",
       "      <td>0</td>\n",
       "      <td>0</td>\n",
       "      <td>0</td>\n",
       "      <td>1</td>\n",
       "      <td>125863</td>\n",
       "      <td>-0.349179</td>\n",
       "      <td>0.200000</td>\n",
       "      <td>5</td>\n",
       "    </tr>\n",
       "  </tbody>\n",
       "</table>\n",
       "<p>5 rows × 64 columns</p>\n",
       "</div>"
      ],
      "text/plain": [
       "   Unnamed: 0               Region  Total Food Expenditure  \\\n",
       "0       22617                  CAR                   81940   \n",
       "1       21389     V - Bicol Region                   26176   \n",
       "2       25275  III - Central Luzon                  139920   \n",
       "3       25298  III - Central Luzon                  108931   \n",
       "4        7780     V - Bicol Region                   61539   \n",
       "\n",
       "        Main Source of Income  Agricultural Household indicator  \\\n",
       "0  Enterpreneurial Activities                                 1   \n",
       "1     Other sources of Income                                 0   \n",
       "2  Enterpreneurial Activities                                 0   \n",
       "3               Wage/Salaries                                 0   \n",
       "4     Other sources of Income                                 1   \n",
       "\n",
       "   Bread and Cereals Expenditure  Total Rice Expenditure  Meat Expenditure  \\\n",
       "0                          44171                   40336              9053   \n",
       "1                          14477                   13067               722   \n",
       "2                          31053                   21720             12005   \n",
       "3                          41374                   29008             12250   \n",
       "4                          23758                   19656              2496   \n",
       "\n",
       "   Total Fish and  marine products Expenditure  Fruit Expenditure  \\\n",
       "0                                         4499               5245   \n",
       "1                                         3707                755   \n",
       "2                                        10415               1090   \n",
       "3                                        11840               1455   \n",
       "4                                        12446               2448   \n",
       "\n",
       "                        ...                         \\\n",
       "0                       ...                          \n",
       "1                       ...                          \n",
       "2                       ...                          \n",
       "3                       ...                          \n",
       "4                       ...                          \n",
       "\n",
       "   Number of Landline/wireless telephones  Number of Cellular phone  \\\n",
       "0                                       0                         2   \n",
       "1                                       0                         0   \n",
       "2                                       0                         1   \n",
       "3                                       0                         2   \n",
       "4                                       0                         1   \n",
       "\n",
       "   Number of Personal Computer  Number of Stove with Oven/Gas Range  \\\n",
       "0                            0                                    0   \n",
       "1                            0                                    0   \n",
       "2                            0                                    0   \n",
       "3                            0                                    1   \n",
       "4                            0                                    0   \n",
       "\n",
       "   Number of Motorized Banca  Number of Motorcycle/Tricycle  \\\n",
       "0                          0                              0   \n",
       "1                          0                              0   \n",
       "2                          0                              1   \n",
       "3                          0                              0   \n",
       "4                          0                              1   \n",
       "\n",
       "   Total Household Income  Income Z-Score  Percentage of Family Employed  \\\n",
       "0                  115835       -0.543409                       0.333333   \n",
       "1                   44339       -0.793864                       0.500000   \n",
       "2                  223010       -0.242119                       0.000000   \n",
       "3                  224252       -0.237977                       0.375000   \n",
       "4                  125863       -0.349179                       0.200000   \n",
       "\n",
       "   Interaction between family members and employed  \n",
       "0                                               12  \n",
       "1                                                2  \n",
       "2                                                0  \n",
       "3                                               24  \n",
       "4                                                5  \n",
       "\n",
       "[5 rows x 64 columns]"
      ]
     },
     "execution_count": 37,
     "metadata": {},
     "output_type": "execute_result"
    }
   ],
   "source": [
    "df.head()"
   ]
  },
  {
   "cell_type": "code",
   "execution_count": 38,
   "metadata": {
    "collapsed": false,
    "scrolled": true
   },
   "outputs": [
    {
     "name": "stderr",
     "output_type": "stream",
     "text": [
      "/anaconda/lib/python2.7/site-packages/ipykernel/__main__.py:45: SettingWithCopyWarning: \n",
      "A value is trying to be set on a copy of a slice from a DataFrame\n",
      "\n",
      "See the caveats in the documentation: http://pandas.pydata.org/pandas-docs/stable/indexing.html#indexing-view-versus-copy\n"
     ]
    },
    {
     "name": "stdout",
     "output_type": "stream",
     "text": [
      "Using alpha of 0.01 87 columns were selected\n",
      "\n",
      "Bread and Cereals Expenditure, Clothing, Footwear and Other Wear Expenditure, Communication Expenditure, Crop Farming and Gardening expenses, Education Expenditure, Household Head Class of Worker_Employer in own family-operated farm or business, Household Head Class of Worker_Self-employed wihout any employee, Household Head Class of Worker_Worked for government/government corporation, Household Head Class of Worker_Worked for private establishment, Household Head Class of Worker_Worked for private household, Household Head Highest Grade Completed_Baccalaureate, Household Head Highest Grade Completed_Elementary, Household Head Highest Grade Completed_High School, Household Head Highest Grade Completed_Program/Trade School, Household Head Marital Status_Married, Household Head Marital Status_Single, Household Head Marital Status_Widowed, Household Head Occupation_Building construction laborers, Household Head Occupation_Coconut farmers, Household Head Occupation_Corn farmers, Household Head Occupation_Farmhands and laborers, Household Head Occupation_Finance and administration managers, Household Head Occupation_General managers/managing proprietors in construction, Household Head Occupation_General managers/managing proprietors in wholesale and retail trade, Household Head Occupation_General managers/managing proprietors of restaurants and hotels, Household Head Occupation_Legislative officials, Household Head Occupation_Market and sidewalk stall vendors, Household Head Occupation_Medical doctors, Household Head Occupation_Protective services workers n. e. c., Household Head Occupation_Rice farmers, Housing and water Expenditure, Main Source of Income_Other sources of Income, Main Source of Income_Wage/Salaries, Main Source of Water Supply_Own use, faucet, community water system, Main Source of Water Supply_Own use, tubed/piped deep well, Main Source of Water Supply_Shared, tubed/piped deep well, Meat Expenditure, Miscellaneous Goods and Services Expenditure, Region_ ARMM, Region_CAR, Region_Caraga, Region_III - Central Luzon, Region_IVA - CALABARZON, Region_IX - Zasmboanga Peninsula, Region_NCR, Region_V - Bicol Region, Region_VI - Western Visayas, Region_VIII - Eastern Visayas, Region_X - Northern Mindanao, Region_XI - Davao Region, Region_XII - SOCCSKSARGEN, Restaurant and hotels Expenditure, Special Occasions Expenditure, Tenure Status_Own house, rent-free lot with consent of owner, Tenure Status_Own or owner-like possession of house and lot, Tenure Status_Rent house/room including lot, Tenure Status_Rent-free house and lot with consent of owner, Tobacco Expenditure, Toilet Facilities_Water-sealed, sewer septic tank, shared with other household, Toilet Facilities_Water-sealed, sewer septic tank, used exclusively by household, Total Fish and  marine products Expenditure, Total Food Expenditure, Total Income from Entrepreneurial Acitivites, Total Rice Expenditure, Transportation Expenditure, Type of Building/House_Single house, Type of Household_Single Family, Type of Roof_Mixed but predominantly strong materials, Type of Roof_Strong material(galvanized,iron,al,tile,concrete,brick,stone,asbestos), Type of Walls_Quite Strong, Type of Walls_Strong, Vegetables Expenditure\n",
      "\n"
     ]
    },
    {
     "name": "stderr",
     "output_type": "stream",
     "text": [
      "/anaconda/lib/python2.7/site-packages/ipykernel/__main__.py:54: FutureWarning: using '+' to provide set union with Indexes is deprecated, use '|' or .union()\n"
     ]
    },
    {
     "name": "stdout",
     "output_type": "stream",
     "text": [
      "Alpha: 0.01, MSE -160.948840459\n",
      "\n",
      "Using alpha of 0.1 44 columns were selected\n",
      "\n",
      "Bread and Cereals Expenditure, Communication Expenditure, Crop Farming and Gardening expenses, Education Expenditure, Household Head Class of Worker_Employer in own family-operated farm or business, Household Head Class of Worker_Self-employed wihout any employee, Household Head Class of Worker_Worked for government/government corporation, Household Head Class of Worker_Worked for private establishment, Household Head Highest Grade Completed_Elementary, Household Head Highest Grade Completed_High School, Household Head Highest Grade Completed_Program/Trade School, Household Head Marital Status_Married, Main Source of Income_Other sources of Income, Main Source of Income_Wage/Salaries, Main Source of Water Supply_Own use, faucet, community water system, Main Source of Water Supply_Own use, tubed/piped deep well, Miscellaneous Goods and Services Expenditure, Region_NCR, Restaurant and hotels Expenditure, Special Occasions Expenditure, Tenure Status_Own or owner-like possession of house and lot, Toilet Facilities_Water-sealed, sewer septic tank, used exclusively by household, Total Food Expenditure, Total Income from Entrepreneurial Acitivites, Total Rice Expenditure, Transportation Expenditure, Type of Household_Single Family, Type of Roof_Strong material(galvanized,iron,al,tile,concrete,brick,stone,asbestos), Type of Walls_Strong\n",
      "\n",
      "Alpha: 0.1, MSE -182.004803079\n",
      "\n",
      "Using alpha of 0.5 25 columns were selected\n",
      "\n",
      "Bread and Cereals Expenditure, Crop Farming and Gardening expenses, Household Head Highest Grade Completed_Elementary, Household Head Highest Grade Completed_Program/Trade School, Housing and water Expenditure, Main Source of Water Supply_Own use, faucet, community water system, Miscellaneous Goods and Services Expenditure, Toilet Facilities_Water-sealed, sewer septic tank, used exclusively by household, Total Food Expenditure, Type of Walls_Strong\n",
      "\n",
      "Alpha: 0.5, MSE -281.645798605\n",
      "\n",
      "Using alpha of 1 18 columns were selected\n",
      "\n",
      "Bread and Cereals Expenditure, Main Source of Water Supply_Own use, faucet, community water system, Total Food Expenditure\n",
      "\n",
      "Alpha: 1, MSE -441.006403792\n",
      "\n"
     ]
    }
   ],
   "source": [
    "mse = train_lasso([1e-2, 0.1, 0.5, 1], 'both', df)"
   ]
  },
  {
   "cell_type": "code",
   "execution_count": 33,
   "metadata": {
    "collapsed": false
   },
   "outputs": [
    {
     "data": {
      "image/png": "[encoded data removed]",
      "text/plain": [
       "<matplotlib.figure.Figure at 0x110e402d0>"
      ]
     },
     "metadata": {},
     "output_type": "display_data"
    }
   ],
   "source": [
    "plt.plot(mse)\n",
    "plt.xlabel('Alpha')\n",
    "labels = [1e-2, 0.1, 0.5, 1]\n",
    "plt.xticks(range(len(labels)), labels, rotation='vertical')\n",
    "plt.ylabel('MSE')\n",
    "plt.title('Effect of Alpha Parameter on MSE')\n",
    "plt.show()"
   ]
  },
  {
   "cell_type": "code",
   "execution_count": null,
   "metadata": {
    "collapsed": true
   },
   "outputs": [],
   "source": []
  }
 ],
 "metadata": {
  "anaconda-cloud": {},
  "kernelspec": {
   "display_name": "Python [conda root]",
   "language": "python",
   "name": "conda-root-py"
  },
  "language_info": {
   "codemirror_mode": {
    "name": "ipython",
    "version": 2
   },
   "file_extension": ".py",
   "mimetype": "text/x-python",
   "name": "python",
   "nbconvert_exporter": "python",
   "pygments_lexer": "ipython2",
   "version": "2.7.12"
  }
 },
 "nbformat": 4,
 "nbformat_minor": 1
}
