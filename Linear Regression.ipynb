{
 "cells": [
  {
   "cell_type": "markdown",
   "metadata": {},
   "source": [
    "### Numerical features performed much better than categorical ones (alone)\n",
    "### Combining both produced almost the same as just numerical, or slightly better\n",
    "### Need a way to cluster head of household category "
   ]
  },
  {
   "cell_type": "markdown",
   "metadata": {},
   "source": [
    "### TODO FEATURE ENGINEERING\n",
    "\n",
    "### Adding income levels based on regions (sonia) average income level for each region in the training set\n",
    "### for each household, add # of sd's they are away from the average income level in their region\n",
    "\n",
    "### Groupings for grade: none, elementary, high school, bachelors, masters, program/trade school (sonia)\n",
    "\n",
    "### Percentage of family employed (# employed / total family) + interaction between the two terms (sonia)\n",
    "\n",
    "### (hans) the rest\n",
    "\n",
    "### Total number of electronics\n",
    "### Total number of motorized vehicles\n",
    "### housing/water expenditure x toilet facility interaction\n",
    "### Clustering types of jobs"
   ]
  },
  {
   "cell_type": "code",
   "execution_count": 114,
   "metadata": {
    "collapsed": false
   },
   "outputs": [],
   "source": [
    "import copy\n",
    "import matplotlib.pyplot as plt\n",
    "import numpy as np\n",
    "import pandas as pd\n",
    "\n",
    "from sklearn import preprocessing\n",
    "from sklearn.feature_selection import SelectFromModel\n",
    "from sklearn.feature_extraction.text import CountVectorizer, TfidfTransformer, TfidfVectorizer\n",
    "from sklearn.linear_model import Lasso, LinearRegression\n",
    "from sklearn.metrics import mean_squared_error\n",
    "from sklearn.model_selection import cross_val_score, GridSearchCV, KFold\n",
    "from sklearn.preprocessing import normalize\n",
    "from sklearn.metrics.pairwise import cosine_similarity\n",
    "\n",
    "import re, math\n",
    "from collections import Counter\n",
    "from nltk.corpus import stopwords\n",
    "from nltk.stem import PorterStemmer\n",
    "from nltk.tokenize import sent_tokenize, word_tokenize\n",
    "from sklearn.feature_extraction.text import TfidfVectorizer\n",
    "from sklearn.cluster import SpectralClustering\n",
    "from sklearn.cluster import SpectralClustering"
   ]
  },
  {
   "cell_type": "code",
   "execution_count": 115,
   "metadata": {
    "collapsed": false
   },
   "outputs": [],
   "source": [
    "def cosine_sim(u,v):\n",
    "    res = np.array(np.dot(u, v.T) / (np.sqrt(np.dot(u,u.T)) * np.sqrt(np.dot(v,v.T)))).item(0,0)\n",
    "    \n",
    "    if not np.isnan(res):\n",
    "        return res\n",
    "    \n",
    "    else:\n",
    "        return 1e-5"
   ]
  },
  {
   "cell_type": "code",
   "execution_count": 116,
   "metadata": {
    "collapsed": true
   },
   "outputs": [],
   "source": [
    "def clean_jobs(df):\n",
    "    jobs = np.unique(list(df['Household Head Occupation']))\n",
    "    \n",
    "    newJobs = np.array([])\n",
    "    for job in jobs:\n",
    "        temp = job.split(' ')\n",
    "        temp = [word.lower() for word in temp if word.lower() not in stopwords.words('english')]\n",
    "        newJobs = np.append(newJobs,\" \".join(temp))\n",
    "        \n",
    "    return newJobs"
   ]
  },
  {
   "cell_type": "code",
   "execution_count": 117,
   "metadata": {
    "collapsed": true
   },
   "outputs": [],
   "source": [
    "def stem_jobs(df):\n",
    "    ps = PorterStemmer()\n",
    "    newJobs = clean_jobs(df)\n",
    "    stemmed_jobs = np.array([])\n",
    "    \n",
    "    for job in newJobs:\n",
    "        temp = job.split(' ')\n",
    "        temp = [ps.stem(word) for word in temp]\n",
    "        stemmed_jobs = np.append(stemmed_jobs,\" \".join(temp))\n",
    "        \n",
    "    return stemmed_jobs"
   ]
  },
  {
   "cell_type": "code",
   "execution_count": 143,
   "metadata": {
    "collapsed": true
   },
   "outputs": [],
   "source": [
    "def cluster_jobs(df):\n",
    "    stemmed_jobs = stem_jobs(df)\n",
    "    numJobs = len(np.unique(df['Household Head Occupation']))\n",
    "    \n",
    "    # convert jobs to tf-idf vectors\n",
    "    tfidf_vectorizer=TfidfVectorizer()\n",
    "    tfidf_matrix=tfidf_vectorizer.fit_transform(stemmed_jobs)\n",
    "    \n",
    "    # get cosine similiarity between each job\n",
    "    cos_sims = np.array([])\n",
    "    for i in range(np.size(stemmed_jobs)):\n",
    "        for j in range(np.size(stemmed_jobs)):\n",
    "            cos_sims = np.append(cos_sims, cosine_sim(tfidf_matrix[i],tfidf_matrix[j]))\n",
    "            \n",
    "    cos_sims = np.reshape(cos_sims, (numJobs, numJobs))\n",
    "    \n",
    "    # cluster jobs into groupings\n",
    "    mat = np.matrix(cos_sims)\n",
    "    groups = SpectralClustering(30).fit_predict(mat)\n",
    "\n",
    "    # add column of job category\n",
    "    jobs = np.unique(list(df['Household Head Occupation']))\n",
    "    jobIndexes = np.concatenate([np.where(jobs == job)[0] for job in df['Household Head Occupation']])\n",
    "    jobCategory = np.array([str(groups[num]) for num in jobIndexes])\n",
    "    \n",
    "    return jobCategory"
   ]
  },
  {
   "cell_type": "code",
   "execution_count": 119,
   "metadata": {
    "collapsed": true
   },
   "outputs": [],
   "source": [
    "def select_features_from_lasso(X, y, alpha):\n",
    "    # fit lasso model and pass to select from model\n",
    "    Xtrain =normalize(X)\n",
    "    lasso = Lasso(alpha).fit(Xtrain, y)\n",
    "    model = SelectFromModel(lasso, prefit=True)\n",
    "\n",
    "    # new features\n",
    "    X_new = model.transform(X)\n",
    "    return X.columns[model.get_support()]"
   ]
  },
  {
   "cell_type": "code",
   "execution_count": 120,
   "metadata": {
    "collapsed": true
   },
   "outputs": [],
   "source": [
    "def backward_stepwise(X, y):\n",
    "    model = LinearRegression()\n",
    "\n",
    "    vars_remaining = []\n",
    "    vars_in_model = list(X.columns)\n",
    "    \n",
    "    last_error = cross_val_score(model, X[vars_in_model], y, cv=10, scoring=\"neg_mean_squared_error\").mean()\n",
    "    \n",
    "    for _ in range(len(vars_in_model)):\n",
    "        scores = []\n",
    "        for var in vars_in_model:\n",
    "            candidate_vars = copy.copy(vars_in_model)\n",
    "            candidate_vars.remove(var)\n",
    "            Xtrain = X[candidate_vars]\n",
    "            scores.append(\n",
    "                cross_val_score(model, normalize(Xtrain), y, cv=10, scoring=\"neg_mean_squared_error\").mean()\n",
    "            )\n",
    "        i = np.argmax(scores)\n",
    "        if scores[i] <= last_error:\n",
    "            break\n",
    "        else:\n",
    "            last_error = scores[i]\n",
    "            del vars_in_model[i]\n",
    "            \n",
    "    return vars_in_model"
   ]
  },
  {
   "cell_type": "code",
   "execution_count": 121,
   "metadata": {
    "collapsed": true
   },
   "outputs": [],
   "source": [
    "def forward_stepwise(X, y):\n",
    "    model = LinearRegression()\n",
    "\n",
    "    vars_remaining = list(X.columns)\n",
    "    vars_in_model = []\n",
    "    last_error = -np.inf\n",
    "\n",
    "    for _ in range(len(vars_remaining)):\n",
    "        scores = []\n",
    "        for var in vars_remaining:\n",
    "            candidate_vars = vars_in_model + [var]\n",
    "            Xtrain = X[candidate_vars]\n",
    "            scores.append(\n",
    "                cross_val_score(model, normalize(Xtrain), y, cv=10, scoring=\"neg_mean_squared_error\").mean()\n",
    "            )\n",
    "        i = np.argmax(scores)\n",
    "        if scores[i] <= last_error:\n",
    "            break\n",
    "        else:\n",
    "            last_error = scores[i]\n",
    "            var_to_add = vars_remaining[i]\n",
    "            vars_in_model.append(var_to_add)\n",
    "            del vars_remaining[i]\n",
    "\n",
    "    return vars_in_model"
   ]
  },
  {
   "cell_type": "code",
   "execution_count": 122,
   "metadata": {
    "collapsed": true
   },
   "outputs": [],
   "source": [
    "def get_categorical_numeric(df):\n",
    "    numerics = []\n",
    "    categorical = []\n",
    "\n",
    "    for col in df:\n",
    "        if((df[col].dtype == np.float64 or df[col].dtype == np.int64) and col != 'Unnamed: 0' \\\n",
    "           and col != 'Electricity' and col != 'Agricultural Household indicator'):\n",
    "            numerics.append(col)\n",
    "\n",
    "        else:\n",
    "            categorical.append(col)\n",
    "\n",
    "    categorical_df = df[categorical]\n",
    "    numeric_df = df[numerics]\n",
    "    \n",
    "    return categorical_df, numeric_df"
   ]
  },
  {
   "cell_type": "code",
   "execution_count": 123,
   "metadata": {
    "collapsed": true
   },
   "outputs": [],
   "source": [
    "def remove_categorical(X, feat, columns):\n",
    "    for col in columns:\n",
    "        if col in X:\n",
    "            keep = []\n",
    "\n",
    "            for f in feat:\n",
    "                if col + '_' in f:\n",
    "                    keep.append(f.replace(col + '_', ''))\n",
    "\n",
    "            X[col][~(X[col].isin(keep))] = 'other'"
   ]
  },
  {
   "cell_type": "code",
   "execution_count": 124,
   "metadata": {
    "collapsed": true
   },
   "outputs": [],
   "source": [
    "def get_income_zscores(df):\n",
    "    regions = pd.DataFrame(df[['Total Household Income', 'Region']]\n",
    "        .groupby('Region').agg([np.mean, np.std]).to_records())\n",
    "    regions.columns = ['Region', 'Average Household Income', 'Standard Deviation']\n",
    "\n",
    "    z_scores = []\n",
    "\n",
    "    for income, region in zip(df['Total Household Income'], df['Region']):\n",
    "        idx = list(regions['Region']).index(region)\n",
    "        avg = list(regions['Average Household Income'])[idx]\n",
    "        sd = list(regions['Standard Deviation'])[idx]\n",
    "\n",
    "        z_scores.append((income - avg) / sd)\n",
    "\n",
    "    return z_scores"
   ]
  },
  {
   "cell_type": "code",
   "execution_count": 125,
   "metadata": {
    "collapsed": true
   },
   "outputs": [],
   "source": [
    "def group_highest_grade(df):\n",
    "    grades = []\n",
    "    \n",
    "    for grade in df['Household Head Highest Grade Completed']:\n",
    "        grade = grade.lower().strip()\n",
    "\n",
    "        if 'programs' in grade:\n",
    "            grades.append('Program/Trade School')\n",
    "\n",
    "        elif 'preschool' in grade:\n",
    "            grades.append('Preschool')\n",
    "\n",
    "        elif 'grade' in grade or 'elementary' in grade:\n",
    "            grades.append('Elementary')\n",
    "\n",
    "        elif 'high school' in grade:\n",
    "            grades.append('High School')\n",
    "\n",
    "        elif 'college' in grade:\n",
    "            grades.append('College')\n",
    "\n",
    "        elif 'secondary' in grade:\n",
    "            grades.append('Post Secondary')\n",
    "\n",
    "        elif 'baccalaureate' in grade:\n",
    "            grades.append('Baccalaureate')\n",
    "            \n",
    "    return grades"
   ]
  },
  {
   "cell_type": "code",
   "execution_count": 126,
   "metadata": {
    "collapsed": true
   },
   "outputs": [],
   "source": [
    "def percentage_employed(df):\n",
    "    df['Percentage of Family Employed'] = df['Total number of family members employed'] / df['Total Number of Family members']\n",
    "    df['Interaction between family members and employed'] = df['Total number of family members employed'] * df['Total Number of Family members']"
   ]
  },
  {
   "cell_type": "code",
   "execution_count": 141,
   "metadata": {
    "collapsed": false
   },
   "outputs": [],
   "source": [
    "\"\"\" \n",
    " use lasso regression to select columns for the model\n",
    " try a range of alpha parameters on the lasso model\n",
    " mode can be just categorical, numerical, or both\n",
    "\"\"\"\n",
    "def train_lasso(alphas, mode, df):\n",
    "    mse = []\n",
    "    y = df[['Total Household Income']] / 1e4\n",
    "    df = df.drop(['Total Household Income', 'Unnamed: 0'], axis=1)\n",
    "    \n",
    "    for alpha in alphas:\n",
    "        categorical_df, numeric_df = get_categorical_numeric(df)\n",
    "        reg = LinearRegression()\n",
    "        \n",
    "        # only used categorical features\n",
    "        # values not selected by lasso will be set to other\n",
    "        if mode == \"categorical\":\n",
    "            tmp = pd.get_dummies(categorical_df, columns = categorical_df.columns)\n",
    "            new_feat = select_features_from_lasso(tmp, y, alpha)\n",
    "            remove_categorical(categorical_df, new_feat, categorical_df.columns)\n",
    "            categorical_df = pd.get_dummies(categorical_df, columns = categorical_df.columns)\n",
    "            \n",
    "            print (\"Using alpha of {0} {1} columns were selected\".format(alpha, len(new_feat)))\n",
    "            print\n",
    "            print (', '.join(new_feat))\n",
    "            print \n",
    "            \n",
    "            print 'Regions that were selected'\n",
    "            for feat in new_feat:\n",
    "                if 'Region_' in feat:\n",
    "                    print feat\n",
    "            \n",
    "            print\n",
    "            scores = cross_val_score(reg, categorical_df, y, cv=5, scoring='neg_mean_squared_error')\n",
    "           \n",
    "        # only use numerical features, and normalize the data\n",
    "        elif mode == \"numerical\":\n",
    "            new_feat = select_features_from_lasso(numeric_df, y, alpha)\n",
    "            Xnum = preprocessing.scale(numeric_df[new_feat])\n",
    "            \n",
    "            print (\"Using alpha of {0} {1} columns were selected\".format(alpha, len(new_feat)))\n",
    "            print \n",
    "            print (', '.join(new_feat))\n",
    "            print\n",
    "            \n",
    "            scores = cross_val_score(reg, Xnum, y, cv=5, scoring='neg_mean_squared_error')\n",
    "        \n",
    "        # use both features\n",
    "        else:\n",
    "            new_feat_cat = select_features_from_lasso(pd.get_dummies(categorical_df), \n",
    "                y, alpha)\n",
    "            remove_categorical(categorical_df, new_feat_cat, categorical_df.columns)\n",
    "            categorical_df = pd.get_dummies(categorical_df, columns = categorical_df.columns)\n",
    "            \n",
    "            new_feat_num = select_features_from_lasso(numeric_df, y, alpha)\n",
    "            standardized = preprocessing.scale(numeric_df[new_feat_num])\n",
    "            \n",
    "            print (\"Using alpha of {0} {1} columns were selected\".format(alpha, len(categorical_df.columns) + \n",
    "                standardized.shape[1]))\n",
    "            print\n",
    "            print (', '.join(sorted(new_feat_num + new_feat_cat)))\n",
    "            print\n",
    "            \n",
    "            total = np.concatenate((standardized, categorical_df.as_matrix()), axis=1)\n",
    "            scores = cross_val_score(reg, total, y, cv=5, scoring='neg_mean_squared_error')\n",
    "\n",
    "        print (\"Alpha: {0}, MSE {1}\".format(alpha, np.mean(scores)))\n",
    "        print \n",
    "\n",
    "        mse.append(np.mean(scores))\n",
    "        \n",
    "    return mse"
   ]
  },
  {
   "cell_type": "code",
   "execution_count": 129,
   "metadata": {
    "collapsed": true
   },
   "outputs": [],
   "source": [
    "df = pd.read_csv('train.csv').dropna()"
   ]
  },
  {
   "cell_type": "markdown",
   "metadata": {},
   "source": [
    "### Predict household income from just numerical features"
   ]
  },
  {
   "cell_type": "markdown",
   "metadata": {},
   "source": [
    "### Lasso  regression to select numerical features\n",
    "### Alpha = 1e-5 selected 28 columns and produced the best MSE"
   ]
  },
  {
   "cell_type": "code",
   "execution_count": 130,
   "metadata": {
    "collapsed": false,
    "scrolled": false
   },
   "outputs": [
    {
     "name": "stdout",
     "output_type": "stream",
     "text": [
      "Using alpha of 1e-06 37 columns were selected\n",
      "\n",
      "Total Food Expenditure, Bread and Cereals Expenditure, Total Rice Expenditure, Meat Expenditure, Total Fish and  marine products Expenditure, Fruit Expenditure, Vegetables Expenditure, Restaurant and hotels Expenditure, Alcoholic Beverages Expenditure, Tobacco Expenditure, Clothing, Footwear and Other Wear Expenditure, Housing and water Expenditure, Imputed House Rental Value, Medical Care Expenditure, Transportation Expenditure, Communication Expenditure, Education Expenditure, Miscellaneous Goods and Services Expenditure, Special Occasions Expenditure, Crop Farming and Gardening expenses, Total Income from Entrepreneurial Acitivites, Household Head Age, Total Number of Family members, Members with age 5 - 17 years old, Total number of family members employed, House Floor Area, House Age, Number of bedrooms, Number of Television, Number of CD/VCD/DVD, Number of Refrigerator/Freezer, Number of Washing Machine, Number of Airconditioner, Number of Car, Jeep, Van, Number of Cellular phone, Number of Personal Computer, Number of Motorcycle/Tricycle\n",
      "\n",
      "Alpha: 1e-06, MSE -155.779591674\n",
      "\n",
      "Using alpha of 1e-05 29 columns were selected\n",
      "\n",
      "Total Food Expenditure, Bread and Cereals Expenditure, Total Rice Expenditure, Meat Expenditure, Total Fish and  marine products Expenditure, Fruit Expenditure, Vegetables Expenditure, Restaurant and hotels Expenditure, Alcoholic Beverages Expenditure, Tobacco Expenditure, Clothing, Footwear and Other Wear Expenditure, Housing and water Expenditure, Imputed House Rental Value, Medical Care Expenditure, Transportation Expenditure, Communication Expenditure, Education Expenditure, Miscellaneous Goods and Services Expenditure, Special Occasions Expenditure, Crop Farming and Gardening expenses, Total Income from Entrepreneurial Acitivites, Household Head Age, Total Number of Family members, Total number of family members employed, House Floor Area, House Age, Number of bedrooms, Number of Television, Number of Cellular phone\n",
      "\n",
      "Alpha: 1e-05, MSE -156.511758031\n",
      "\n",
      "Using alpha of 0.0001 24 columns were selected\n",
      "\n",
      "Total Food Expenditure, Bread and Cereals Expenditure, Total Rice Expenditure, Meat Expenditure, Total Fish and  marine products Expenditure, Fruit Expenditure, Vegetables Expenditure, Restaurant and hotels Expenditure, Alcoholic Beverages Expenditure, Tobacco Expenditure, Clothing, Footwear and Other Wear Expenditure, Housing and water Expenditure, Imputed House Rental Value, Medical Care Expenditure, Transportation Expenditure, Communication Expenditure, Education Expenditure, Miscellaneous Goods and Services Expenditure, Special Occasions Expenditure, Crop Farming and Gardening expenses, Total Income from Entrepreneurial Acitivites, Household Head Age, House Floor Area, House Age\n",
      "\n",
      "Alpha: 0.0001, MSE -164.308770879\n",
      "\n",
      "Using alpha of 0.001 22 columns were selected\n",
      "\n",
      "Total Food Expenditure, Bread and Cereals Expenditure, Total Rice Expenditure, Meat Expenditure, Total Fish and  marine products Expenditure, Fruit Expenditure, Vegetables Expenditure, Restaurant and hotels Expenditure, Alcoholic Beverages Expenditure, Tobacco Expenditure, Clothing, Footwear and Other Wear Expenditure, Housing and water Expenditure, Imputed House Rental Value, Medical Care Expenditure, Transportation Expenditure, Communication Expenditure, Education Expenditure, Miscellaneous Goods and Services Expenditure, Special Occasions Expenditure, Crop Farming and Gardening expenses, Total Income from Entrepreneurial Acitivites, Household Head Age\n",
      "\n",
      "Alpha: 0.001, MSE -164.290614893\n",
      "\n",
      "Using alpha of 0.01 18 columns were selected\n",
      "\n",
      "Total Food Expenditure, Bread and Cereals Expenditure, Total Rice Expenditure, Meat Expenditure, Total Fish and  marine products Expenditure, Vegetables Expenditure, Restaurant and hotels Expenditure, Tobacco Expenditure, Clothing, Footwear and Other Wear Expenditure, Housing and water Expenditure, Imputed House Rental Value, Transportation Expenditure, Communication Expenditure, Education Expenditure, Miscellaneous Goods and Services Expenditure, Special Occasions Expenditure, Crop Farming and Gardening expenses, Total Income from Entrepreneurial Acitivites\n",
      "\n",
      "Alpha: 0.01, MSE -168.026487176\n",
      "\n",
      "Using alpha of 0.1 11 columns were selected\n",
      "\n",
      "Total Food Expenditure, Bread and Cereals Expenditure, Total Rice Expenditure, Restaurant and hotels Expenditure, Transportation Expenditure, Communication Expenditure, Education Expenditure, Miscellaneous Goods and Services Expenditure, Special Occasions Expenditure, Crop Farming and Gardening expenses, Total Income from Entrepreneurial Acitivites\n",
      "\n",
      "Alpha: 0.1, MSE -185.207293316\n",
      "\n",
      "Using alpha of 1 2 columns were selected\n",
      "\n",
      "Total Food Expenditure, Bread and Cereals Expenditure\n",
      "\n",
      "Alpha: 1, MSE -457.103321358\n",
      "\n"
     ]
    }
   ],
   "source": [
    "mse = train_lasso([1e-6, 1e-5, 1e-4, 1e-3, 1e-2, 1e-1, 1], \"numerical\", df)"
   ]
  },
  {
   "cell_type": "code",
   "execution_count": 135,
   "metadata": {
    "collapsed": false
   },
   "outputs": [
    {
     "data": {
      "text/plain": [
       "<matplotlib.figure.Figure at 0x113f40950>"
      ]
     },
     "metadata": {},
     "output_type": "display_data"
    },
    {
     "data": {
      "image/png": "[encoded data removed]",
      "text/plain": [
       "<matplotlib.figure.Figure at 0x11576cb10>"
      ]
     },
     "metadata": {},
     "output_type": "display_data"
    }
   ],
   "source": [
    "fig = plt.figure()\n",
    "plt.plot(mse)\n",
    "plt.xlabel('Alpha')\n",
    "labels = [1e-6, 1e-5, 1e-4, 1e-3, 1e-2, 1e-1, 1]\n",
    "plt.xticks(range(len(labels)), labels, rotation='vertical')\n",
    "plt.ylabel('MSE')\n",
    "plt.title('Effect of Alpha Parameter on MSE')\n",
    "plt.show()\n",
    "fig.savefig('numerical_mse_chart.png')"
   ]
  },
  {
   "cell_type": "markdown",
   "metadata": {},
   "source": [
    "### Predict household income from just categorical features"
   ]
  },
  {
   "cell_type": "markdown",
   "metadata": {},
   "source": [
    "### 500 columns after one-hot encoding and including all variables\n",
    "### Household head occupation has 370 unique values (can probably be reduced)"
   ]
  },
  {
   "cell_type": "markdown",
   "metadata": {},
   "source": [
    "### Alpha = 0.001 produced the best MSE and selected 107 columns\n",
    "### For categorical variables, if the variable is chosen by lasso keep it, otherwise\n",
    "### set it to an \"other\". Use the new dataframe in a linear regression model to\n",
    "### get the mse"
   ]
  },
  {
   "cell_type": "code",
   "execution_count": 142,
   "metadata": {
    "collapsed": false,
    "scrolled": true
   },
   "outputs": [
    {
     "name": "stderr",
     "output_type": "stream",
     "text": [
      "/anaconda/lib/python2.7/site-packages/ipykernel/__main__.py:10: SettingWithCopyWarning: \n",
      "A value is trying to be set on a copy of a slice from a DataFrame\n",
      "\n",
      "See the caveats in the documentation: http://pandas.pydata.org/pandas-docs/stable/indexing.html#indexing-view-versus-copy\n",
      "/anaconda/lib/python2.7/site-packages/ipykernel/__main__.py:20: SettingWithCopyWarning: \n",
      "A value is trying to be set on a copy of a slice from a DataFrame\n",
      "\n",
      "See the caveats in the documentation: http://pandas.pydata.org/pandas-docs/stable/indexing.html#indexing-view-versus-copy\n"
     ]
    },
    {
     "name": "stdout",
     "output_type": "stream",
     "text": [
      "Using alpha of 0.01 81 columns were selected\n",
      "\n",
      "Region_ ARMM, Region_CAR, Region_Caraga, Region_III - Central Luzon, Region_IVA - CALABARZON, Region_IX - Zasmboanga Peninsula, Region_NCR, Region_V - Bicol Region, Region_VI - Western Visayas, Region_VIII - Eastern Visayas, Region_X - Northern Mindanao, Region_XI - Davao Region, Main Source of Income_Enterpreneurial Activities, Main Source of Income_Other sources of Income, Agricultural Household indicator_1, Agricultural Household indicator_2, Household Head Sex_Female, Household Head Marital Status_Married, Household Head Marital Status_Single, Household Head Marital Status_Widowed, Household Head Highest Grade Completed_Agriculture, Forestry, and Fishery Programs, Household Head Highest Grade Completed_Business and Administration Programs, Household Head Highest Grade Completed_Elementary Graduate, Household Head Highest Grade Completed_Engineering and Engineering Trades Programs, Household Head Highest Grade Completed_First Year College, Household Head Highest Grade Completed_First Year High School, Household Head Highest Grade Completed_Grade 1, Household Head Highest Grade Completed_Grade 2, Household Head Highest Grade Completed_Grade 3, Household Head Highest Grade Completed_Grade 4, Household Head Highest Grade Completed_Grade 5, Household Head Highest Grade Completed_Grade 6, Household Head Highest Grade Completed_Health Programs, Household Head Highest Grade Completed_High School Graduate, Household Head Highest Grade Completed_Law Programs, Household Head Highest Grade Completed_No Grade Completed, Household Head Highest Grade Completed_Post Baccalaureate, Household Head Highest Grade Completed_Second Year High School, Household Head Highest Grade Completed_Security Services Programs, Household Head Highest Grade Completed_Social and Behavioral Science Programs, Household Head Highest Grade Completed_Teacher Training and Education Sciences Programs, Household Head Highest Grade Completed_Third Year College, Household Head Highest Grade Completed_Third Year High School, Household Head Occupation_Building construction laborers, Household Head Occupation_Carpenters and joiners, Household Head Occupation_Coconut farmers, Household Head Occupation_Corn farmers, Household Head Occupation_Farmhands and laborers, Household Head Occupation_Finance and administration managers, Household Head Occupation_General managers/managing proprietors in agriculture, hunting, forestry and fishing, Household Head Occupation_General managers/managing proprietors in construction, Household Head Occupation_General managers/managing proprietors in wholesale and retail trade, Household Head Occupation_General managers/managing proprietors of business services, Household Head Occupation_General managers/managing proprietors of restaurants and hotels, Household Head Occupation_Helpers and cleaners in offices, hotels and other establishments, Household Head Occupation_Legislative officials, Household Head Occupation_Market and sidewalk stall vendors, Household Head Occupation_Medical doctors, Household Head Occupation_Motorcycle drivers, Household Head Occupation_Protective services workers n. e. c., Household Head Occupation_Rice farmers, Household Head Class of Worker_Employer in own family-operated farm or business, Household Head Class of Worker_Self-employed wihout any employee, Household Head Class of Worker_Worked for government/government corporation, Household Head Class of Worker_Worked for private establishment, Household Head Class of Worker_Worked for private household, Type of Household_Single Family, Type of Building/House_Single house, Type of Roof_Mixed but predominantly strong materials, Type of Roof_Strong material(galvanized,iron,al,tile,concrete,brick,stone,asbestos), Type of Walls_Quite Strong, Type of Walls_Strong, Tenure Status_Own house, rent-free lot with consent of owner, Tenure Status_Own or owner-like possession of house and lot, Tenure Status_Rent house/room including lot, Tenure Status_Rent-free house and lot with consent of owner, Toilet Facilities_Water-sealed, sewer septic tank, shared with other household, Toilet Facilities_Water-sealed, sewer septic tank, used exclusively by household, Electricity_0, Main Source of Water Supply_Own use, faucet, community water system, Main Source of Water Supply_Own use, tubed/piped deep well\n",
      "\n",
      "Regions that were selected\n",
      "Region_ ARMM\n",
      "Region_CAR\n",
      "Region_Caraga\n",
      "Region_III - Central Luzon\n",
      "Region_IVA - CALABARZON\n",
      "Region_IX - Zasmboanga Peninsula\n",
      "Region_NCR\n",
      "Region_V - Bicol Region\n",
      "Region_VI - Western Visayas\n",
      "Region_VIII - Eastern Visayas\n",
      "Region_X - Northern Mindanao\n",
      "Region_XI - Davao Region\n",
      "\n",
      "Alpha: 0.01, MSE -562.641510458\n",
      "\n",
      "Using alpha of 0.1 17 columns were selected\n",
      "\n",
      "Region_NCR, Agricultural Household indicator_1, Household Head Marital Status_Married, Household Head Highest Grade Completed_Business and Administration Programs, Household Head Highest Grade Completed_Elementary Graduate, Household Head Highest Grade Completed_Engineering and Engineering Trades Programs, Household Head Highest Grade Completed_High School Graduate, Household Head Class of Worker_Employer in own family-operated farm or business, Household Head Class of Worker_Self-employed wihout any employee, Household Head Class of Worker_Worked for government/government corporation, Type of Household_Single Family, Type of Roof_Strong material(galvanized,iron,al,tile,concrete,brick,stone,asbestos), Type of Walls_Strong, Tenure Status_Own or owner-like possession of house and lot, Toilet Facilities_Water-sealed, sewer septic tank, used exclusively by household, Main Source of Water Supply_Own use, faucet, community water system, Main Source of Water Supply_Own use, tubed/piped deep well\n",
      "\n",
      "Regions that were selected\n",
      "Region_NCR\n",
      "\n",
      "Alpha: 0.1, MSE -636.329796217\n",
      "\n",
      "Using alpha of 1 1 columns were selected\n",
      "\n",
      "Main Source of Water Supply_Own use, faucet, community water system\n",
      "\n",
      "Regions that were selected\n",
      "\n",
      "Alpha: 1, MSE -747.509333849\n",
      "\n"
     ]
    }
   ],
   "source": [
    "mse = train_lasso([1e-2, 0.1, 1],'categorical',df)"
   ]
  },
  {
   "cell_type": "code",
   "execution_count": 140,
   "metadata": {
    "collapsed": false
   },
   "outputs": [
    {
     "data": {
      "image/png": "[encoded data removed]",
      "text/plain": [
       "<matplotlib.figure.Figure at 0x116f79d50>"
      ]
     },
     "metadata": {},
     "output_type": "display_data"
    }
   ],
   "source": [
    "fig = plt.figure()\n",
    "plt.plot(mse)\n",
    "plt.xlabel('Alpha')\n",
    "labels = [1e-3, 1e-2, 0.1, 1]\n",
    "plt.xticks(range(len(labels)), labels, rotation='vertical')\n",
    "plt.ylabel('MSE')\n",
    "plt.title('Effect of Alpha Parameter on MSE')\n",
    "plt.show()\n",
    "fig.savefig('categorical_mse_chart.png')"
   ]
  },
  {
   "cell_type": "markdown",
   "metadata": {},
   "source": [
    "### Use all the features to compute the MSE"
   ]
  },
  {
   "cell_type": "code",
   "execution_count": 144,
   "metadata": {
    "collapsed": false,
    "scrolled": true
   },
   "outputs": [
    {
     "name": "stderr",
     "output_type": "stream",
     "text": [
      "/anaconda/lib/python2.7/site-packages/ipykernel/__main__.py:10: SettingWithCopyWarning: \n",
      "A value is trying to be set on a copy of a slice from a DataFrame\n",
      "\n",
      "See the caveats in the documentation: http://pandas.pydata.org/pandas-docs/stable/indexing.html#indexing-view-versus-copy\n",
      "/anaconda/lib/python2.7/site-packages/ipykernel/__main__.py:52: SettingWithCopyWarning: \n",
      "A value is trying to be set on a copy of a slice from a DataFrame\n",
      "\n",
      "See the caveats in the documentation: http://pandas.pydata.org/pandas-docs/stable/indexing.html#indexing-view-versus-copy\n"
     ]
    },
    {
     "name": "stdout",
     "output_type": "stream",
     "text": [
      "Using alpha of 0.01 110 columns were selected\n",
      "\n",
      "Agricultural Household indicator, Bread and Cereals Expenditure, Clothing, Footwear and Other Wear Expenditure, Communication Expenditure, Crop Farming and Gardening expenses, Education Expenditure, Electricity, Household Head Class of Worker_Employer in own family-operated farm or business, Household Head Class of Worker_Self-employed wihout any employee, Household Head Class of Worker_Worked for government/government corporation, Household Head Class of Worker_Worked for private establishment, Household Head Class of Worker_Worked for private household, Household Head Highest Grade Completed_Agriculture, Forestry, and Fishery Programs, Household Head Highest Grade Completed_Business and Administration Programs, Household Head Highest Grade Completed_Elementary Graduate, Household Head Highest Grade Completed_Engineering and Engineering Trades Programs, Household Head Highest Grade Completed_Engineering and Engineering trades Programs, Household Head Highest Grade Completed_First Year College, Household Head Highest Grade Completed_First Year High School, Household Head Highest Grade Completed_Grade 1, Household Head Highest Grade Completed_Grade 2, Household Head Highest Grade Completed_Grade 3, Household Head Highest Grade Completed_Grade 4, Household Head Highest Grade Completed_Grade 5, Household Head Highest Grade Completed_Grade 6, Household Head Highest Grade Completed_Health Programs, Household Head Highest Grade Completed_High School Graduate, Household Head Highest Grade Completed_Law Programs, Household Head Highest Grade Completed_No Grade Completed, Household Head Highest Grade Completed_Post Baccalaureate, Household Head Highest Grade Completed_Second Year High School, Household Head Highest Grade Completed_Security Services Programs, Household Head Highest Grade Completed_Social and Behavioral Science Programs, Household Head Highest Grade Completed_Teacher Training and Education Sciences Programs, Household Head Highest Grade Completed_Third Year College, Household Head Highest Grade Completed_Third Year High School, Household Head Marital Status_Divorced/Separated, Household Head Marital Status_Married, Household Head Marital Status_Single, Household Head Occupation_Building construction laborers, Household Head Occupation_Carpenters and joiners, Household Head Occupation_Coconut farmers, Household Head Occupation_Corn farmers, Household Head Occupation_Farmhands and laborers, Household Head Occupation_Finance and administration managers, Household Head Occupation_General managers/managing proprietors in construction, Household Head Occupation_General managers/managing proprietors in wholesale and retail trade, Household Head Occupation_General managers/managing proprietors of business services, Household Head Occupation_General managers/managing proprietors of restaurants and hotels, Household Head Occupation_Helpers and cleaners in offices, hotels and other establishments, Household Head Occupation_Legislative officials, Household Head Occupation_Market and sidewalk stall vendors, Household Head Occupation_Medical doctors, Household Head Occupation_Motorcycle drivers, Household Head Occupation_Protective services workers n. e. c., Household Head Occupation_Rice farmers, Household Head Sex_Female, Housing and water Expenditure, Imputed House Rental Value, Main Source of Income_Other sources of Income, Main Source of Income_Wage/Salaries, Main Source of Water Supply_Own use, faucet, community water system, Main Source of Water Supply_Own use, tubed/piped deep well, Meat Expenditure, Miscellaneous Goods and Services Expenditure, Region_ ARMM, Region_CAR, Region_Caraga, Region_III - Central Luzon, Region_IVA - CALABARZON, Region_IX - Zasmboanga Peninsula, Region_NCR, Region_V - Bicol Region, Region_VI - Western Visayas, Region_VIII - Eastern Visayas, Region_X - Northern Mindanao, Region_XI - Davao Region, Restaurant and hotels Expenditure, Special Occasions Expenditure, Tenure Status_Own or owner-like possession of house and lot, Tenure Status_Rent house/room including lot, Tenure Status_Rent-free house and lot with consent of owner, Tobacco Expenditure, Toilet Facilities_Water-sealed, sewer septic tank, shared with other household, Toilet Facilities_Water-sealed, sewer septic tank, used exclusively by household, Total Fish and  marine products Expenditure, Total Food Expenditure, Total Income from Entrepreneurial Acitivites, Total Rice Expenditure, Transportation Expenditure, Type of Household_Single Family, Type of Roof_Mixed but predominantly strong materials, Type of Roof_Strong material(galvanized,iron,al,tile,concrete,brick,stone,asbestos), Type of Walls_Strong, Vegetables Expenditure\n",
      "\n"
     ]
    },
    {
     "name": "stderr",
     "output_type": "stream",
     "text": [
      "/anaconda/lib/python2.7/site-packages/ipykernel/__main__.py:61: FutureWarning: using '+' to provide set union with Indexes is deprecated, use '|' or .union()\n"
     ]
    },
    {
     "name": "stdout",
     "output_type": "stream",
     "text": [
      "Alpha: 0.01, MSE -154.435148702\n",
      "\n",
      "Using alpha of 0.1 46 columns were selected\n",
      "\n",
      "Bread and Cereals Expenditure, Communication Expenditure, Crop Farming and Gardening expenses, Education Expenditure, Electricity, Household Head Class of Worker_Employer in own family-operated farm or business, Household Head Class of Worker_Self-employed wihout any employee, Household Head Class of Worker_Worked for government/government corporation, Household Head Highest Grade Completed_Business and Administration Programs, Household Head Highest Grade Completed_Elementary Graduate, Household Head Highest Grade Completed_Engineering and Engineering Trades Programs, Household Head Highest Grade Completed_High School Graduate, Household Head Marital Status_Married, Household Head Occupation_Farmhands and laborers, Household Head Occupation_General managers/managing proprietors in wholesale and retail trade, Main Source of Water Supply_Own use, faucet, community water system, Main Source of Water Supply_Own use, tubed/piped deep well, Miscellaneous Goods and Services Expenditure, Region_NCR, Restaurant and hotels Expenditure, Special Occasions Expenditure, Tenure Status_Own or owner-like possession of house and lot, Toilet Facilities_Water-sealed, sewer septic tank, used exclusively by household, Total Food Expenditure, Total Income from Entrepreneurial Acitivites, Total Rice Expenditure, Transportation Expenditure, Type of Household_Single Family, Type of Roof_Strong material(galvanized,iron,al,tile,concrete,brick,stone,asbestos), Type of Walls_Strong\n",
      "\n",
      "Alpha: 0.1, MSE -179.250587675\n",
      "\n",
      "Using alpha of 0.5 24 columns were selected\n",
      "\n",
      "Bread and Cereals Expenditure, Crop Farming and Gardening expenses, Main Source of Water Supply_Own use, faucet, community water system, Miscellaneous Goods and Services Expenditure, Toilet Facilities_Water-sealed, sewer septic tank, used exclusively by household, Total Food Expenditure, Type of Walls_Strong\n",
      "\n",
      "Alpha: 0.5, MSE -359.412996846\n",
      "\n",
      "Using alpha of 1 20 columns were selected\n",
      "\n",
      "Bread and Cereals Expenditure, Main Source of Water Supply_Own use, faucet, community water system, Total Food Expenditure\n",
      "\n",
      "Alpha: 1, MSE -453.833778537\n",
      "\n"
     ]
    }
   ],
   "source": [
    "mse = train_lasso([1e-2, 0.1, 0.5, 1], 'both', df)"
   ]
  },
  {
   "cell_type": "code",
   "execution_count": 145,
   "metadata": {
    "collapsed": false
   },
   "outputs": [
    {
     "data": {
      "image/png": "[encoded data removed]",
      "text/plain": [
       "<matplotlib.figure.Figure at 0x11a467a90>"
      ]
     },
     "metadata": {},
     "output_type": "display_data"
    }
   ],
   "source": [
    "plt.plot(mse)\n",
    "plt.xlabel('Alpha')\n",
    "labels = [1e-2, 0.1, 0.5, 1]\n",
    "plt.xticks(range(len(labels)), labels, rotation='vertical')\n",
    "plt.ylabel('MSE')\n",
    "plt.title('Effect of Alpha Parameter on MSE')\n",
    "plt.show()\n",
    "fig.savefig('numerical_mse_chart.png')"
   ]
  },
  {
   "cell_type": "markdown",
   "metadata": {
    "collapsed": true
   },
   "source": [
    "### Engineer features to improve performance\n",
    "\n",
    "\n",
    "### Add z-score for household income by region\n",
    "### Group 46 unique highest grade completed into 7 categories\n",
    "\n",
    "\n",
    "### Fill in missing values for occupation and head class\n",
    "### of worker with 'other'\n",
    "\n",
    "\n",
    "### Add % of family members employed\n",
    "### Interaction between # of family members and # of family members\n",
    "### employed"
   ]
  },
  {
   "cell_type": "code",
   "execution_count": 146,
   "metadata": {
    "collapsed": false
   },
   "outputs": [],
   "source": [
    "df = pd.read_csv('train.csv').fillna('other')\n",
    "df['Income Z-Score'] = get_income_zscores(df)\n",
    "df['Household Head Highest Grade Completed'] = group_highest_grade(df)\n",
    "percentage_employed(df)\n",
    "df['Household Head Occupation Grouped'] = cluster_jobs(df)\n",
    "\n",
    "df['TotalElectronics'] = df['Number of Landline/wireless telephones'] + df['Number of Cellular phone'] + df['Number of Personal Computer']\n",
    "    \n",
    "df['NumberOfVehicles'] = df['Number of Motorized Banca'] + df['Number of Motorcycle/Tricycle']\n",
    "\n",
    "s = pd.get_dummies(df['Toilet Facilities'])\n",
    "del s['None']\n",
    "df = pd.concat([df,s],axis = 1)\n",
    "df['ClosedPitxWaterExp'] = df['Housing and water Expenditure'] * df['Closed pit']\n",
    "df['OpenPitxWaterExp'] = df['Housing and water Expenditure'] * df['Open pit']\n",
    "df['OthersxWaterExp'] = df['Housing and water Expenditure'] * df['Others']\n",
    "df['OtherSharedxWaterExp'] = df['Housing and water Expenditure'] * df['Water-sealed, other depository, shared with other household']\n",
    "df['OtherExclusivexWaterExp'] = df['Housing and water Expenditure'] * df['Water-sealed, other depository, used exclusively by household']\n",
    "df['SewerSharedxWaterExp'] = df['Housing and water Expenditure'] * df['Water-sealed, sewer septic tank, shared with other household']\n",
    "df['SewerExclusivexWaterExp'] = df['Housing and water Expenditure'] * df['Water-sealed, sewer septic tank, used exclusively by household']\n",
    "\n",
    "df = df.drop(['Household Head Occupation'], axis=1)"
   ]
  },
  {
   "cell_type": "code",
   "execution_count": 147,
   "metadata": {
    "collapsed": false
   },
   "outputs": [
    {
     "data": {
      "text/html": [
       "<div>\n",
       "<table border=\"1\" class=\"dataframe\">\n",
       "  <thead>\n",
       "    <tr style=\"text-align: right;\">\n",
       "      <th></th>\n",
       "      <th>Unnamed: 0</th>\n",
       "      <th>Region</th>\n",
       "      <th>Total Food Expenditure</th>\n",
       "      <th>Main Source of Income</th>\n",
       "      <th>Agricultural Household indicator</th>\n",
       "      <th>Bread and Cereals Expenditure</th>\n",
       "      <th>Total Rice Expenditure</th>\n",
       "      <th>Meat Expenditure</th>\n",
       "      <th>Total Fish and  marine products Expenditure</th>\n",
       "      <th>Fruit Expenditure</th>\n",
       "      <th>...</th>\n",
       "      <th>Water-sealed, other depository, used exclusively by household</th>\n",
       "      <th>Water-sealed, sewer septic tank, shared with other household</th>\n",
       "      <th>Water-sealed, sewer septic tank, used exclusively by household</th>\n",
       "      <th>ClosedPitxWaterExp</th>\n",
       "      <th>OpenPitxWaterExp</th>\n",
       "      <th>OthersxWaterExp</th>\n",
       "      <th>OtherSharedxWaterExp</th>\n",
       "      <th>OtherExclusivexWaterExp</th>\n",
       "      <th>SewerSharedxWaterExp</th>\n",
       "      <th>SewerExclusivexWaterExp</th>\n",
       "    </tr>\n",
       "  </thead>\n",
       "  <tbody>\n",
       "    <tr>\n",
       "      <th>0</th>\n",
       "      <td>22617</td>\n",
       "      <td>CAR</td>\n",
       "      <td>81940</td>\n",
       "      <td>Enterpreneurial Activities</td>\n",
       "      <td>1</td>\n",
       "      <td>44171</td>\n",
       "      <td>40336</td>\n",
       "      <td>9053</td>\n",
       "      <td>4499</td>\n",
       "      <td>5245</td>\n",
       "      <td>...</td>\n",
       "      <td>0.0</td>\n",
       "      <td>0.0</td>\n",
       "      <td>1.0</td>\n",
       "      <td>0.0</td>\n",
       "      <td>0.0</td>\n",
       "      <td>0.0</td>\n",
       "      <td>0.0</td>\n",
       "      <td>0.0</td>\n",
       "      <td>0.0</td>\n",
       "      <td>12300.0</td>\n",
       "    </tr>\n",
       "    <tr>\n",
       "      <th>1</th>\n",
       "      <td>21389</td>\n",
       "      <td>V - Bicol Region</td>\n",
       "      <td>26176</td>\n",
       "      <td>Other sources of Income</td>\n",
       "      <td>0</td>\n",
       "      <td>14477</td>\n",
       "      <td>13067</td>\n",
       "      <td>722</td>\n",
       "      <td>3707</td>\n",
       "      <td>755</td>\n",
       "      <td>...</td>\n",
       "      <td>0.0</td>\n",
       "      <td>1.0</td>\n",
       "      <td>0.0</td>\n",
       "      <td>0.0</td>\n",
       "      <td>0.0</td>\n",
       "      <td>0.0</td>\n",
       "      <td>0.0</td>\n",
       "      <td>0.0</td>\n",
       "      <td>5502.0</td>\n",
       "      <td>0.0</td>\n",
       "    </tr>\n",
       "    <tr>\n",
       "      <th>2</th>\n",
       "      <td>25275</td>\n",
       "      <td>III - Central Luzon</td>\n",
       "      <td>139920</td>\n",
       "      <td>Enterpreneurial Activities</td>\n",
       "      <td>0</td>\n",
       "      <td>31053</td>\n",
       "      <td>21720</td>\n",
       "      <td>12005</td>\n",
       "      <td>10415</td>\n",
       "      <td>1090</td>\n",
       "      <td>...</td>\n",
       "      <td>0.0</td>\n",
       "      <td>0.0</td>\n",
       "      <td>1.0</td>\n",
       "      <td>0.0</td>\n",
       "      <td>0.0</td>\n",
       "      <td>0.0</td>\n",
       "      <td>0.0</td>\n",
       "      <td>0.0</td>\n",
       "      <td>0.0</td>\n",
       "      <td>29520.0</td>\n",
       "    </tr>\n",
       "    <tr>\n",
       "      <th>3</th>\n",
       "      <td>25298</td>\n",
       "      <td>III - Central Luzon</td>\n",
       "      <td>108931</td>\n",
       "      <td>Wage/Salaries</td>\n",
       "      <td>0</td>\n",
       "      <td>41374</td>\n",
       "      <td>29008</td>\n",
       "      <td>12250</td>\n",
       "      <td>11840</td>\n",
       "      <td>1455</td>\n",
       "      <td>...</td>\n",
       "      <td>0.0</td>\n",
       "      <td>0.0</td>\n",
       "      <td>1.0</td>\n",
       "      <td>0.0</td>\n",
       "      <td>0.0</td>\n",
       "      <td>0.0</td>\n",
       "      <td>0.0</td>\n",
       "      <td>0.0</td>\n",
       "      <td>0.0</td>\n",
       "      <td>38160.0</td>\n",
       "    </tr>\n",
       "    <tr>\n",
       "      <th>4</th>\n",
       "      <td>7780</td>\n",
       "      <td>V - Bicol Region</td>\n",
       "      <td>61539</td>\n",
       "      <td>Other sources of Income</td>\n",
       "      <td>1</td>\n",
       "      <td>23758</td>\n",
       "      <td>19656</td>\n",
       "      <td>2496</td>\n",
       "      <td>12446</td>\n",
       "      <td>2448</td>\n",
       "      <td>...</td>\n",
       "      <td>0.0</td>\n",
       "      <td>0.0</td>\n",
       "      <td>1.0</td>\n",
       "      <td>0.0</td>\n",
       "      <td>0.0</td>\n",
       "      <td>0.0</td>\n",
       "      <td>0.0</td>\n",
       "      <td>0.0</td>\n",
       "      <td>0.0</td>\n",
       "      <td>21222.0</td>\n",
       "    </tr>\n",
       "  </tbody>\n",
       "</table>\n",
       "<p>5 rows × 80 columns</p>\n",
       "</div>"
      ],
      "text/plain": [
       "   Unnamed: 0               Region  Total Food Expenditure  \\\n",
       "0       22617                  CAR                   81940   \n",
       "1       21389     V - Bicol Region                   26176   \n",
       "2       25275  III - Central Luzon                  139920   \n",
       "3       25298  III - Central Luzon                  108931   \n",
       "4        7780     V - Bicol Region                   61539   \n",
       "\n",
       "        Main Source of Income  Agricultural Household indicator  \\\n",
       "0  Enterpreneurial Activities                                 1   \n",
       "1     Other sources of Income                                 0   \n",
       "2  Enterpreneurial Activities                                 0   \n",
       "3               Wage/Salaries                                 0   \n",
       "4     Other sources of Income                                 1   \n",
       "\n",
       "   Bread and Cereals Expenditure  Total Rice Expenditure  Meat Expenditure  \\\n",
       "0                          44171                   40336              9053   \n",
       "1                          14477                   13067               722   \n",
       "2                          31053                   21720             12005   \n",
       "3                          41374                   29008             12250   \n",
       "4                          23758                   19656              2496   \n",
       "\n",
       "   Total Fish and  marine products Expenditure  Fruit Expenditure  \\\n",
       "0                                         4499               5245   \n",
       "1                                         3707                755   \n",
       "2                                        10415               1090   \n",
       "3                                        11840               1455   \n",
       "4                                        12446               2448   \n",
       "\n",
       "            ...             \\\n",
       "0           ...              \n",
       "1           ...              \n",
       "2           ...              \n",
       "3           ...              \n",
       "4           ...              \n",
       "\n",
       "   Water-sealed, other depository, used exclusively by household  \\\n",
       "0                                                0.0               \n",
       "1                                                0.0               \n",
       "2                                                0.0               \n",
       "3                                                0.0               \n",
       "4                                                0.0               \n",
       "\n",
       "   Water-sealed, sewer septic tank, shared with other household  \\\n",
       "0                                                0.0              \n",
       "1                                                1.0              \n",
       "2                                                0.0              \n",
       "3                                                0.0              \n",
       "4                                                0.0              \n",
       "\n",
       "   Water-sealed, sewer septic tank, used exclusively by household  \\\n",
       "0                                                1.0                \n",
       "1                                                0.0                \n",
       "2                                                1.0                \n",
       "3                                                1.0                \n",
       "4                                                1.0                \n",
       "\n",
       "   ClosedPitxWaterExp  OpenPitxWaterExp  OthersxWaterExp  \\\n",
       "0                 0.0               0.0              0.0   \n",
       "1                 0.0               0.0              0.0   \n",
       "2                 0.0               0.0              0.0   \n",
       "3                 0.0               0.0              0.0   \n",
       "4                 0.0               0.0              0.0   \n",
       "\n",
       "   OtherSharedxWaterExp  OtherExclusivexWaterExp  SewerSharedxWaterExp  \\\n",
       "0                   0.0                      0.0                   0.0   \n",
       "1                   0.0                      0.0                5502.0   \n",
       "2                   0.0                      0.0                   0.0   \n",
       "3                   0.0                      0.0                   0.0   \n",
       "4                   0.0                      0.0                   0.0   \n",
       "\n",
       "   SewerExclusivexWaterExp  \n",
       "0                  12300.0  \n",
       "1                      0.0  \n",
       "2                  29520.0  \n",
       "3                  38160.0  \n",
       "4                  21222.0  \n",
       "\n",
       "[5 rows x 80 columns]"
      ]
     },
     "execution_count": 147,
     "metadata": {},
     "output_type": "execute_result"
    }
   ],
   "source": [
    "df.head()"
   ]
  },
  {
   "cell_type": "code",
   "execution_count": 150,
   "metadata": {
    "collapsed": false,
    "scrolled": false
   },
   "outputs": [
    {
     "name": "stderr",
     "output_type": "stream",
     "text": [
      "/anaconda/lib/python2.7/site-packages/ipykernel/__main__.py:10: SettingWithCopyWarning: \n",
      "A value is trying to be set on a copy of a slice from a DataFrame\n",
      "\n",
      "See the caveats in the documentation: http://pandas.pydata.org/pandas-docs/stable/indexing.html#indexing-view-versus-copy\n",
      "/anaconda/lib/python2.7/site-packages/ipykernel/__main__.py:52: SettingWithCopyWarning: \n",
      "A value is trying to be set on a copy of a slice from a DataFrame\n",
      "\n",
      "See the caveats in the documentation: http://pandas.pydata.org/pandas-docs/stable/indexing.html#indexing-view-versus-copy\n"
     ]
    },
    {
     "name": "stdout",
     "output_type": "stream",
     "text": [
      "Using alpha of 0.001 133 columns were selected\n",
      "\n",
      "Agricultural Household indicator, Bread and Cereals Expenditure, ClosedPitxWaterExp, Clothing, Footwear and Other Wear Expenditure, Communication Expenditure, Crop Farming and Gardening expenses, Education Expenditure, Electricity, Fruit Expenditure, Household Head Age, Household Head Class of Worker_Employer in own family-operated farm or business, Household Head Class of Worker_Self-employed wihout any employee, Household Head Class of Worker_Worked for private establishment, Household Head Class of Worker_Worked for private household, Household Head Class of Worker_other, Household Head Highest Grade Completed_Baccalaureate, Household Head Highest Grade Completed_Elementary, Household Head Highest Grade Completed_High School, Household Head Highest Grade Completed_Post Secondary, Household Head Highest Grade Completed_Program/Trade School, Household Head Job or Business Indicator_No Job/Business, Household Head Marital Status_Divorced/Separated, Household Head Marital Status_Married, Household Head Marital Status_Single, Household Head Occupation Grouped_0, Household Head Occupation Grouped_1, Household Head Occupation Grouped_10, Household Head Occupation Grouped_12, Household Head Occupation Grouped_14, Household Head Occupation Grouped_15, Household Head Occupation Grouped_16, Household Head Occupation Grouped_17, Household Head Occupation Grouped_18, Household Head Occupation Grouped_19, Household Head Occupation Grouped_2, Household Head Occupation Grouped_21, Household Head Occupation Grouped_22, Household Head Occupation Grouped_24, Household Head Occupation Grouped_25, Household Head Occupation Grouped_27, Household Head Occupation Grouped_3, Household Head Occupation Grouped_4, Household Head Occupation Grouped_5, Household Head Occupation Grouped_6, Household Head Occupation Grouped_7, Household Head Occupation Grouped_8, Household Head Occupation Grouped_9, Household Head Sex_Male, Housing and water Expenditure, Imputed House Rental Value, Main Source of Income_Enterpreneurial Activities, Main Source of Income_Other sources of Income, Main Source of Water Supply_Lake, river, rain and others, Main Source of Water Supply_Others, Main Source of Water Supply_Own use, faucet, community water system, Main Source of Water Supply_Own use, tubed/piped deep well, Main Source of Water Supply_Peddler, Main Source of Water Supply_Protected spring, river, stream, etc, Main Source of Water Supply_Shared, faucet, community water system, Main Source of Water Supply_Shared, tubed/piped deep well, Main Source of Water Supply_Unprotected spring, river, stream, etc, Meat Expenditure, Medical Care Expenditure, Miscellaneous Goods and Services Expenditure, OpenPitxWaterExp, OtherExclusivexWaterExp, OtherSharedxWaterExp, OthersxWaterExp, Region_ ARMM, Region_CAR, Region_Caraga, Region_I - Ilocos Region, Region_II - Cagayan Valley, Region_III - Central Luzon, Region_IVA - CALABARZON, Region_IVB - MIMAROPA, Region_IX - Zasmboanga Peninsula, Region_NCR, Region_V - Bicol Region, Region_VI - Western Visayas, Region_VIII - Eastern Visayas, Region_X - Northern Mindanao, Region_XI - Davao Region, Region_XII - SOCCSKSARGEN, Restaurant and hotels Expenditure, SewerExclusivexWaterExp, SewerSharedxWaterExp, Special Occasions Expenditure, Tenure Status_Not Applicable, Tenure Status_Own house, rent-free lot with consent of owner, Tenure Status_Own house, rent-free lot without consent of owner, Tenure Status_Own or owner-like possession of house and lot, Tenure Status_Rent house/room including lot, Tenure Status_Rent-free house and lot with consent of owner, Tenure Status_Rent-free house and lot without consent of owner, Tobacco Expenditure, Toilet Facilities_None, Toilet Facilities_Open pit, Toilet Facilities_Water-sealed, other depository, shared with other household, Toilet Facilities_Water-sealed, other depository, used exclusively by household, Toilet Facilities_Water-sealed, sewer septic tank, shared with other household, Toilet Facilities_Water-sealed, sewer septic tank, used exclusively by household, Total Fish and  marine products Expenditure, Total Food Expenditure, Total Income from Entrepreneurial Acitivites, Total Rice Expenditure, Transportation Expenditure, Type of Building/House_Multi-unit residential, Type of Building/House_Single house, Type of Household_Extended Family, Type of Household_Single Family, Type of Roof_Mixed but predominantly strong materials, Type of Roof_Salvaged/makeshift materials, Type of Roof_Strong material(galvanized,iron,al,tile,concrete,brick,stone,asbestos), Type of Walls_Quite Strong, Type of Walls_Salvaged, Type of Walls_Strong, Type of Walls_Very Light, Vegetables Expenditure\n",
      "\n"
     ]
    },
    {
     "name": "stderr",
     "output_type": "stream",
     "text": [
      "/anaconda/lib/python2.7/site-packages/ipykernel/__main__.py:61: FutureWarning: using '+' to provide set union with Indexes is deprecated, use '|' or .union()\n"
     ]
    },
    {
     "name": "stdout",
     "output_type": "stream",
     "text": [
      "Alpha: 0.001, MSE -155.926326513\n",
      "\n",
      "Using alpha of 0.01 86 columns were selected\n",
      "\n",
      "Agricultural Household indicator, Bread and Cereals Expenditure, Clothing, Footwear and Other Wear Expenditure, Communication Expenditure, Crop Farming and Gardening expenses, Education Expenditure, Household Head Class of Worker_Employer in own family-operated farm or business, Household Head Class of Worker_Self-employed wihout any employee, Household Head Class of Worker_Worked for government/government corporation, Household Head Class of Worker_Worked for private establishment, Household Head Class of Worker_Worked for private household, Household Head Highest Grade Completed_Baccalaureate, Household Head Highest Grade Completed_Elementary, Household Head Highest Grade Completed_High School, Household Head Highest Grade Completed_Program/Trade School, Household Head Marital Status_Divorced/Separated, Household Head Marital Status_Married, Household Head Marital Status_Single, Household Head Occupation Grouped_1, Household Head Occupation Grouped_18, Household Head Occupation Grouped_27, Household Head Occupation Grouped_4, Household Head Occupation Grouped_6, Household Head Occupation Grouped_9, Housing and water Expenditure, Main Source of Income_Other sources of Income, Main Source of Income_Wage/Salaries, Main Source of Water Supply_Own use, faucet, community water system, Main Source of Water Supply_Own use, tubed/piped deep well, Main Source of Water Supply_Shared, tubed/piped deep well, Meat Expenditure, Medical Care Expenditure, Miscellaneous Goods and Services Expenditure, Region_ ARMM, Region_CAR, Region_Caraga, Region_III - Central Luzon, Region_IVA - CALABARZON, Region_IX - Zasmboanga Peninsula, Region_NCR, Region_V - Bicol Region, Region_VI - Western Visayas, Region_VIII - Eastern Visayas, Region_X - Northern Mindanao, Region_XI - Davao Region, Region_XII - SOCCSKSARGEN, Restaurant and hotels Expenditure, SewerExclusivexWaterExp, SewerSharedxWaterExp, Special Occasions Expenditure, Tenure Status_Own house, rent-free lot with consent of owner, Tenure Status_Own or owner-like possession of house and lot, Tenure Status_Rent house/room including lot, Tenure Status_Rent-free house and lot with consent of owner, Tobacco Expenditure, Toilet Facilities_Water-sealed, sewer septic tank, shared with other household, Toilet Facilities_Water-sealed, sewer septic tank, used exclusively by household, Total Fish and  marine products Expenditure, Total Food Expenditure, Total Income from Entrepreneurial Acitivites, Total Rice Expenditure, Transportation Expenditure, Type of Building/House_Multi-unit residential, Type of Building/House_Single house, Type of Household_Single Family, Type of Roof_Mixed but predominantly strong materials, Type of Roof_Strong material(galvanized,iron,al,tile,concrete,brick,stone,asbestos), Type of Walls_Quite Strong, Type of Walls_Strong, Vegetables Expenditure\n",
      "\n",
      "Alpha: 0.01, MSE -156.706746727\n",
      "\n",
      "Using alpha of 0.1 47 columns were selected\n",
      "\n",
      "Bread and Cereals Expenditure, Communication Expenditure, Crop Farming and Gardening expenses, Education Expenditure, Household Head Class of Worker_Employer in own family-operated farm or business, Household Head Class of Worker_Self-employed wihout any employee, Household Head Class of Worker_Worked for government/government corporation, Household Head Class of Worker_Worked for private establishment, Household Head Highest Grade Completed_Elementary, Household Head Highest Grade Completed_High School, Household Head Highest Grade Completed_Program/Trade School, Household Head Marital Status_Married, Household Head Occupation Grouped_27, Household Head Occupation Grouped_6, Household Head Occupation Grouped_9, Housing and water Expenditure, Main Source of Income_Other sources of Income, Main Source of Water Supply_Own use, faucet, community water system, Miscellaneous Goods and Services Expenditure, Region_NCR, Restaurant and hotels Expenditure, SewerExclusivexWaterExp, Special Occasions Expenditure, Tenure Status_Own or owner-like possession of house and lot, Toilet Facilities_Water-sealed, sewer septic tank, used exclusively by household, Total Food Expenditure, Total Income from Entrepreneurial Acitivites, Transportation Expenditure, Type of Household_Single Family, Type of Walls_Strong\n",
      "\n",
      "Alpha: 0.1, MSE -168.071636875\n",
      "\n",
      "Using alpha of 0.5 25 columns were selected\n",
      "\n",
      "Bread and Cereals Expenditure, Crop Farming and Gardening expenses, Household Head Highest Grade Completed_Elementary, Household Head Highest Grade Completed_Program/Trade School, Main Source of Water Supply_Own use, faucet, community water system, SewerExclusivexWaterExp, Total Food Expenditure, Type of Walls_Strong\n",
      "\n",
      "Alpha: 0.5, MSE -332.027934012\n",
      "\n",
      "Using alpha of 1 21 columns were selected\n",
      "\n",
      "Bread and Cereals Expenditure, Main Source of Water Supply_Own use, faucet, community water system, SewerExclusivexWaterExp, Total Food Expenditure\n",
      "\n",
      "Alpha: 1, MSE -347.090008162\n",
      "\n"
     ]
    }
   ],
   "source": [
    "mse = train_lasso([1e-3, 1e-2, 0.1, 0.5, 1], 'both', df)"
   ]
  },
  {
   "cell_type": "code",
   "execution_count": 152,
   "metadata": {
    "collapsed": false
   },
   "outputs": [
    {
     "data": {
      "image/png": "[encoded data removed]",
      "text/plain": [
       "<matplotlib.figure.Figure at 0x11417d990>"
      ]
     },
     "metadata": {},
     "output_type": "display_data"
    }
   ],
   "source": [
    "fig = plt.figure()\n",
    "plt.plot(mse)\n",
    "plt.xlabel('Alpha')\n",
    "labels = [1e-2, 0.1, 0.5, 1]\n",
    "plt.xticks(range(len(labels)), labels, rotation='vertical')\n",
    "plt.ylabel('MSE')\n",
    "plt.title('Effect of Alpha Parameter on MSE')\n",
    "plt.show()\n",
    "fig.savefig('engineered_features_mse.png')"
   ]
  },
  {
   "cell_type": "code",
   "execution_count": null,
   "metadata": {
    "collapsed": true
   },
   "outputs": [],
   "source": []
  }
 ],
 "metadata": {
  "anaconda-cloud": {},
  "kernelspec": {
   "display_name": "Python [conda root]",
   "language": "python",
   "name": "conda-root-py"
  },
  "language_info": {
   "codemirror_mode": {
    "name": "ipython",
    "version": 2
   },
   "file_extension": ".py",
   "mimetype": "text/x-python",
   "name": "python",
   "nbconvert_exporter": "python",
   "pygments_lexer": "ipython2",
   "version": "2.7.12"
  }
 },
 "nbformat": 4,
 "nbformat_minor": 1
}
